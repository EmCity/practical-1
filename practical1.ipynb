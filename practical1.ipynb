{
 "cells": [
  {
   "cell_type": "markdown",
   "metadata": {},
   "source": [
    "## Practical 1: word2vec\n",
    "<p>Oxford CS - Deep NLP 2017<br>\n",
    "https://www.cs.ox.ac.uk/teaching/courses/2016-2017/dl/</p>\n",
    "<p>[Yannis Assael, Brendan Shillingford, Chris Dyer]</p>"
   ]
  },
  {
   "cell_type": "markdown",
   "metadata": {},
   "source": [
    "This practical is presented as an IPython Notebook, with the code written for recent versions of **Python 3**. The code in this practical will not work with Python 2 unless you modify it. If you are using your own Python installation, ensure you have a setup identical to that described in the installation shell script (which is intended for use with the department lab machines). We will be unable to support installation on personal machines due to time constraints, so please use the lab machines and the setup script if you are unfamiliar with how to install Anaconda.\n",
    "\n",
    "To execute a notebook cell, press `shift-enter`. The return value of the last command will be displayed, if it is not `None`.\n",
    "\n",
    "Potentially useful library documentation, references, and resources:\n",
    "\n",
    "* IPython notebooks: <https://ipython.org/ipython-doc/3/notebook/notebook.html#introduction>\n",
    "* Numpy numerical array library: <https://docs.scipy.org/doc/>\n",
    "* Gensim's word2vec: <https://radimrehurek.com/gensim/models/word2vec.html>\n",
    "* Bokeh interactive plots: <http://bokeh.pydata.org/en/latest/> (we provide plotting code here, but click the thumbnails for more examples to copy-paste)\n",
    "* scikit-learn ML library (aka `sklearn`): <http://scikit-learn.org/stable/documentation.html>\n",
    "* nltk NLP toolkit: <http://www.nltk.org/>\n",
    "* tutorial for processing xml in python using `lxml`: <http://lxml.de/tutorial.html> (we did this for you below, but in case you need it in the future)"
   ]
  },
  {
   "cell_type": "code",
   "execution_count": 2,
   "metadata": {
    "collapsed": true
   },
   "outputs": [],
   "source": [
    "import numpy as np\n",
    "import os\n",
    "from random import shuffle\n",
    "import re"
   ]
  },
  {
   "cell_type": "code",
   "execution_count": 3,
   "metadata": {},
   "outputs": [
    {
     "data": {
      "text/html": [
       "\n",
       "    <div class=\"bk-root\">\n",
       "        <a href=\"https://bokeh.pydata.org\" target=\"_blank\" class=\"bk-logo bk-logo-small bk-logo-notebook\"></a>\n",
       "        <span id=\"d54e6974-8cd9-4b4e-9109-a01ee746076a\">Loading BokehJS ...</span>\n",
       "    </div>"
      ]
     },
     "metadata": {},
     "output_type": "display_data"
    },
    {
     "data": {
      "application/javascript": [
       "\n",
       "(function(root) {\n",
       "  function now() {\n",
       "    return new Date();\n",
       "  }\n",
       "\n",
       "  var force = true;\n",
       "\n",
       "  if (typeof (root._bokeh_onload_callbacks) === \"undefined\" || force === true) {\n",
       "    root._bokeh_onload_callbacks = [];\n",
       "    root._bokeh_is_loading = undefined;\n",
       "  }\n",
       "\n",
       "  var JS_MIME_TYPE = 'application/javascript';\n",
       "  var HTML_MIME_TYPE = 'text/html';\n",
       "  var EXEC_MIME_TYPE = 'application/vnd.bokehjs_exec.v0+json';\n",
       "  var CLASS_NAME = 'output_bokeh rendered_html';\n",
       "\n",
       "  /**\n",
       "   * Render data to the DOM node\n",
       "   */\n",
       "  function render(props, node) {\n",
       "    var script = document.createElement(\"script\");\n",
       "    node.appendChild(script);\n",
       "  }\n",
       "\n",
       "  /**\n",
       "   * Handle when an output is cleared or removed\n",
       "   */\n",
       "  function handleClearOutput(event, handle) {\n",
       "    var cell = handle.cell;\n",
       "\n",
       "    var id = cell.output_area._bokeh_element_id;\n",
       "    var server_id = cell.output_area._bokeh_server_id;\n",
       "    // Clean up Bokeh references\n",
       "    if (id !== undefined) {\n",
       "      Bokeh.index[id].model.document.clear();\n",
       "      delete Bokeh.index[id];\n",
       "    }\n",
       "\n",
       "    if (server_id !== undefined) {\n",
       "      // Clean up Bokeh references\n",
       "      var cmd = \"from bokeh.io.state import curstate; print(curstate().uuid_to_server['\" + server_id + \"'].get_sessions()[0].document.roots[0]._id)\";\n",
       "      cell.notebook.kernel.execute(cmd, {\n",
       "        iopub: {\n",
       "          output: function(msg) {\n",
       "            var element_id = msg.content.text.trim();\n",
       "            Bokeh.index[element_id].model.document.clear();\n",
       "            delete Bokeh.index[element_id];\n",
       "          }\n",
       "        }\n",
       "      });\n",
       "      // Destroy server and session\n",
       "      var cmd = \"import bokeh.io.notebook as ion; ion.destroy_server('\" + server_id + \"')\";\n",
       "      cell.notebook.kernel.execute(cmd);\n",
       "    }\n",
       "  }\n",
       "\n",
       "  /**\n",
       "   * Handle when a new output is added\n",
       "   */\n",
       "  function handleAddOutput(event, handle) {\n",
       "    var output_area = handle.output_area;\n",
       "    var output = handle.output;\n",
       "\n",
       "    // limit handleAddOutput to display_data with EXEC_MIME_TYPE content only\n",
       "    if ((output.output_type != \"display_data\") || (!output.data.hasOwnProperty(EXEC_MIME_TYPE))) {\n",
       "      return\n",
       "    }\n",
       "\n",
       "    var toinsert = output_area.element.find(`.${CLASS_NAME.split(' ')[0]}`);\n",
       "\n",
       "    if (output.metadata[EXEC_MIME_TYPE][\"id\"] !== undefined) {\n",
       "      toinsert[0].firstChild.textContent = output.data[JS_MIME_TYPE];\n",
       "      // store reference to embed id on output_area\n",
       "      output_area._bokeh_element_id = output.metadata[EXEC_MIME_TYPE][\"id\"];\n",
       "    }\n",
       "    if (output.metadata[EXEC_MIME_TYPE][\"server_id\"] !== undefined) {\n",
       "      var bk_div = document.createElement(\"div\");\n",
       "      bk_div.innerHTML = output.data[HTML_MIME_TYPE];\n",
       "      var script_attrs = bk_div.children[0].attributes;\n",
       "      for (var i = 0; i < script_attrs.length; i++) {\n",
       "        toinsert[0].firstChild.setAttribute(script_attrs[i].name, script_attrs[i].value);\n",
       "      }\n",
       "      // store reference to server id on output_area\n",
       "      output_area._bokeh_server_id = output.metadata[EXEC_MIME_TYPE][\"server_id\"];\n",
       "    }\n",
       "  }\n",
       "\n",
       "  function register_renderer(events, OutputArea) {\n",
       "\n",
       "    function append_mime(data, metadata, element) {\n",
       "      // create a DOM node to render to\n",
       "      var toinsert = this.create_output_subarea(\n",
       "        metadata,\n",
       "        CLASS_NAME,\n",
       "        EXEC_MIME_TYPE\n",
       "      );\n",
       "      this.keyboard_manager.register_events(toinsert);\n",
       "      // Render to node\n",
       "      var props = {data: data, metadata: metadata[EXEC_MIME_TYPE]};\n",
       "      render(props, toinsert[0]);\n",
       "      element.append(toinsert);\n",
       "      return toinsert\n",
       "    }\n",
       "\n",
       "    /* Handle when an output is cleared or removed */\n",
       "    events.on('clear_output.CodeCell', handleClearOutput);\n",
       "    events.on('delete.Cell', handleClearOutput);\n",
       "\n",
       "    /* Handle when a new output is added */\n",
       "    events.on('output_added.OutputArea', handleAddOutput);\n",
       "\n",
       "    /**\n",
       "     * Register the mime type and append_mime function with output_area\n",
       "     */\n",
       "    OutputArea.prototype.register_mime_type(EXEC_MIME_TYPE, append_mime, {\n",
       "      /* Is output safe? */\n",
       "      safe: true,\n",
       "      /* Index of renderer in `output_area.display_order` */\n",
       "      index: 0\n",
       "    });\n",
       "  }\n",
       "\n",
       "  // register the mime type if in Jupyter Notebook environment and previously unregistered\n",
       "  if (root.Jupyter !== undefined) {\n",
       "    var events = require('base/js/events');\n",
       "    var OutputArea = require('notebook/js/outputarea').OutputArea;\n",
       "\n",
       "    if (OutputArea.prototype.mime_types().indexOf(EXEC_MIME_TYPE) == -1) {\n",
       "      register_renderer(events, OutputArea);\n",
       "    }\n",
       "  }\n",
       "\n",
       "  \n",
       "  if (typeof (root._bokeh_timeout) === \"undefined\" || force === true) {\n",
       "    root._bokeh_timeout = Date.now() + 5000;\n",
       "    root._bokeh_failed_load = false;\n",
       "  }\n",
       "\n",
       "  var NB_LOAD_WARNING = {'data': {'text/html':\n",
       "     \"<div style='background-color: #fdd'>\\n\"+\n",
       "     \"<p>\\n\"+\n",
       "     \"BokehJS does not appear to have successfully loaded. If loading BokehJS from CDN, this \\n\"+\n",
       "     \"may be due to a slow or bad network connection. Possible fixes:\\n\"+\n",
       "     \"</p>\\n\"+\n",
       "     \"<ul>\\n\"+\n",
       "     \"<li>re-rerun `output_notebook()` to attempt to load from CDN again, or</li>\\n\"+\n",
       "     \"<li>use INLINE resources instead, as so:</li>\\n\"+\n",
       "     \"</ul>\\n\"+\n",
       "     \"<code>\\n\"+\n",
       "     \"from bokeh.resources import INLINE\\n\"+\n",
       "     \"output_notebook(resources=INLINE)\\n\"+\n",
       "     \"</code>\\n\"+\n",
       "     \"</div>\"}};\n",
       "\n",
       "  function display_loaded() {\n",
       "    var el = document.getElementById(\"d54e6974-8cd9-4b4e-9109-a01ee746076a\");\n",
       "    if (el != null) {\n",
       "      el.textContent = \"BokehJS is loading...\";\n",
       "    }\n",
       "    if (root.Bokeh !== undefined) {\n",
       "      if (el != null) {\n",
       "        el.textContent = \"BokehJS \" + root.Bokeh.version + \" successfully loaded.\";\n",
       "      }\n",
       "    } else if (Date.now() < root._bokeh_timeout) {\n",
       "      setTimeout(display_loaded, 100)\n",
       "    }\n",
       "  }\n",
       "\n",
       "\n",
       "  function run_callbacks() {\n",
       "    try {\n",
       "      root._bokeh_onload_callbacks.forEach(function(callback) { callback() });\n",
       "    }\n",
       "    finally {\n",
       "      delete root._bokeh_onload_callbacks\n",
       "    }\n",
       "    console.info(\"Bokeh: all callbacks have finished\");\n",
       "  }\n",
       "\n",
       "  function load_libs(js_urls, callback) {\n",
       "    root._bokeh_onload_callbacks.push(callback);\n",
       "    if (root._bokeh_is_loading > 0) {\n",
       "      console.log(\"Bokeh: BokehJS is being loaded, scheduling callback at\", now());\n",
       "      return null;\n",
       "    }\n",
       "    if (js_urls == null || js_urls.length === 0) {\n",
       "      run_callbacks();\n",
       "      return null;\n",
       "    }\n",
       "    console.log(\"Bokeh: BokehJS not loaded, scheduling load and callback at\", now());\n",
       "    root._bokeh_is_loading = js_urls.length;\n",
       "    for (var i = 0; i < js_urls.length; i++) {\n",
       "      var url = js_urls[i];\n",
       "      var s = document.createElement('script');\n",
       "      s.src = url;\n",
       "      s.async = false;\n",
       "      s.onreadystatechange = s.onload = function() {\n",
       "        root._bokeh_is_loading--;\n",
       "        if (root._bokeh_is_loading === 0) {\n",
       "          console.log(\"Bokeh: all BokehJS libraries loaded\");\n",
       "          run_callbacks()\n",
       "        }\n",
       "      };\n",
       "      s.onerror = function() {\n",
       "        console.warn(\"failed to load library \" + url);\n",
       "      };\n",
       "      console.log(\"Bokeh: injecting script tag for BokehJS library: \", url);\n",
       "      document.getElementsByTagName(\"head\")[0].appendChild(s);\n",
       "    }\n",
       "  };var element = document.getElementById(\"d54e6974-8cd9-4b4e-9109-a01ee746076a\");\n",
       "  if (element == null) {\n",
       "    console.log(\"Bokeh: ERROR: autoload.js configured with elementid 'd54e6974-8cd9-4b4e-9109-a01ee746076a' but no matching script tag was found. \")\n",
       "    return false;\n",
       "  }\n",
       "\n",
       "  var js_urls = [\"https://cdn.pydata.org/bokeh/release/bokeh-0.12.10.min.js\", \"https://cdn.pydata.org/bokeh/release/bokeh-widgets-0.12.10.min.js\", \"https://cdn.pydata.org/bokeh/release/bokeh-tables-0.12.10.min.js\", \"https://cdn.pydata.org/bokeh/release/bokeh-gl-0.12.10.min.js\"];\n",
       "\n",
       "  var inline_js = [\n",
       "    function(Bokeh) {\n",
       "      Bokeh.set_log_level(\"info\");\n",
       "    },\n",
       "    \n",
       "    function(Bokeh) {\n",
       "      \n",
       "    },\n",
       "    function(Bokeh) {\n",
       "      console.log(\"Bokeh: injecting CSS: https://cdn.pydata.org/bokeh/release/bokeh-0.12.10.min.css\");\n",
       "      Bokeh.embed.inject_css(\"https://cdn.pydata.org/bokeh/release/bokeh-0.12.10.min.css\");\n",
       "      console.log(\"Bokeh: injecting CSS: https://cdn.pydata.org/bokeh/release/bokeh-widgets-0.12.10.min.css\");\n",
       "      Bokeh.embed.inject_css(\"https://cdn.pydata.org/bokeh/release/bokeh-widgets-0.12.10.min.css\");\n",
       "      console.log(\"Bokeh: injecting CSS: https://cdn.pydata.org/bokeh/release/bokeh-tables-0.12.10.min.css\");\n",
       "      Bokeh.embed.inject_css(\"https://cdn.pydata.org/bokeh/release/bokeh-tables-0.12.10.min.css\");\n",
       "    }\n",
       "  ];\n",
       "\n",
       "  function run_inline_js() {\n",
       "    \n",
       "    if ((root.Bokeh !== undefined) || (force === true)) {\n",
       "      for (var i = 0; i < inline_js.length; i++) {\n",
       "        inline_js[i].call(root, root.Bokeh);\n",
       "      }if (force === true) {\n",
       "        display_loaded();\n",
       "      }} else if (Date.now() < root._bokeh_timeout) {\n",
       "      setTimeout(run_inline_js, 100);\n",
       "    } else if (!root._bokeh_failed_load) {\n",
       "      console.log(\"Bokeh: BokehJS failed to load within specified timeout.\");\n",
       "      root._bokeh_failed_load = true;\n",
       "    } else if (force !== true) {\n",
       "      var cell = $(document.getElementById(\"d54e6974-8cd9-4b4e-9109-a01ee746076a\")).parents('.cell').data().cell;\n",
       "      cell.output_area.append_execute_result(NB_LOAD_WARNING)\n",
       "    }\n",
       "\n",
       "  }\n",
       "\n",
       "  if (root._bokeh_is_loading === 0) {\n",
       "    console.log(\"Bokeh: BokehJS loaded, going straight to plotting\");\n",
       "    run_inline_js();\n",
       "  } else {\n",
       "    load_libs(js_urls, function() {\n",
       "      console.log(\"Bokeh: BokehJS plotting callback run at\", now());\n",
       "      run_inline_js();\n",
       "    });\n",
       "  }\n",
       "}(window));"
      ],
      "application/vnd.bokehjs_load.v0+json": "\n(function(root) {\n  function now() {\n    return new Date();\n  }\n\n  var force = true;\n\n  if (typeof (root._bokeh_onload_callbacks) === \"undefined\" || force === true) {\n    root._bokeh_onload_callbacks = [];\n    root._bokeh_is_loading = undefined;\n  }\n\n  \n\n  \n  if (typeof (root._bokeh_timeout) === \"undefined\" || force === true) {\n    root._bokeh_timeout = Date.now() + 5000;\n    root._bokeh_failed_load = false;\n  }\n\n  var NB_LOAD_WARNING = {'data': {'text/html':\n     \"<div style='background-color: #fdd'>\\n\"+\n     \"<p>\\n\"+\n     \"BokehJS does not appear to have successfully loaded. If loading BokehJS from CDN, this \\n\"+\n     \"may be due to a slow or bad network connection. Possible fixes:\\n\"+\n     \"</p>\\n\"+\n     \"<ul>\\n\"+\n     \"<li>re-rerun `output_notebook()` to attempt to load from CDN again, or</li>\\n\"+\n     \"<li>use INLINE resources instead, as so:</li>\\n\"+\n     \"</ul>\\n\"+\n     \"<code>\\n\"+\n     \"from bokeh.resources import INLINE\\n\"+\n     \"output_notebook(resources=INLINE)\\n\"+\n     \"</code>\\n\"+\n     \"</div>\"}};\n\n  function display_loaded() {\n    var el = document.getElementById(\"d54e6974-8cd9-4b4e-9109-a01ee746076a\");\n    if (el != null) {\n      el.textContent = \"BokehJS is loading...\";\n    }\n    if (root.Bokeh !== undefined) {\n      if (el != null) {\n        el.textContent = \"BokehJS \" + root.Bokeh.version + \" successfully loaded.\";\n      }\n    } else if (Date.now() < root._bokeh_timeout) {\n      setTimeout(display_loaded, 100)\n    }\n  }\n\n\n  function run_callbacks() {\n    try {\n      root._bokeh_onload_callbacks.forEach(function(callback) { callback() });\n    }\n    finally {\n      delete root._bokeh_onload_callbacks\n    }\n    console.info(\"Bokeh: all callbacks have finished\");\n  }\n\n  function load_libs(js_urls, callback) {\n    root._bokeh_onload_callbacks.push(callback);\n    if (root._bokeh_is_loading > 0) {\n      console.log(\"Bokeh: BokehJS is being loaded, scheduling callback at\", now());\n      return null;\n    }\n    if (js_urls == null || js_urls.length === 0) {\n      run_callbacks();\n      return null;\n    }\n    console.log(\"Bokeh: BokehJS not loaded, scheduling load and callback at\", now());\n    root._bokeh_is_loading = js_urls.length;\n    for (var i = 0; i < js_urls.length; i++) {\n      var url = js_urls[i];\n      var s = document.createElement('script');\n      s.src = url;\n      s.async = false;\n      s.onreadystatechange = s.onload = function() {\n        root._bokeh_is_loading--;\n        if (root._bokeh_is_loading === 0) {\n          console.log(\"Bokeh: all BokehJS libraries loaded\");\n          run_callbacks()\n        }\n      };\n      s.onerror = function() {\n        console.warn(\"failed to load library \" + url);\n      };\n      console.log(\"Bokeh: injecting script tag for BokehJS library: \", url);\n      document.getElementsByTagName(\"head\")[0].appendChild(s);\n    }\n  };var element = document.getElementById(\"d54e6974-8cd9-4b4e-9109-a01ee746076a\");\n  if (element == null) {\n    console.log(\"Bokeh: ERROR: autoload.js configured with elementid 'd54e6974-8cd9-4b4e-9109-a01ee746076a' but no matching script tag was found. \")\n    return false;\n  }\n\n  var js_urls = [\"https://cdn.pydata.org/bokeh/release/bokeh-0.12.10.min.js\", \"https://cdn.pydata.org/bokeh/release/bokeh-widgets-0.12.10.min.js\", \"https://cdn.pydata.org/bokeh/release/bokeh-tables-0.12.10.min.js\", \"https://cdn.pydata.org/bokeh/release/bokeh-gl-0.12.10.min.js\"];\n\n  var inline_js = [\n    function(Bokeh) {\n      Bokeh.set_log_level(\"info\");\n    },\n    \n    function(Bokeh) {\n      \n    },\n    function(Bokeh) {\n      console.log(\"Bokeh: injecting CSS: https://cdn.pydata.org/bokeh/release/bokeh-0.12.10.min.css\");\n      Bokeh.embed.inject_css(\"https://cdn.pydata.org/bokeh/release/bokeh-0.12.10.min.css\");\n      console.log(\"Bokeh: injecting CSS: https://cdn.pydata.org/bokeh/release/bokeh-widgets-0.12.10.min.css\");\n      Bokeh.embed.inject_css(\"https://cdn.pydata.org/bokeh/release/bokeh-widgets-0.12.10.min.css\");\n      console.log(\"Bokeh: injecting CSS: https://cdn.pydata.org/bokeh/release/bokeh-tables-0.12.10.min.css\");\n      Bokeh.embed.inject_css(\"https://cdn.pydata.org/bokeh/release/bokeh-tables-0.12.10.min.css\");\n    }\n  ];\n\n  function run_inline_js() {\n    \n    if ((root.Bokeh !== undefined) || (force === true)) {\n      for (var i = 0; i < inline_js.length; i++) {\n        inline_js[i].call(root, root.Bokeh);\n      }if (force === true) {\n        display_loaded();\n      }} else if (Date.now() < root._bokeh_timeout) {\n      setTimeout(run_inline_js, 100);\n    } else if (!root._bokeh_failed_load) {\n      console.log(\"Bokeh: BokehJS failed to load within specified timeout.\");\n      root._bokeh_failed_load = true;\n    } else if (force !== true) {\n      var cell = $(document.getElementById(\"d54e6974-8cd9-4b4e-9109-a01ee746076a\")).parents('.cell').data().cell;\n      cell.output_area.append_execute_result(NB_LOAD_WARNING)\n    }\n\n  }\n\n  if (root._bokeh_is_loading === 0) {\n    console.log(\"Bokeh: BokehJS loaded, going straight to plotting\");\n    run_inline_js();\n  } else {\n    load_libs(js_urls, function() {\n      console.log(\"Bokeh: BokehJS plotting callback run at\", now());\n      run_inline_js();\n    });\n  }\n}(window));"
     },
     "metadata": {},
     "output_type": "display_data"
    }
   ],
   "source": [
    "from bokeh.models import ColumnDataSource, LabelSet\n",
    "from bokeh.plotting import figure, show, output_file\n",
    "from bokeh.io import output_notebook\n",
    "output_notebook()"
   ]
  },
  {
   "cell_type": "markdown",
   "metadata": {},
   "source": [
    "### Part 0: Download the TED dataset"
   ]
  },
  {
   "cell_type": "code",
   "execution_count": 4,
   "metadata": {
    "collapsed": true
   },
   "outputs": [],
   "source": [
    "import urllib.request\n",
    "import zipfile\n",
    "import lxml.etree"
   ]
  },
  {
   "cell_type": "code",
   "execution_count": 5,
   "metadata": {
    "collapsed": true
   },
   "outputs": [],
   "source": [
    "# Download the dataset if it's not already there: this may take a minute as it is 75MB\n",
    "if not os.path.isfile('ted_en-20160408.zip'):\n",
    "    urllib.request.urlretrieve(\"https://wit3.fbk.eu/get.php?path=XML_releases/xml/ted_en-20160408.zip&filename=ted_en-20160408.zip\", filename=\"ted_en-20160408.zip\")"
   ]
  },
  {
   "cell_type": "code",
   "execution_count": 6,
   "metadata": {
    "collapsed": true
   },
   "outputs": [],
   "source": [
    "# For now, we're only interested in the subtitle text, so let's extract that from the XML:\n",
    "with zipfile.ZipFile('ted_en-20160408.zip', 'r') as z:\n",
    "    doc = lxml.etree.parse(z.open('ted_en-20160408.xml', 'r'))\n",
    "input_text = '\\n'.join(doc.xpath('//content/text()'))\n",
    "del doc"
   ]
  },
  {
   "cell_type": "markdown",
   "metadata": {},
   "source": [
    "### Part 1: Preprocessing\n",
    "\n",
    "In this part, we attempt to clean up the raw subtitles a bit, so that we get only sentences. The following substring shows examples of what we're trying to get rid of. Since it's hard to define precisely what we want to get rid of, we'll just use some simple heuristics."
   ]
  },
  {
   "cell_type": "code",
   "execution_count": 7,
   "metadata": {
    "scrolled": false
   },
   "outputs": [
    {
     "data": {
      "text/plain": [
       "' baby does.\\n(Video) Hyowon Gweon: See this? (Ball squeaks) Did you see that? (Ball squeaks) Cool. See this one? (Ball squeaks) Wow.\\nLaura Schulz: Told you. (Laughs)\\n(Vide'"
      ]
     },
     "execution_count": 7,
     "metadata": {},
     "output_type": "execute_result"
    }
   ],
   "source": [
    "i = input_text.find(\"Hyowon Gweon: See this?\")\n",
    "input_text[i-20:i+150]"
   ]
  },
  {
   "cell_type": "markdown",
   "metadata": {},
   "source": [
    "Let's start by removing all parenthesized strings using a regex:"
   ]
  },
  {
   "cell_type": "code",
   "execution_count": 8,
   "metadata": {
    "collapsed": true
   },
   "outputs": [],
   "source": [
    "input_text_noparens = re.sub(r'\\([^)]*\\)', '', input_text)"
   ]
  },
  {
   "cell_type": "markdown",
   "metadata": {},
   "source": [
    "We can verify the same location in the text is now clean as follows. We won't worry about the irregular spaces since we'll later split the text into sentences and tokenize it anyway."
   ]
  },
  {
   "cell_type": "code",
   "execution_count": 9,
   "metadata": {},
   "outputs": [
    {
     "data": {
      "text/plain": [
       "\"hat the baby does.\\n Hyowon Gweon: See this?  Did you see that?  Cool. See this one?  Wow.\\nLaura Schulz: Told you. \\n HG: See this one?  Hey Clara, this one's for you. You \""
      ]
     },
     "execution_count": 9,
     "metadata": {},
     "output_type": "execute_result"
    }
   ],
   "source": [
    "i = input_text_noparens.find(\"Hyowon Gweon: See this?\")\n",
    "input_text_noparens[i-20:i+150]"
   ]
  },
  {
   "cell_type": "markdown",
   "metadata": {},
   "source": [
    "Now, let's attempt to remove speakers' names that occur at the beginning of a line, by deleting pieces of the form \"`<up to 20 characters>:`\", as shown in this example. Of course, this is an imperfect heuristic. "
   ]
  },
  {
   "cell_type": "code",
   "execution_count": 10,
   "metadata": {},
   "outputs": [
    {
     "data": {
      "text/plain": [
       "[\"Here are two reasons companies fail: they only do more of the same, or they only do what's new\",\n",
       " 'To me the real, real solution to quality growth is figuring out the balance between two activities: exploration and exploitation',\n",
       " ' Both are necessary, but it can be too much of a good thing',\n",
       " 'Consider Facit',\n",
       " \" I'm actually old enough to remember them\"]"
      ]
     },
     "execution_count": 10,
     "metadata": {},
     "output_type": "execute_result"
    }
   ],
   "source": [
    "sentences_strings_ted = []\n",
    "for line in input_text_noparens.split('\\n'):\n",
    "    m = re.match(r'^(?:(?P<precolon>[^:]{,20}):)?(?P<postcolon>.*)$', line)\n",
    "    sentences_strings_ted.extend(sent for sent in m.groupdict()['postcolon'].split('.') if sent)\n",
    "\n",
    "# Uncomment if you need to save some RAM: these strings are about 50MB.\n",
    "# del input_text, input_text_noparens\n",
    "\n",
    "# Let's view the first few:\n",
    "sentences_strings_ted[:5]"
   ]
  },
  {
   "cell_type": "markdown",
   "metadata": {},
   "source": [
    "Now that we have sentences, we're ready to tokenize each of them into words. This tokenization is imperfect, of course. For instance, how many tokens is \"can't\", and where/how do we split it? We'll take the simplest naive approach of splitting on spaces. Before splitting, we remove non-alphanumeric characters, such as punctuation. You may want to consider the following question: why do we replace these characters with spaces rather than deleting them? Think of a case where this yields a different answer."
   ]
  },
  {
   "cell_type": "code",
   "execution_count": 11,
   "metadata": {
    "collapsed": true
   },
   "outputs": [],
   "source": [
    "sentences_ted = []\n",
    "for sent_str in sentences_strings_ted:\n",
    "    tokens = re.sub(r\"[^a-z0-9]+\", \" \", sent_str.lower()).split()\n",
    "    sentences_ted.append(tokens)"
   ]
  },
  {
   "cell_type": "markdown",
   "metadata": {},
   "source": [
    "Two sample processed sentences:"
   ]
  },
  {
   "cell_type": "code",
   "execution_count": 12,
   "metadata": {},
   "outputs": [
    {
     "data": {
      "text/plain": [
       "266694"
      ]
     },
     "execution_count": 12,
     "metadata": {},
     "output_type": "execute_result"
    }
   ],
   "source": [
    "len(sentences_ted)"
   ]
  },
  {
   "cell_type": "code",
   "execution_count": 13,
   "metadata": {},
   "outputs": [
    {
     "name": "stdout",
     "output_type": "stream",
     "text": [
      "['here', 'are', 'two', 'reasons', 'companies', 'fail', 'they', 'only', 'do', 'more', 'of', 'the', 'same', 'or', 'they', 'only', 'do', 'what', 's', 'new']\n",
      "['to', 'me', 'the', 'real', 'real', 'solution', 'to', 'quality', 'growth', 'is', 'figuring', 'out', 'the', 'balance', 'between', 'two', 'activities', 'exploration', 'and', 'exploitation']\n"
     ]
    }
   ],
   "source": [
    "print(sentences_ted[0])\n",
    "print(sentences_ted[1])"
   ]
  },
  {
   "cell_type": "markdown",
   "metadata": {},
   "source": [
    "### Part 2: Word Frequencies"
   ]
  },
  {
   "cell_type": "markdown",
   "metadata": {},
   "source": [
    "If you store the counts of the top 1000 words in a list called `counts_ted_top1000`, the code below will plot the histogram requested in the writeup."
   ]
  },
  {
   "cell_type": "code",
   "execution_count": 14,
   "metadata": {},
   "outputs": [
    {
     "name": "stdout",
     "output_type": "stream",
     "text": [
      "['the', 'and', 'to', 'of', 'a', 'that', 'i', 'in', 'it', 'you', 'we', 'is', 's', 'this', 'so', 'they', 'was', 'for', 'are', 'have', 'but', 'what', 'on', 'with', 'can', 't', 'about', 'there', 'be', 'as', 'at', 'all', 'not', 'do', 'my', 'one', 're', 'people', 'like', 'if', 'from', 'now', 'our', 'he', 'an', 'just', 'these', 'or', 'when', 'because', 'very', 'me', 'out', 'by', 'them', 'how', 'know', 'up', 'going', 'had', 'more', 'think', 'who', 'were', 'see', 'your', 'their', 'which', 'would', 'here', 'really', 'get', 've', 'then', 'm', 'world', 'us', 'time', 'some', 'has', 'don', 'actually', 'into', 'way', 'where', 'will', 'years', 'things', 'other', 'no', 'could', 'go', 'well', 'want', 'been', 'make', 'right', 'she', 'said', 'something']\n",
      "[207748, 149305, 125169, 114818, 105399, 95146, 83180, 78070, 74738, 70923, 67629, 63251, 57156, 49241, 37014, 33102, 30806, 29713, 27995, 27344, 26732, 26519, 25962, 24706, 23377, 22757, 21246, 21041, 20201, 19488, 19216, 19021, 18626, 17928, 17908, 17551, 17012, 16723, 16273, 15868, 15452, 14387, 14061, 13986, 13917, 13896, 13882, 13864, 13278, 12879, 12363, 12302, 12163, 11935, 11595, 11576, 11506, 11445, 11366, 10902, 10900, 10463, 10446, 10180, 10179, 10091, 10029, 10021, 9911, 9872, 9675, 9376, 9312, 9239, 9160, 8906, 8841, 8823, 8629, 8262, 8256, 8011, 7858, 7735, 7724, 7617, 7537, 7536, 7281, 7227, 7183, 7168, 7141, 7119, 6937, 6806, 6521, 6424, 6358, 6307]\n",
      "Finished processing\n"
     ]
    }
   ],
   "source": [
    "# ...\n",
    "#type(sentences_ted)\n",
    "#type(sentences_ted[0])\n",
    "#word occurences\n",
    "words = {} #empty dict\n",
    "for s in sentences_ted: #iterate through the sentences\n",
    "    for w in s: #iterate through the words\n",
    "        if w not in words:\n",
    "            words[w] = 0\n",
    "        words[w] += 1 #increment occurency of word\n",
    "\n",
    "#sanity check the words dict\n",
    "#print(words)\n",
    "#Now sort the list for its highest values\n",
    "result = sorted(words, key=lambda k: words[k], reverse=True)\n",
    "print(result[:100])\n",
    "#Get the counts from the most common keys with list comprehension\n",
    "counts = [words[i] for i in result]\n",
    "print(counts[:100])\n",
    "#Take only the first 1000 words in the list\n",
    "counts_ted_top1000 = counts[:1000]\n",
    "print('Finished processing')"
   ]
  },
  {
   "cell_type": "markdown",
   "metadata": {},
   "source": [
    "Plot distribution of top-1000 words"
   ]
  },
  {
   "cell_type": "code",
   "execution_count": 15,
   "metadata": {},
   "outputs": [
    {
     "data": {
      "text/html": [
       "\n",
       "<div class=\"bk-root\">\n",
       "    <div class=\"bk-plotdiv\" id=\"6e054431-1966-4a55-83b3-241103b1b090\"></div>\n",
       "</div>"
      ]
     },
     "metadata": {},
     "output_type": "display_data"
    },
    {
     "data": {
      "application/javascript": [
       "(function(root) {\n",
       "  function embed_document(root) {\n",
       "    var docs_json = {\"b753a50a-4ed2-4bcb-a87c-e6f78641469c\":{\"roots\":{\"references\":[{\"attributes\":{\"source\":{\"id\":\"52db534a-cc1a-4d80-b0f5-093ec914fce1\",\"type\":\"ColumnDataSource\"}},\"id\":\"e1838333-8cee-4390-991a-3a9c651a8440\",\"type\":\"CDSView\"},{\"attributes\":{},\"id\":\"4e2c6984-d08f-46b0-a33f-9d233bfdfce8\",\"type\":\"ResetTool\"},{\"attributes\":{\"bottom\":{\"value\":0},\"fill_alpha\":{\"value\":0.1},\"fill_color\":{\"value\":\"#1f77b4\"},\"left\":{\"field\":\"left\"},\"line_alpha\":{\"value\":0.1},\"line_color\":{\"value\":\"#1f77b4\"},\"right\":{\"field\":\"right\"},\"top\":{\"field\":\"top\"}},\"id\":\"2bbb8abb-290f-4137-91bc-373ebc7ac849\",\"type\":\"Quad\"},{\"attributes\":{\"bottom\":{\"value\":0},\"fill_color\":{\"value\":\"#1f77b4\"},\"left\":{\"field\":\"left\"},\"line_color\":{\"value\":\"#555555\"},\"right\":{\"field\":\"right\"},\"top\":{\"field\":\"top\"}},\"id\":\"d752dd7f-0587-4b88-8c5b-9d118179b748\",\"type\":\"Quad\"},{\"attributes\":{\"data_source\":{\"id\":\"52db534a-cc1a-4d80-b0f5-093ec914fce1\",\"type\":\"ColumnDataSource\"},\"glyph\":{\"id\":\"d752dd7f-0587-4b88-8c5b-9d118179b748\",\"type\":\"Quad\"},\"hover_glyph\":null,\"muted_glyph\":null,\"nonselection_glyph\":{\"id\":\"2bbb8abb-290f-4137-91bc-373ebc7ac849\",\"type\":\"Quad\"},\"selection_glyph\":null,\"view\":{\"id\":\"e1838333-8cee-4390-991a-3a9c651a8440\",\"type\":\"CDSView\"}},\"id\":\"24f7c3c6-9d14-4d2b-8974-ab759b99e15c\",\"type\":\"GlyphRenderer\"},{\"attributes\":{},\"id\":\"659d2e02-b5ed-41c7-b105-8d84694ea907\",\"type\":\"PanTool\"},{\"attributes\":{\"below\":[{\"id\":\"4f0a4fd4-95f3-4881-9744-9516ef616e8c\",\"type\":\"LinearAxis\"}],\"left\":[{\"id\":\"0b05db32-8574-4105-b111-fc853f4967ac\",\"type\":\"LinearAxis\"}],\"renderers\":[{\"id\":\"4f0a4fd4-95f3-4881-9744-9516ef616e8c\",\"type\":\"LinearAxis\"},{\"id\":\"bd8b6760-5338-41ee-a976-58790e06ba7b\",\"type\":\"Grid\"},{\"id\":\"0b05db32-8574-4105-b111-fc853f4967ac\",\"type\":\"LinearAxis\"},{\"id\":\"caba3c0b-16fa-482b-b620-90053808bf1e\",\"type\":\"Grid\"},{\"id\":\"24f7c3c6-9d14-4d2b-8974-ab759b99e15c\",\"type\":\"GlyphRenderer\"}],\"title\":{\"id\":\"33db4a35-f8db-415e-aeb8-925dd661946e\",\"type\":\"Title\"},\"toolbar\":{\"id\":\"856a1dfd-5421-4eb6-8a90-d1574916ee37\",\"type\":\"Toolbar\"},\"toolbar_location\":\"above\",\"x_range\":{\"id\":\"c03dcab4-f488-454e-9643-5c266e9e8c66\",\"type\":\"DataRange1d\"},\"x_scale\":{\"id\":\"f9d8929a-3bf6-486c-ac13-66545d9e3617\",\"type\":\"LinearScale\"},\"y_range\":{\"id\":\"d7fc50d2-b95d-48b3-ad54-1cd1ec194a96\",\"type\":\"DataRange1d\"},\"y_scale\":{\"id\":\"e46db61b-d3c3-4b9d-958c-2f8186b52e19\",\"type\":\"LinearScale\"}},\"id\":\"9e4c7f90-9963-488a-9029-d0debc9eda10\",\"subtype\":\"Figure\",\"type\":\"Plot\"},{\"attributes\":{},\"id\":\"a6048262-84d3-410a-987a-3cd54124aaba\",\"type\":\"SaveTool\"},{\"attributes\":{\"callback\":null,\"column_names\":[\"left\",\"right\",\"top\"],\"data\":{\"left\":{\"__ndarray__\":\"AAAAAABAeUB7FK5H4VqjQHsUrkfhxrFAuB6F61HguUB7FK5H4fzAQJqZmZmZCcVAuB6F61EWyUDXo3A9CiPNQHsUrkfhl9BACtejcD2e0kCamZmZmaTUQClcj8L1qtZAuB6F61Gx2EBI4XoUrrfaQNejcD0KvtxAZ2ZmZmbE3kB7FK5HYWXgQMP1KFyPaOFACtejcL1r4kBSuB6F627jQJqZmZkZcuRA4XoUrkd15UApXI/CdXjmQHE9Cteje+dAuB6F69F+6EAAAAAAAILpQEjhehQuhepAkML1KFyI60DXo3A9iovsQB+F61G4ju1AZ2ZmZuaR7kCuR+F6FJXvQHsUrkchTPBAH4XrUbjN8EDD9ShcT0/xQGdmZmbm0PFACtejcH1S8kCuR+F6FNTyQFK4HoWrVfNA9ihcj0LX80CamZmZ2Vj0QD4K16Nw2vRA4XoUrgdc9UCF61G4nt31QClcj8I1X/ZAzczMzMzg9kBxPQrXY2L3QBWuR+H64/dAuB6F65Fl+EBcj8L1KOf4QAAAAADAaPlApHA9Clfq+UBI4XoU7mv6QOxRuB6F7fpAkML1KBxv+0AzMzMzs/D7QNejcD1KcvxAexSuR+Hz/EAfhetReHX9QMP1KFwP9/1AZ2ZmZqZ4/kAK16NwPfr+QK5H4XrUe/9AUrgehWv9/0B7FK5HgT8AQc3MzMxMgABBH4XrURjBAEFxPQrX4wEBQcP1KFyvQgFBFa5H4XqDAUFnZmZmRsQBQbgehesRBQJBCtejcN1FAkFcj8L1qIYCQa5H4Xp0xwJBAAAAAEAIA0FSuB6FC0kDQaRwPQrXiQNB9ihcj6LKA0FI4XoUbgsEQZqZmZk5TARB7FG4HgWNBEE+Ctej0M0EQZDC9SicDgVB4XoUrmdPBUEzMzMzM5AFQYXrUbj+0AVB16NwPcoRBkEpXI/ClVIGQXsUrkdhkwZBzczMzCzUBkEfhetR+BQHQXE9CtfDVQdBw/UoXI+WB0EVrkfhWtcHQWdmZmYmGAhBuB6F6/FYCEEK16NwvZkIQVyPwvWI2ghBrkfhelQbCUE=\",\"dtype\":\"float64\",\"shape\":[100]},\"right\":{\"__ndarray__\":\"exSuR+Fao0B7FK5H4caxQLgehetR4LlAexSuR+H8wECamZmZmQnFQLgehetRFslA16NwPQojzUB7FK5H4ZfQQArXo3A9ntJAmpmZmZmk1EApXI/C9arWQLgehetRsdhASOF6FK632kDXo3A9Cr7cQGdmZmZmxN5AexSuR2Fl4EDD9Shcj2jhQArXo3C9a+JAUrgehetu40CamZmZGXLkQOF6FK5HdeVAKVyPwnV45kBxPQrXo3vnQLgehevRfuhAAAAAAACC6UBI4XoULoXqQJDC9ShciOtA16NwPYqL7EAfhetRuI7tQGdmZmbmke5ArkfhehSV70B7FK5HIUzwQB+F61G4zfBAw/UoXE9P8UBnZmZm5tDxQArXo3B9UvJArkfhehTU8kBSuB6Fq1XzQPYoXI9C1/NAmpmZmdlY9EA+CtejcNr0QOF6FK4HXPVAhetRuJ7d9UApXI/CNV/2QM3MzMzM4PZAcT0K12Ni90AVrkfh+uP3QLgeheuRZfhAXI/C9Sjn+EAAAAAAwGj5QKRwPQpX6vlASOF6FO5r+kDsUbgehe36QJDC9Sgcb/tAMzMzM7Pw+0DXo3A9SnL8QHsUrkfh8/xAH4XrUXh1/UDD9ShcD/f9QGdmZmameP5ACtejcD36/kCuR+F61Hv/QFK4HoVr/f9AexSuR4E/AEHNzMzMTIAAQR+F61EYwQBBcT0K1+MBAUHD9Shcr0IBQRWuR+F6gwFBZ2ZmZkbEAUG4HoXrEQUCQQrXo3DdRQJBXI/C9aiGAkGuR+F6dMcCQQAAAABACANBUrgehQtJA0GkcD0K14kDQfYoXI+iygNBSOF6FG4LBEGamZmZOUwEQexRuB4FjQRBPgrXo9DNBEGQwvUonA4FQeF6FK5nTwVBMzMzMzOQBUGF61G4/tAFQdejcD3KEQZBKVyPwpVSBkF7FK5HYZMGQc3MzMws1AZBH4XrUfgUB0FxPQrXw1UHQcP1KFyPlgdBFa5H4VrXB0FnZmZmJhgIQbgehevxWAhBCtejcL2ZCEFcj8L1iNoIQa5H4XpUGwlBAAAAACBcCUE=\",\"dtype\":\"float64\",\"shape\":[100]},\"top\":{\"__ndarray__\":\"50H1zNSBOT/ypb1tgHIBPwsriUb5Uew+zuTFiLI04j78kGUPxTHhPh40R25oQNY+zuTFiLI00j4pPQWW1y7APsTbB2FDRsg+JT0FltcuwD4tPQWW1y6wPi09BZbXLrA+JT0FltcuwD4tPQWW1y6gPiU9BZbXLrA+LT0FltcuoD4AAAAAAAAAADU9BZbXLqA+AAAAAAAAAAAAAAAAAAAAAAAAAAAAAAAAAAAAAAAAAAAAAAAAAAAAADU9BZbXLqA+AAAAAAAAAAAAAAAAAAAAAAAAAAAAAAAANT0FltcuoD4AAAAAAAAAAAAAAAAAAAAANT0FltcuoD4AAAAAAAAAACU9BZbXLqA+AAAAAAAAAAAlPQWW1y6gPkU9BZbXLqA+AAAAAAAAAAAlPQWW1y6gPgAAAAAAAAAAJT0FltcuoD4AAAAAAAAAAAAAAAAAAAAAAAAAAAAAAAAAAAAAAAAAAAAAAAAAAAAAJT0FltcuoD4AAAAAAAAAAAAAAAAAAAAAAAAAAAAAAAAAAAAAAAAAACU9BZbXLqA+AAAAAAAAAAAAAAAAAAAAAAAAAAAAAAAAAAAAAAAAAAAlPQWW1y6gPgAAAAAAAAAAAAAAAAAAAAAAAAAAAAAAAAAAAAAAAAAART0FltcuoD4AAAAAAAAAAAAAAAAAAAAAAAAAAAAAAAAAAAAAAAAAAAAAAAAAAAAAAAAAAAAAAAAAAAAAAAAAAAAAAAAAAAAAAAAAAAAAAAAAAAAAAAAAACU9BZbXLqA+AAAAAAAAAAAAAAAAAAAAAAAAAAAAAAAAAAAAAAAAAAAAAAAAAAAAAAAAAAAAAAAAAAAAAAAAAAAAAAAAAAAAAAAAAAAAAAAAAAAAAAAAAAAAAAAAAAAAAAAAAAAAAAAAAAAAAAAAAAAAAAAAAAAAAAAAAAAAAAAAAAAAAAAAAAAAAAAAAAAAAAAAAAAAAAAAAAAAAAAAAAAAAAAAAAAAAAAAAAAAAAAAAAAAAAAAAAAAAAAAAAAAAAAAAAAAAAAAAAAAAAAAAAAAAAAAAAAAAAAAAAAAAAAAJT0FltcuoD4=\",\"dtype\":\"float64\",\"shape\":[100]}}},\"id\":\"52db534a-cc1a-4d80-b0f5-093ec914fce1\",\"type\":\"ColumnDataSource\"},{\"attributes\":{},\"id\":\"0fd40ed8-3a68-4eb3-b71f-38335daf0f6b\",\"type\":\"WheelZoomTool\"},{\"attributes\":{\"active_drag\":\"auto\",\"active_inspect\":\"auto\",\"active_scroll\":\"auto\",\"active_tap\":\"auto\",\"tools\":[{\"id\":\"659d2e02-b5ed-41c7-b105-8d84694ea907\",\"type\":\"PanTool\"},{\"id\":\"0fd40ed8-3a68-4eb3-b71f-38335daf0f6b\",\"type\":\"WheelZoomTool\"},{\"id\":\"4e2c6984-d08f-46b0-a33f-9d233bfdfce8\",\"type\":\"ResetTool\"},{\"id\":\"a6048262-84d3-410a-987a-3cd54124aaba\",\"type\":\"SaveTool\"}]},\"id\":\"856a1dfd-5421-4eb6-8a90-d1574916ee37\",\"type\":\"Toolbar\"},{\"attributes\":{\"plot\":null,\"text\":\"Top-1000 words distribution\"},\"id\":\"33db4a35-f8db-415e-aeb8-925dd661946e\",\"type\":\"Title\"},{\"attributes\":{\"callback\":null},\"id\":\"c03dcab4-f488-454e-9643-5c266e9e8c66\",\"type\":\"DataRange1d\"},{\"attributes\":{},\"id\":\"f9d8929a-3bf6-486c-ac13-66545d9e3617\",\"type\":\"LinearScale\"},{\"attributes\":{},\"id\":\"c666e1ae-341d-4c87-8774-8d0621130bdf\",\"type\":\"BasicTicker\"},{\"attributes\":{\"callback\":null},\"id\":\"d7fc50d2-b95d-48b3-ad54-1cd1ec194a96\",\"type\":\"DataRange1d\"},{\"attributes\":{\"formatter\":{\"id\":\"53d08a5f-43e6-47d3-acde-c499545c4a16\",\"type\":\"BasicTickFormatter\"},\"plot\":{\"id\":\"9e4c7f90-9963-488a-9029-d0debc9eda10\",\"subtype\":\"Figure\",\"type\":\"Plot\"},\"ticker\":{\"id\":\"c666e1ae-341d-4c87-8774-8d0621130bdf\",\"type\":\"BasicTicker\"}},\"id\":\"4f0a4fd4-95f3-4881-9744-9516ef616e8c\",\"type\":\"LinearAxis\"},{\"attributes\":{},\"id\":\"e46db61b-d3c3-4b9d-958c-2f8186b52e19\",\"type\":\"LinearScale\"},{\"attributes\":{\"plot\":{\"id\":\"9e4c7f90-9963-488a-9029-d0debc9eda10\",\"subtype\":\"Figure\",\"type\":\"Plot\"},\"ticker\":{\"id\":\"c666e1ae-341d-4c87-8774-8d0621130bdf\",\"type\":\"BasicTicker\"}},\"id\":\"bd8b6760-5338-41ee-a976-58790e06ba7b\",\"type\":\"Grid\"},{\"attributes\":{\"formatter\":{\"id\":\"b214fe12-9848-4e97-afe4-9b20b546ee41\",\"type\":\"BasicTickFormatter\"},\"plot\":{\"id\":\"9e4c7f90-9963-488a-9029-d0debc9eda10\",\"subtype\":\"Figure\",\"type\":\"Plot\"},\"ticker\":{\"id\":\"a255538d-5a44-4cc5-b2a3-4f7a0688c79f\",\"type\":\"BasicTicker\"}},\"id\":\"0b05db32-8574-4105-b111-fc853f4967ac\",\"type\":\"LinearAxis\"},{\"attributes\":{\"dimension\":1,\"plot\":{\"id\":\"9e4c7f90-9963-488a-9029-d0debc9eda10\",\"subtype\":\"Figure\",\"type\":\"Plot\"},\"ticker\":{\"id\":\"a255538d-5a44-4cc5-b2a3-4f7a0688c79f\",\"type\":\"BasicTicker\"}},\"id\":\"caba3c0b-16fa-482b-b620-90053808bf1e\",\"type\":\"Grid\"},{\"attributes\":{},\"id\":\"53d08a5f-43e6-47d3-acde-c499545c4a16\",\"type\":\"BasicTickFormatter\"},{\"attributes\":{},\"id\":\"a255538d-5a44-4cc5-b2a3-4f7a0688c79f\",\"type\":\"BasicTicker\"},{\"attributes\":{},\"id\":\"b214fe12-9848-4e97-afe4-9b20b546ee41\",\"type\":\"BasicTickFormatter\"}],\"root_ids\":[\"9e4c7f90-9963-488a-9029-d0debc9eda10\"]},\"title\":\"Bokeh Application\",\"version\":\"0.12.10\"}};\n",
       "    var render_items = [{\"docid\":\"b753a50a-4ed2-4bcb-a87c-e6f78641469c\",\"elementid\":\"6e054431-1966-4a55-83b3-241103b1b090\",\"modelid\":\"9e4c7f90-9963-488a-9029-d0debc9eda10\"}];\n",
       "\n",
       "    root.Bokeh.embed.embed_items(docs_json, render_items);\n",
       "  }\n",
       "\n",
       "  if (root.Bokeh !== undefined) {\n",
       "    embed_document(root);\n",
       "  } else {\n",
       "    var attempts = 0;\n",
       "    var timer = setInterval(function(root) {\n",
       "      if (root.Bokeh !== undefined) {\n",
       "        embed_document(root);\n",
       "        clearInterval(timer);\n",
       "      }\n",
       "      attempts++;\n",
       "      if (attempts > 100) {\n",
       "        console.log(\"Bokeh: ERROR: Unable to embed document because BokehJS library is missing\")\n",
       "        clearInterval(timer);\n",
       "      }\n",
       "    }, 10, root)\n",
       "  }\n",
       "})(window);"
      ],
      "application/vnd.bokehjs_exec.v0+json": ""
     },
     "metadata": {
      "application/vnd.bokehjs_exec.v0+json": {
       "id": "9e4c7f90-9963-488a-9029-d0debc9eda10"
      }
     },
     "output_type": "display_data"
    }
   ],
   "source": [
    "hist, edges = np.histogram(counts_ted_top1000, density=True, bins=100, normed=True)\n",
    "\n",
    "p = figure(tools=\"pan,wheel_zoom,reset,save\",\n",
    "           toolbar_location=\"above\",\n",
    "           title=\"Top-1000 words distribution\")\n",
    "p.quad(top=hist, bottom=0, left=edges[:-1], right=edges[1:], line_color=\"#555555\")\n",
    "show(p)"
   ]
  },
  {
   "cell_type": "markdown",
   "metadata": {},
   "source": [
    "### Part 3: Train Word2Vec"
   ]
  },
  {
   "cell_type": "code",
   "execution_count": 16,
   "metadata": {
    "collapsed": true
   },
   "outputs": [],
   "source": [
    "from gensim.models import Word2Vec"
   ]
  },
  {
   "cell_type": "code",
   "execution_count": 44,
   "metadata": {},
   "outputs": [],
   "source": [
    "# min_count changed to 10 as specified in assignment\n",
    "model_ted = Word2Vec(sentences_ted, size=100, window=5, min_count=10, workers=4)"
   ]
  },
  {
   "cell_type": "markdown",
   "metadata": {},
   "source": [
    "### Part 4: Ted Learnt Representations"
   ]
  },
  {
   "cell_type": "markdown",
   "metadata": {},
   "source": [
    "Finding similar words: (see gensim docs for more functionality of `most_similar`)"
   ]
  },
  {
   "cell_type": "code",
   "execution_count": 18,
   "metadata": {},
   "outputs": [
    {
     "data": {
      "text/plain": [
       "[('woman', 0.841432511806488),\n",
       " ('guy', 0.8161501288414001),\n",
       " ('lady', 0.7619770765304565),\n",
       " ('boy', 0.7441990971565247),\n",
       " ('girl', 0.7387434244155884),\n",
       " ('gentleman', 0.7087658047676086),\n",
       " ('soldier', 0.7042319178581238),\n",
       " ('kid', 0.6791250705718994),\n",
       " ('poet', 0.6618711948394775),\n",
       " ('philosopher', 0.6615537405014038)]"
      ]
     },
     "execution_count": 18,
     "metadata": {},
     "output_type": "execute_result"
    }
   ],
   "source": [
    "model_ted.most_similar(\"man\")"
   ]
  },
  {
   "cell_type": "code",
   "execution_count": 19,
   "metadata": {},
   "outputs": [
    {
     "data": {
      "text/plain": [
       "[('machine', 0.7494007349014282),\n",
       " ('robot', 0.7113445997238159),\n",
       " ('software', 0.6989121437072754),\n",
       " ('device', 0.682228147983551),\n",
       " ('3d', 0.6707136631011963),\n",
       " ('simulation', 0.6682255268096924),\n",
       " ('camera', 0.6651551723480225),\n",
       " ('chip', 0.6602576971054077),\n",
       " ('video', 0.6548978090286255),\n",
       " ('keyboard', 0.6321201920509338)]"
      ]
     },
     "execution_count": 19,
     "metadata": {},
     "output_type": "execute_result"
    }
   ],
   "source": [
    "model_ted.most_similar(\"computer\")"
   ]
  },
  {
   "cell_type": "code",
   "execution_count": 45,
   "metadata": {},
   "outputs": [
    {
     "name": "stdout",
     "output_type": "stream",
     "text": [
      "[('synagogue', 0.7985349893569946), ('poke', 0.792498767375946), ('tornado', 0.7915712594985962), ('monastery', 0.7897894382476807), ('paycheck', 0.7829915881156921), ('shorts', 0.7809504270553589), ('pickup', 0.7809485197067261), ('atm', 0.7784441709518433), ('rooster', 0.7748753428459167), ('submarine', 0.772864818572998)]\n",
      "[('physicist', 0.8476730585098267), ('designer', 0.81366366147995), ('psychologist', 0.8029024004936218), ('researcher', 0.8010834455490112), ('writer', 0.7969345450401306), ('musician', 0.7541846632957458), ('artist', 0.7498636841773987), ('journalist', 0.7345033884048462), ('chemist', 0.7321611642837524), ('photographer', 0.7305278778076172)]\n",
      "[('japanese', 0.830373227596283), ('british', 0.8111343383789062), ('sierra', 0.7995365262031555), ('french', 0.7905932068824768), ('gandhi', 0.7858574390411377), ('1984', 0.783623218536377), ('england', 0.7821264266967773), ('leone', 0.7814306020736694), ('mahatma', 0.7754887342453003), ('nazi', 0.7706279754638672)]\n"
     ]
    }
   ],
   "source": [
    "print(model_ted.most_similar(\"gym\")) #I guess compost and nazis have lots to do with the gym\n",
    "print(model_ted.most_similar(\"scientist\")) #Apparently scientists resemble designers\n",
    "print(model_ted.most_similar(\"german\")) #Wow, ok! Gandhi ...\n",
    "words_top_ted = result[:1000]"
   ]
  },
  {
   "cell_type": "markdown",
   "metadata": {},
   "source": [
    "#### t-SNE visualization\n",
    "To use the t-SNE code below, first put a list of the top 1000 words (as strings) into a variable `words_top_ted`. The following code gets the corresponding vectors from the model, assuming it's called `model_ted`:"
   ]
  },
  {
   "cell_type": "code",
   "execution_count": 46,
   "metadata": {},
   "outputs": [
    {
     "name": "stdout",
     "output_type": "stream",
     "text": [
      "<class 'gensim.models.word2vec.Word2Vec'>\n"
     ]
    }
   ],
   "source": [
    "# This assumes words_top_ted is a list of strings, the top 1000 words\n",
    "words_top_vec_ted = model_ted[words_top_ted]"
   ]
  },
  {
   "cell_type": "code",
   "execution_count": 47,
   "metadata": {
    "collapsed": true
   },
   "outputs": [],
   "source": [
    "from sklearn.manifold import TSNE\n",
    "tsne = TSNE(n_components=2, random_state=0)\n",
    "words_top_ted_tsne = tsne.fit_transform(words_top_vec_ted)"
   ]
  },
  {
   "cell_type": "code",
   "execution_count": 48,
   "metadata": {},
   "outputs": [
    {
     "data": {
      "text/html": [
       "\n",
       "<div class=\"bk-root\">\n",
       "    <div class=\"bk-plotdiv\" id=\"05088ab0-0680-47e6-a196-6f5c7c7e66f5\"></div>\n",
       "</div>"
      ]
     },
     "metadata": {},
     "output_type": "display_data"
    },
    {
     "data": {
      "application/javascript": [
       "(function(root) {\n",
       "  function embed_document(root) {\n",
       "    var docs_json = {\"28a24f66-57e7-499d-b246-bf43ec30de1a\":{\"roots\":{\"references\":[{\"attributes\":{},\"id\":\"bfeb3c86-a1e2-469d-a34a-fffb2dfd704b\",\"type\":\"WheelZoomTool\"},{\"attributes\":{},\"id\":\"0e9d8615-e6b7-4a98-9a3a-8839f6e84e55\",\"type\":\"ResetTool\"},{\"attributes\":{},\"id\":\"fb68f5a8-a0fa-4fa1-8afc-e3457612a975\",\"type\":\"SaveTool\"},{\"attributes\":{\"source\":{\"id\":\"62425e93-b99a-4893-9a0c-280ea4c61c72\",\"type\":\"ColumnDataSource\"}},\"id\":\"484242cc-6d81-4b22-835f-325f78f3c7bf\",\"type\":\"CDSView\"},{\"attributes\":{\"callback\":null},\"id\":\"277f0ae9-ddd3-467f-bae2-0a67cdf0b41d\",\"type\":\"DataRange1d\"},{\"attributes\":{},\"id\":\"5234744d-ab4b-4a80-85e0-4730ab1f860b\",\"type\":\"BasicTickFormatter\"},{\"attributes\":{},\"id\":\"9a53810f-254d-4141-891b-8564c927b8d7\",\"type\":\"BasicTickFormatter\"},{\"attributes\":{\"plot\":{\"id\":\"5f8f7f4e-3616-4007-a0c7-6762692af048\",\"subtype\":\"Figure\",\"type\":\"Plot\"},\"source\":{\"id\":\"62425e93-b99a-4893-9a0c-280ea4c61c72\",\"type\":\"ColumnDataSource\"},\"text\":{\"field\":\"names\"},\"text_align\":\"center\",\"text_color\":{\"value\":\"#555555\"},\"text_font_size\":{\"value\":\"8pt\"},\"x\":{\"field\":\"x1\"},\"y\":{\"field\":\"x2\"},\"y_offset\":{\"value\":6}},\"id\":\"7b57d873-a0bd-44ee-ba92-d1b824336e6b\",\"type\":\"LabelSet\"},{\"attributes\":{\"below\":[{\"id\":\"0ecc1688-dcc6-4521-bef8-e0cefc988fdf\",\"type\":\"LinearAxis\"}],\"left\":[{\"id\":\"be3f7950-7e69-482c-82ae-f82c65af06d8\",\"type\":\"LinearAxis\"}],\"renderers\":[{\"id\":\"0ecc1688-dcc6-4521-bef8-e0cefc988fdf\",\"type\":\"LinearAxis\"},{\"id\":\"e104ec98-5de6-43de-862c-88c0c0f8129a\",\"type\":\"Grid\"},{\"id\":\"be3f7950-7e69-482c-82ae-f82c65af06d8\",\"type\":\"LinearAxis\"},{\"id\":\"a3b5b2ab-0c13-4d6a-aecd-31d4503e2fef\",\"type\":\"Grid\"},{\"id\":\"dfddaa21-4c0d-4bb9-91d9-0a7eff85df30\",\"type\":\"GlyphRenderer\"},{\"id\":\"7b57d873-a0bd-44ee-ba92-d1b824336e6b\",\"type\":\"LabelSet\"}],\"title\":{\"id\":\"8591bfc7-3b69-4800-9e03-23b9c668a019\",\"type\":\"Title\"},\"toolbar\":{\"id\":\"b49f8b2a-7731-4e26-880a-640087259c51\",\"type\":\"Toolbar\"},\"toolbar_location\":\"above\",\"x_range\":{\"id\":\"277f0ae9-ddd3-467f-bae2-0a67cdf0b41d\",\"type\":\"DataRange1d\"},\"x_scale\":{\"id\":\"77c821d8-4058-45d9-889f-687262fa2681\",\"type\":\"LinearScale\"},\"y_range\":{\"id\":\"a729031c-9742-4587-83df-27a6a0064c56\",\"type\":\"DataRange1d\"},\"y_scale\":{\"id\":\"72b5d421-f54c-4a13-9973-e3c5ff927e18\",\"type\":\"LinearScale\"}},\"id\":\"5f8f7f4e-3616-4007-a0c7-6762692af048\",\"subtype\":\"Figure\",\"type\":\"Plot\"},{\"attributes\":{\"callback\":null,\"column_names\":[\"x1\",\"x2\",\"names\"],\"data\":{\"names\":[\"the\",\"and\",\"to\",\"of\",\"a\",\"that\",\"i\",\"in\",\"it\",\"you\",\"we\",\"is\",\"s\",\"this\",\"so\",\"they\",\"was\",\"for\",\"are\",\"have\",\"but\",\"what\",\"on\",\"with\",\"can\",\"t\",\"about\",\"there\",\"be\",\"as\",\"at\",\"all\",\"not\",\"do\",\"my\",\"one\",\"re\",\"people\",\"like\",\"if\",\"from\",\"now\",\"our\",\"he\",\"an\",\"just\",\"these\",\"or\",\"when\",\"because\",\"very\",\"me\",\"out\",\"by\",\"them\",\"how\",\"know\",\"up\",\"going\",\"had\",\"more\",\"think\",\"who\",\"were\",\"see\",\"your\",\"their\",\"which\",\"would\",\"here\",\"really\",\"get\",\"ve\",\"then\",\"m\",\"world\",\"us\",\"time\",\"some\",\"has\",\"don\",\"actually\",\"into\",\"way\",\"where\",\"will\",\"years\",\"things\",\"other\",\"no\",\"could\",\"go\",\"well\",\"want\",\"been\",\"make\",\"right\",\"she\",\"said\",\"something\",\"those\",\"first\",\"two\",\"than\",\"much\",\"also\",\"look\",\"new\",\"thing\",\"little\",\"got\",\"back\",\"over\",\"most\",\"say\",\"even\",\"his\",\"life\",\"only\",\"work\",\"many\",\"take\",\"need\",\"did\",\"lot\",\"kind\",\"why\",\"good\",\"around\",\"every\",\"different\",\"down\",\"ll\",\"let\",\"her\",\"through\",\"same\",\"being\",\"come\",\"d\",\"day\",\"year\",\"three\",\"use\",\"doing\",\"put\",\"called\",\"any\",\"today\",\"percent\",\"made\",\"after\",\"thank\",\"tell\",\"great\",\"human\",\"find\",\"didn\",\"fact\",\"talk\",\"change\",\"started\",\"another\",\"idea\",\"big\",\"last\",\"own\",\"before\",\"its\",\"never\",\"should\",\"better\",\"give\",\"thought\",\"went\",\"might\",\"important\",\"000\",\"again\",\"able\",\"together\",\"still\",\"problem\",\"off\",\"next\",\"part\",\"course\",\"system\",\"him\",\"does\",\"each\",\"start\",\"show\",\"long\",\"ago\",\"story\",\"came\",\"brain\",\"few\",\"bit\",\"between\",\"used\",\"place\",\"technology\",\"women\",\"too\",\"old\",\"mean\",\"data\",\"water\",\"looking\",\"question\",\"maybe\",\"found\",\"love\",\"doesn\",\"end\",\"example\",\"10\",\"done\",\"point\",\"four\",\"real\",\"wanted\",\"ever\",\"school\",\"understand\",\"sort\",\"live\",\"call\",\"whole\",\"children\",\"always\",\"trying\",\"may\",\"person\",\"away\",\"believe\",\"feel\",\"try\",\"million\",\"working\",\"help\",\"everything\",\"five\",\"country\",\"thinking\",\"second\",\"using\",\"information\",\"money\",\"means\",\"power\",\"took\",\"times\",\"high\",\"space\",\"number\",\"kids\",\"home\",\"become\",\"create\",\"small\",\"design\",\"making\",\"best\",\"left\",\"getting\",\"future\",\"enough\",\"man\",\"quite\",\"city\",\"without\",\"sense\",\"happened\",\"comes\",\"social\",\"probably\",\"less\",\"light\",\"talking\",\"energy\",\"am\",\"building\",\"science\",\"food\",\"body\",\"told\",\"interesting\",\"ask\",\"half\",\"pretty\",\"hard\",\"play\",\"anything\",\"lives\",\"countries\",\"coming\",\"such\",\"family\",\"stuff\",\"dollars\",\"earth\",\"moment\",\"20\",\"imagine\",\"across\",\"side\",\"while\",\"saw\",\"happen\",\"once\",\"okay\",\"build\",\"having\",\"men\",\"later\",\"experience\",\"makes\",\"asked\",\"living\",\"seen\",\"says\",\"room\",\"hand\",\"simple\",\"health\",\"ways\",\"else\",\"case\",\"yet\",\"almost\",\"young\",\"days\",\"nothing\",\"care\",\"bad\",\"happens\",\"goes\",\"move\",\"states\",\"reason\",\"computer\",\"open\",\"learn\",\"africa\",\"process\",\"inside\",\"someone\",\"six\",\"far\",\"mind\",\"project\",\"remember\",\"single\",\"picture\",\"both\",\"whether\",\"problems\",\"saying\",\"community\",\"basically\",\"already\",\"within\",\"looked\",\"myself\",\"billion\",\"often\",\"possible\",\"business\",\"planet\",\"global\",\"everybody\",\"top\",\"sure\",\"public\",\"set\",\"wrong\",\"car\",\"book\",\"keep\",\"yes\",\"answer\",\"oh\",\"hope\",\"sometimes\",\"true\",\"history\",\"war\",\"guy\",\"child\",\"instead\",\"months\",\"ideas\",\"looks\",\"matter\",\"government\",\"amazing\",\"united\",\"since\",\"bring\",\"age\",\"cells\",\"job\",\"heard\",\"until\",\"face\",\"wasn\",\"100\",\"read\",\"control\",\"isn\",\"research\",\"30\",\"words\",\"u\",\"group\",\"under\",\"self\",\"somebody\",\"built\",\"state\",\"woman\",\"turn\",\"friends\",\"beautiful\",\"line\",\"knew\",\"couple\",\"order\",\"form\",\"yeah\",\"internet\",\"middle\",\"music\",\"piece\",\"nature\",\"head\",\"though\",\"stop\",\"everyone\",\"50\",\"places\",\"video\",\"learned\",\"language\",\"run\",\"night\",\"decided\",\"study\",\"word\",\"cancer\",\"taking\",\"works\",\"became\",\"exactly\",\"species\",\"society\",\"completely\",\"education\",\"against\",\"stories\",\"large\",\"share\",\"level\",\"heart\",\"america\",\"model\",\"questions\",\"gets\",\"mother\",\"god\",\"company\",\"turns\",\"ourselves\",\"happening\",\"hear\",\"art\",\"themselves\",\"must\",\"itself\",\"rather\",\"kinds\",\"students\",\"name\",\"hours\",\"disease\",\"front\",\"house\",\"huge\",\"couldn\",\"created\",\"universe\",\"ok\",\"animals\",\"american\",\"environment\",\"worked\",\"minutes\",\"ones\",\"black\",\"perhaps\",\"1\",\"past\",\"third\",\"along\",\"others\",\"finally\",\"sound\",\"early\",\"game\",\"thousands\",\"century\",\"based\",\"least\",\"per\",\"ted\",\"lots\",\"figure\",\"free\",\"guys\",\"particular\",\"happy\",\"news\",\"learning\",\"entire\",\"won\",\"gave\",\"machine\",\"india\",\"during\",\"systems\",\"air\",\"difference\",\"outside\",\"natural\",\"taken\",\"seven\",\"given\",\"changed\",\"leave\",\"cell\",\"15\",\"close\",\"behind\",\"cities\",\"full\",\"scale\",\"difficult\",\"china\",\"takes\",\"companies\",\"yourself\",\"area\",\"reality\",\"seeing\",\"easy\",\"turned\",\"cost\",\"eyes\",\"team\",\"moving\",\"population\",\"culture\",\"york\",\"hands\",\"whatever\",\"began\",\"needs\",\"terms\",\"image\",\"simply\",\"needed\",\"beginning\",\"father\",\"local\",\"realized\",\"media\",\"death\",\"parents\",\"view\",\"walk\",\"white\",\"market\",\"parts\",\"ocean\",\"economic\",\"eight\",\"powerful\",\"known\",\"week\",\"size\",\"felt\",\"humans\",\"certain\",\"spend\",\"longer\",\"phone\",\"wonderful\",\"cannot\",\"grow\",\"common\",\"center\",\"tried\",\"fish\",\"land\",\"oil\",\"political\",\"interested\",\"deal\",\"red\",\"gone\",\"amount\",\"weeks\",\"spent\",\"opportunity\",\"paper\",\"lost\",\"national\",\"quickly\",\"blue\",\"step\",\"poor\",\"green\",\"buy\",\"growth\",\"wouldn\",\"either\",\"patients\",\"sitting\",\"ability\",\"changes\",\"write\",\"challenge\",\"south\",\"low\",\"growing\",\"friend\",\"field\",\"shows\",\"2\",\"born\",\"rest\",\"climate\",\"40\",\"test\",\"street\",\"surface\",\"incredible\",\"average\",\"physical\",\"morning\",\"scientists\",\"program\",\"pay\",\"value\",\"feeling\",\"hundreds\",\"girl\",\"met\",\"behavior\",\"economy\",\"dna\",\"complex\",\"access\",\"risk\",\"animal\",\"structure\",\"feet\",\"attention\",\"areas\",\"anyone\",\"deep\",\"watch\",\"short\",\"absolutely\",\"speak\",\"brought\",\"die\",\"bottom\",\"numbers\",\"audience\",\"stage\",\"realize\",\"law\",\"images\",\"wrote\",\"understanding\",\"knowledge\",\"literally\",\"books\",\"movement\",\"ground\",\"giving\",\"eat\",\"force\",\"seems\",\"alone\",\"telling\",\"starting\",\"hold\",\"nice\",\"forward\",\"sea\",\"developed\",\"individual\",\"kid\",\"millions\",\"support\",\"miles\",\"tools\",\"running\",\"online\",\"result\",\"act\",\"medical\",\"technologies\",\"north\",\"lab\",\"development\",\"blood\",\"fear\",\"nobody\",\"map\",\"personal\",\"issue\",\"voice\",\"material\",\"key\",\"12\",\"recently\",\"theory\",\"cut\",\"cars\",\"sun\",\"fast\",\"changing\",\"playing\",\"clear\",\"especially\",\"soon\",\"girls\",\"patient\",\"choice\",\"fly\",\"creating\",\"normal\",\"discovered\",\"europe\",\"talked\",\"relationship\",\"gives\",\"generation\",\"dark\",\"type\",\"showed\",\"chance\",\"seem\",\"industry\",\"asking\",\"rate\",\"fun\",\"issues\",\"color\",\"designed\",\"hour\",\"university\",\"innovation\",\"several\",\"class\",\"computers\",\"english\",\"tiny\",\"allow\",\"save\",\"focus\",\"digital\",\"solve\",\"developing\",\"network\",\"film\",\"special\",\"wall\",\"situation\",\"baby\",\"solution\",\"reasons\",\"box\",\"knows\",\"meet\",\"dead\",\"stand\",\"begin\",\"haven\",\"impact\",\"anybody\",\"term\",\"beyond\",\"pictures\",\"please\",\"ice\",\"produce\",\"shape\",\"non\",\"resources\",\"robot\",\"cool\",\"groups\",\"likely\",\"stay\",\"available\",\"truth\",\"rights\",\"major\",\"cause\",\"evidence\",\"obviously\",\"writing\",\"experiment\",\"modern\",\"drug\",\"becomes\",\"incredibly\",\"aren\",\"bigger\",\"guess\",\"nine\",\"product\",\"drugs\",\"lived\",\"involved\",\"perfect\",\"google\",\"month\",\"effect\",\"similar\",\"putting\",\"eye\",\"pick\",\"message\",\"quality\",\"violence\",\"web\",\"evolution\",\"security\",\"office\",\"basic\",\"solar\",\"indeed\",\"general\",\"towards\",\"present\",\"drive\",\"send\",\"listen\",\"worth\",\"revolution\",\"explain\",\"hundred\",\"certainly\",\"died\",\"ready\",\"teach\",\"journey\",\"25\",\"hit\",\"walking\",\"led\",\"approach\",\"international\",\"200\",\"scientific\",\"games\",\"60\",\"potential\",\"crazy\",\"communities\",\"chinese\",\"device\",\"source\",\"camera\",\"rules\",\"sex\",\"carbon\",\"sounds\",\"boy\",\"reach\",\"starts\",\"examples\",\"west\",\"3\",\"success\",\"measure\",\"particularly\",\"software\",\"totally\",\"suddenly\",\"action\",\"college\",\"higher\",\"code\",\"eventually\",\"democracy\",\"among\",\"minute\",\"sit\",\"largest\",\"showing\",\"hospital\",\"notice\",\"period\",\"mass\",\"develop\",\"dream\",\"onto\",\"plants\",\"break\",\"add\",\"memory\",\"everywhere\",\"favorite\",\"11\",\"zero\",\"speed\",\"schools\",\"moved\",\"response\",\"wants\",\"extremely\",\"movie\",\"individuals\",\"table\",\"wait\",\"medicine\",\"follow\",\"anyway\",\"trust\",\"plant\",\"biggest\",\"watching\",\"organization\",\"creative\",\"road\",\"choose\",\"worse\",\"lead\",\"results\",\"500\",\"exciting\",\"grew\",\"materials\",\"jobs\",\"plan\",\"east\",\"poverty\",\"positive\",\"safe\",\"strong\",\"fall\",\"essentially\",\"object\",\"door\",\"son\",\"vision\",\"further\",\"happiness\",\"continue\",\"student\",\"doctor\",\"including\",\"named\",\"role\",\"objects\",\"extraordinary\",\"standing\",\"skin\",\"leaders\",\"usually\",\"african\",\"conversation\",\"projects\",\"allowed\",\"models\",\"supposed\",\"faster\",\"interest\",\"families\",\"police\",\"fight\",\"tree\",\"connected\",\"screen\",\"5\",\"cases\",\"goal\",\"somewhere\",\"finding\",\"buildings\",\"shown\"],\"x1\":{\"__ndarray__\":\"CDSzkGhe47/zYx9K3o4bwNuUH0HUQAbA+1ek0b70IcBPDqPC5+gmwPFXpaviUArA/P+TT7wrBsASRTsVwczhP2ylOgidKwbAxqiA54N5/D9bkVk76Or4P+kMJgK4+iJAsHkOQ8TxIkBTyKlNG6cIwCIPpmwoRw/AjEBx8c1//j8KInjEIocUwCN4bsc0GcW/nkpgsFiLIUCdGw9I0ZQpwC78TPvj3g3AtkDb7Rx4MEB3SxXuQ0MWQDPVJWvJ3xJA9InSn2YpIcB4ySg0eCEhwIs01Oh9aCHAueYt1mawEMCZH4NOiLoqwBSjZUSVziTAMlsrvH7NMUBSiPTP9IQiwGCyxdl1gyDAsDR/2W92J8DAlFcvopsDwJ0KU0+qqinAL58ALcJ+IUCeUwMZwLsUQIbfnffWcxfAuBPCeVsXIsAPjyOyXMkwQJFdAB5e+x3AscFGtSfhHEDPN+P2FO0KwLK4isxHEijAzaEVe2PJH8C6EHWO6RgaQMejHi2x0STAFvVL3uN7B0DReJIJUyQOwGW29thfeTHAHRZpTTn4CsA2g1fKjYcZQFwtaO95ahbAUdd/lZbPGED1Io+iu0cLwMIvr4ZKpiTA2bjaSugNIEB6TH/wCbENwHSzcH8coBvAZLuw8kVTMkDBsWdF+2YkwJJufmd5ewdAVF/2nL6GIUBWKGOPd84iwJ2MrBwcHvS/FPDidU+qGUAhnFi8OBIJwKOl7sLisyDAD7zGm38yHsAUg2C8lbswwJutWLTU1y3AdU5c5qjFI0BXNM3J8+AEQGByfge6giXAhnk6AB5pLMAoLiCMmsAaQO8p2kSoRynArspJwcnjKUCpx95qIFItQC1AbinflilA5XUXP1zNEMCFcbnYdQQhQLRDeyo+hCfAwmvFvKZ/BMC1HkgBP5ciwGhJ3+otLS3AMypHb99H8j+2Ac7GMHv/P2tvgI2qei9AQBLl9aVZIcAknZ/VPbYowJ3tH/HtFCLA2v357Z9XKkDm8O3S6G4jwPfxDfPywjDAO7cUXBWlGsC4LMt21lwJwC4q9fj/hipAHMER9Ig0MUBixx5/SxcaQGbswO3jMyrA+1x+DMXRJUA1YA6ilGwVwP0HbKTm2SZA9FoIxP+uEcDzjHumYP4aQGl1oq8qtxLAOUxuVSPkAcB43ePRYFocQLyBNjLkIStAQ6Pw0z6mG0Dnj7Eh2ZkhQOIHO3VWgiXA10fkCw4GIMDQ3pmzihslwAOysOdQBATAliUw6CrdLMC1gDBhYIgiwPU6I4Q5YDTAh3tUUnxRI0CBVU5ds1AtwD/Xc1mHXCpAqQqU66P7J0BGzKip8KgrQJlGqDuwGCdACUtAuOc1HcDcaE1gadAxQOc7f7WP9SFAau71wVCZNsDIPP6wjDsYwFP8o0R6XRtAlKSiKN+EIsBlli/ShToawNYNJ8Dp0gTAnGc0P3GNIUBDnoz9wXUVwNHsq1ds4yrAZEc7lLi8J8DFFH9sFTQmwFb/j6Z2JCfAPUHAtjDmKcCg/JJW6LklQMwh4X6y4C7ASS1vDvHyE8CENTXhEtsrwLzy4bq+4h/AdsZRE4O1JMAWFuwwhgofwDFdGrwZzxtAMzJSP6tUFcBRAhFX/v8BQNVI4iocFR3AAVjiwE8qIsAjnu+rjMMTwIoF8UJL2SbA7JfJrnYoMcB4rhnZhG4pQMtBeTi8dSrAp9wZ9qIkI8Bg2aq+Bb0swMDDjJbjHihACTR+3C0QKMC9rCo3pNYywCT39d3MTBHA++1ndNQK6z/KerIjgXUswKdXEYCDoAFA35Elxt+TCsDuAxsarqk3wFM2Pa6ZAiPA1QtIpcZsMUAsiXawdnwxwF5x4Xs0DBbA4zMNqmnEJUBtFX9UJHkjwKs1z+or3h3AJL58S6kJIEDZeZ2NtrkDQDosmwLKDwzArqxewM/y6j/+jh7xGaQfwFwJgnFTFDLAzyYe7YaLGkDJDFu76lXoP+mLj2k3vDDAQ1apCGdVCMAblPJJ6PgpwNcrZOVzrArAraPRPuGAKkD0deL9WJ42wNL0rB2epSrA/T9uWpchIsALX20pBXMmwOBYdWJLoANAmK03nrhXLMBYSuxHN7klQA7JtLAtKxtAU//A7cj5KUAGCn3e9nwJQM+9vkM5fxbAxOl3IChTCsDHjZ22bNIrwKCJhwk9svK/zSUHBjhvDkCs5tOQMQwywLi0OlH37/0/ybU2TQTPI8DfhTQAvfXPP6ePaEvo8RVA7txwEcjsGkAUIbxVPQgzwDQiRIYtwiTAujFDV8k1G8BgCaOSPxMpwECR2UA/pilAEjvZNRxkFUAOU2EoNyHPP1T8zwhlMCZAFH8Fr4CpIMCO/uzX+pQpwLhArJQsYiVAvTXhJWs1IsDowqi9wz8qQKe9cpZVqTfALWq8CgqnGsAyZgs9WdwmwCJxJKbpFidAg42g4PvHL8DujBFzmVHVP8RKOTzBgOc/DJVmIIV2E0CQOSEycHYdwPueQUtQ5w3AHQqaKC+HI8BmejGCnJD3v9Y8DLMkchpAUpPe3+jRJMAk03sihDshwGbM3LbenyNAtk1ZdJupH0AFuvJtOcEfwADE4mHqKDHAHITE3RpeMUCQ79bd8SglQKLJe1t/hSrAw9gw/rfnBMBE/MxPoDcpwOUjJX0qYwXA0Yocyq/5zT/B2NIMBUgwwCUC56qciiFApLHzoEP+K8Cmjg3kEnAPwO6rqChfkS/Ab9W7ch+AKEDMR7pfAgz0v+GaVVHSWyrAAkOYEwbgE0Ah1FgMWkEawPNbHxYahS7A+G+jbEW5L8Bb3+336u4gQB1xsi7M5zPA5A0EIUilE8CzZdUTBqgswPm8pc1dPQdAlfRH2IewCMDe2sFUJtkywH9Fy9rtORnAG/MCRbaO/r8Vsy+WUCYxwEK0582ziCrA0KS17OgyMUAMwXuz9NwrwMjKL/mhNx3AcLrPeVEQJkCXIiKwpXYzwIjuRAyOCyTATUuBq840MkDtAJ5B0ZoWQJteTjTJdgXA2QQP98oQFEBDhGdaf4ElwGrZnVWepxXA355XfMlgL8DAEPXEy2cHQNh+/a7bURtAczgoP+imEMD1ot2iM8UawGSinLbMOCXAEZXA+V75IUCD046dWMUxwPJzo0m5bCRAn4HSGIcrJsDOx3F1EFMxQPJBCf/P8QRA3ywJlwAXHUBZ2VCD797rv90Bz/DXzSPAIUvbm+G0EcD31T4+V6XVPxRCvywlcS/AyhEj3av2K0BlHD14vHMpwHulq/COmCVAelMcPkaAI8CPjgq+MfkhQII3uG4sHw1Arsl6aFlUI8BlO4mP0/USwGnshi+SrSnAvz393Riv/j9vtUTFIwwkwAEBidO1vi/AHPm4Qi0wAMDPxNrS52QOQCE+5n60hQJA18X55fQxLsAOvio+NTUkQFvKk6uNUhDArZWF8skdJcAHqq5/3nMgwPWVS1Cg0ipAtOeDYCNgGcBUmkuZE2UNQBJRYfNGmh3A+wJpDhG9NMDlo2AcrBcOQA+4NjUzhzJATWppP5f+KsBKsgO4AhMhwFlAtnNGlhTALPOFGLg2CkBwoc8K74wswG+sHtJrWTFAPDjU0TWDMsBawjbyp9AxQIinx4/PhSFAQrSynS/nJUCjxNlBtjAqwFP1Q33tHyvA3fvlz0DECsCm7GiosckAQKLh4o4Pc+y/MkpoL5fQJsDPuhmlm6UpwOR2YqDs6ATAuN5BeNV8EUDKl8Kc+74xQLpstPPa0iRAoNR20PgSJkA43+LeT3YswDt3+yn1OTTACM+Wq3urI8DBaYeEm6UQwHjaYt5J1e8/gY7xzkAkIsAfedZvtDgjwIjRoAd2ZwRA5Wt0EsX+FsAl5St01rU0wKo13ojDEhTAxdHM8yayHsCTBTE6trXjP34AwfRHdRpAOD+xd+ptBsCZ5CG6LpkfQOyBoG6aZyLAXiWdyf3nJsAn0m+ktYE0wOtKwB46ACxA4a13G0ZBNMCH79SleFIxQNrNMxl3QA5ApwE5OtSHGMAg08mm9qQzwOywd+R6DADAzeqHeOXeGsD6TKigqI0IQJ5dyTd5d/a/IfHE9by2KsCH4PUkcUchwAU4Qqpd2DLAlQP5cfmJIcCOAlvjLD4nwJa6Ke/O6iHA7yHvnakdJ8CHKu0igMctwN60dUEQ9jDApMhRr9nZ/L8blM77C+IAwGsZ0W/c4RRA067cBeObLMAzgWwKtBMGQNvv+896FPK/XP5s7s93KcAkseH2/58ywMjCm2/IxBfAUAZUfT3ZK8CSMFgmUHP/Pw2F3GEk9CzAtdrFZdhcIEBtbxv7F7QcQCkRkvQ4NS/AP5BDLGIYGcAvVtV3phoBQIzZD/843hNAVZfvF1fAJ0AYQ5SMxnclQBgin9np/yDAhzjKAR60LsDTiopNHr4nQEiHwQ/kOjTAxXFeooWRJUB/CXbXLAkbQBWNUaLMkSjAVpc3eHRUNcDghMRH9m7aP7+g0ALNfCvAUtBDPva2MUC0mrdwxAYgwKq9wYom1TDAFTmLzWTTAMB6184VbmArwMUo4bJGchVAGeVWudv/FsD1aZtuj6EJQJb2G0SENRbAd6EfXAT4KUAOUOTWSm8twD0t+weA8gDAfoGjjhGOIMDazwXXIgLJv3TJtwG8RijAIoVUSMEm779VSTco3zv3P0CDVS2CuijAtwcIs5/TBkDctxjNwQEiwC/HS20yZirAWpR+nJdQMUDuCSdeHLElQMzCLoVeKR1A2GU19XuU7D8TKgGiy5UZwO1e5+KV0y3AZAlPTY97K8BiszZNLwEmwMXcJt2F7ilATSSbBarjM8Dc/ouiPuX7v/MukCQw+SRAd89ZTBfnCMAIzQd/59r1v/E+vWQyUhTA19BTcWgRFMA9g1v90sUSQCYrzv5UZzLAHc8Ts12oF8Bu0FQY2WI0wJc8LvtCRhjAW9zJmaL/GkC44PkJExshQCWMDIU6YSXADra4Y+5LHUCV/G8WdVsXQK4H5SAfpynA9h/WoPNOM8CL72J9P/T/P1BrkZUvGSVA1ausLB+4DsBNLssuSLUhwAEUfm3wSzTAq2s1jX9bJ0AFenqMRTsXQGFVjtjTARDAVnii0+z8IsCThXTvwyUvwMcPFJq01hZA5jLYKinsIsBrngZwb20KwKzwg+JqATJAof3HhMTzKkAAmuvpOjYUQArsQ1rGhAjAwYywrQOmLMBdlclG4vkkQExgPn/g/vs/mzEuyF8qGcDvW6gfDP4NwKWBHiaoKilAIMFIoMDUHMC0IQx2QBsnwH78Z4DGdhXA5mc4rDaMEUCd6etVIxMwwMuxJ/MDvCnAIrpE2ukEI8DGjceJeMkswETl5+YBUxRAwuPAcbDMFkAu3Pi3M2kkwP/eH41WayNAq6gMo8WxJ8ACv9gl3z8pwEbEBvAI8yBABqVvCeFNFEAgBbFkCMb/PzsRF9N/cvq/ANZsKiS75z8Acjd25+Q7v3lQfPOK9CBAjVo5oEDYMMDt8+ChPk0xwL9K8Fh0UyBAntaIcpDHIkBn8x3oVJzPP68qGaHA9ipAobufxMo5McDc7MBIIGX4vzifg4JX2RhAxDnZSnPJEsC/h7MB83sYwMpsR9ZMMifA/dkvZco8I8AYKmkBLjLsPxG3VQEuASlA68Vdq5plEMBS4e8xRPAAQIsEbXnfrynACFEmJYndAEAM8YZ7bkQCQB/JkFDZBBVA65WFrm1qMMA1E7K7IKcQQKvmU8IxYh7AqsdDB6qGIsBDavD6t1UkQAWIP0oI7CLAwTUh86VGHsBpiGUCkJonwF6tpRKZjxxA+bKZHS8VJUCiUPVmpwIkQObzxkOHyBdAxALRM0ieG0Cicmxh7hLgP0wzJVa35xpA6Fa4EHNfJED5cIJ0z5MpwOHtCbRt4CRAEvwfA/jEEkA3OwlerRb2v//sb8S0mAZAEsG6oiJZJ8BN1ckfO2YQwO2ATjSXYCRAVHJAk6pFJ0BogsaPVqQbQByWkZ1BbQ5ABYGVBZEWNcAfK0s/4NrkvzhZ7Y0YzDTAjh02ZS1FMMARZQdQBQYfwOCGyiBIVg9AZDlQkJ8fI8D5S3YhtRooQNdP9dRDiCxAwM5Ef8OmLsDVCQZiwibyP1nFUDRSECHAh52mo3ApKkCL9Hw8hnQTwFOHTNL5QA/AhMkRrFQqM8B72JKiDU4XwC52MFbmazHAuewOQ0bjLsBiqJa+FRwVQLZNyp8lyDPA/lzZqaFsKcDG02ozUb0WQHKcDNtgezLAqlqB6yrfHUBWQqNE37MSQAAQSTai8DPA1AK+PLBTJEDIuNTe+oofwCmJLbh5eyLAijBmdusLKcArhSjzUF0EQGjMr0oWeRbApsrA6jMsEUDX6xE3aNYVwAHhwwjSYzPAI2EzCsvAMEDu7qqNGxUJQJE2NL2bshbAe8PkvZ/NIsBgVIQt42stwJ4PKI30YhzAq3FvDO0EIcAQpE4GGeEpQHKvs0TB7w5AswGYX0xrEED2B6VZrRkSQHvVGJg9KjPA7JDMqZLuJ8Duie4AhOExwOTQi9RlGhdAQyaIdnJyIsBDwWkfC0IVQEXeC7kxhyzAmFYw0ZpIIMAfBW6XVewwwH054ifslf4/iIkpPb18IMAZgmuzzyQywF9mEUQBDSRABGm8Zek9F0AN71Wb9bnwv2LKWVHgmCfAAtob5pPoF0DIOwaytgUuwBp4Vw7YOjTAZiNwmA8HKUA+BtS8NBUjwDPD+Hq+7BNAqZ/z6DII3z9kfbyVaj8twNw0XG6U1RzAXttTuWUBIcBW/ZkyRYgxwDm0jhzo2CjAUeLbfLl+KEBsLq4QlR31vzl9RePORw3ATSGIm6K1KMCrrp73GqkFwDPf4dYYzyNAu1KKHa6Z4L8MQULJbJ/oP9YsvVbOEDXA8xSG3rMYJUDf1vq3lTszwBXUdtSRif8/9tNu/M9DE0BEKrBezPQXwFD1dzQq0iRAtqyrUk6oHsD89iOCdTomwLnkv7p/URBAjHjYGfTzM8ArhLBHMcAvwLlfTzZOjCzAaVlwmPrbKcDnBdv96eogQAPpADH+ygTARG0azFN5G8CCZT5PV6IpwLt+qSg5FjTA9bURyCpI87/qSIX7dWsewOUOHPMDvzDAR7S29+irH0B7VA7eMYkAQGTm60p2HQbAGP/khWsiMMAGtsKfUDkwwLrO/IctHR1AClt2M9RqMUA9FcFf9roCQKqJuKLZTifAea/00ZerJsApbrn1hygawGHV76SZ7yXADDVVQ1DFIMBFBJm19QotwLb+7/15ug5Ais9TFaOQE0ClIaYcOdUkwPo7AQ60NNc/x2IbmcCgJMAdphx1YIYwwKNzzZ3xDRFAKWRoKaZNFMAal6NmsUQqwDm8CdgzoCvARp6OtdkT5T8DJBWrSMwaQHA0wpfaYTHAywOfwvSjDkAzShnjuxoJwCa+nOn06y3AnwOL3dGWMcD893BAqr/1v9hNiYjp3x7AsNFUwyVlDcCeI/sCgNoSwKQ+RVDLpirATW8D/arIGsAulfPpq3IxQExrtIeudxJAaEZlxsqDI8AwWO/U/7UAQGRP/2bIRAXAUp2R9ufoIECY6CjNP7MwwB0p9PMJKTDAWNuSCx/H6j98zIVmTSLmvx2uN5lsyOE/4fziU4nQJcDbnVZherUwwNlTqOzQCzPAfrphkL0qCEABA4WV878owPaW9J9lCzXAGAfLJrFmM8B4XvqIZxYaQD8iPfpTdSvAhCEYPItIMUAj0+F5PYfwv1rEblrL8izA1PQLUrbMMcA3ebOGS8MCwEb8oN9bdfW/OMgmgyqgIMBYhp4y704kQGv+buNu/ek/z3zaILaCKMApU9dh8PgpwEuDKrkckQxAu16jGpv9EkCCiBjn6WYkQNMjJ8HTIx3ACQzCTA6p/b9iHNk2+o8dwCBILAppSyTAIDnHLN2/I0BWb+kx6wwRQHrfIj7sgwHAecQ1jKyBL8Aq1M6YTA8qwEZzfxUKdRfAyyADm5mVGMBfuNeqAvYbwJvwVBGiginATosm8qQlGMDuGDEcovUvwGnP23XtSSRAeeqYUeXWMcBbUQrkKMwGQBQVihec/ALAkHjti7ZVEsDfnn0VJBYwwEbwHPF4kPy/g9hQDV03MsAZvr2w6SwOwMgImFBRLx5AH/eA0+WnHcAox3llRuoGQFTMrhaA4BdAGPGOCcAgC8BtduZV+A0qwNJVqbFgGRzA/YIFjmz5McAweA/8ZWAmQMi/KTVw/DDA6PW2mJUxA0Cov1tIRUAuwJxG52E8vBpAPpKVtE2eMMBlFWmy0g4zwKuuXF9UODHAeuGR0smk57/BUsCWAbAswKJMaWh+eS3A3Zbw1RFe9L900Rw7KL/1PxagX5R68RnAcSDMabYHAkDyrvz/VLowwOSuH0G51gXAWvD+dQG9McA2Sges80cKwPVDP4TybQNA3811Deu3K0A64dAGtTIowH2ki0Y1QNQ/4+j1vRgPKcDsnlFsjJQrwKatkKPCHyhAouSOtWltMcDPokvpz2MxQB6ktxuauS7AO+s4mMdsMUAg0tukAjUaQAGMeK0ByyDAsiu7IunREkCKS7/agMwuwFTU2FTlqfe/rthNOAWuI8CX9qHcYdUFQPr2fOC7kf0/Y3dmK4ZWG8Ab7ueJxAoQQHnOiUG3UBXA5qMbQe9GKsCAEsDYj/n4v+3UzO6rgyrAF1+RKIPdMcCf4gJ6eOguwC4yF1jYMzDArnRIkLZ2KMCOu4AZd5kbwOYfFZVUSwHAGLCYTq57M8DbbTUPQ3gvwFpBqsHpJzLAzsftSxquJEAe2UjdkPowwLCnZ4PyuidANmtjh/52MUD8L8h8vlwfwOjw46B3MSRAKXFqMgp4McAyboHNBuEQQG6Yin0XLh/AkN6cL87fJ8ARG4h+7nEbwF6Be92pg8I/9ma7rqxrKcCQUPQnhFAxwLBfTJCX9RnABpN0IY67BsAiw8bY0JYTQDewAaU6yCrAyEDzoaPgAMCPnyzF0jAtwNyCB7ndRDHAgMKfN/KUur82Npqi2akowLnEe2YU+DLAQg/jm1hkGsB2rNuwceAfwP4BlOBDCg1Ah9V17HiTIcBWlcbWLUkwwIiFXexLbTFAgxvR+JepI8CzUBKJfvIvwO2IKdoCVizAsWlFMzDAJ8CM9wCkS40VwMF93GmlODHA2AoI/pnPJ8D5MdwHb9AiQN4tkgvssSPA6kgF2m6FHcAmf+jDvkgSwPUjpfWS4SbATI9xVT5fLsDRycqfeqYkQFjLTVv5ofY/GMWStypt37+ZYBtUfiwjwJlYn5WKKzPAdZpOhLumMsAUk6GP+EgkQFDrbjhd+y/ACwIva/aJ779w/RmBw6EkQNCzu38jvCzAxr6F1zADHcBo9sFkdY4SQI+ONtm6XDDAfhx7URos8T8YeD/Fz9juvzyub40mrwRAKJ94J0TjDUD4CtTPt4IkwGTXlh8kDhNAaj2SGX7B+r8gC7QF6cMFwLx3l8WPPivAAmpoVy7CJUDnuDC2orEWQGjatry28CjAbbsLQ5jAI0DoIZAiy5IuwK7A/zndoC7ATF/NFfLTI8DyDrqosIDkv1KjSUaccBjAMhZDD+mU9z9vB5KJazcxwDmMQAd19xnAqj3KLngEMUByBXn+Mfjyv9PyLj0KxgVAg+emn59wMsD9qUG+x3EZwE7MVWXrJSnAh+1ge6sKKcARWY7eh0MtwNAw+/ZTsALAxMs79ROWGsB8KaoSyXAkwMdt6CWgyyfALuKaTsLBBUBzF2N/2sUuwH/JTVTV9C7AeOgHQOpCGEDrGoEpb+MOQKwHf1O0dirAX1ep5vT4K8CJ83x1SlotwK4/DAHhyBrAwafPgrZSCsB48Z7z3W4jQFStNVb3DBFAj37zTV7UG0CrdQWDr28PQAFHcISUMSHAtqhr5ltpMMCESksna1QsQJikfHolhTHArlJ1k3Aa/b/bkdI0L8QIQOwdnjcE8QBA4bPHcXNDJcD99Fd158QwwBA+NZq73ijATrSDiHkbHMCq3mce4wYwwGF/trS7xRNA8opN4DmRLcCA5ENTvVj5v15hqeJMmDLA7pvyekTCIcDls6+wod8DQKz7kY0cWinAO2eSH7lyMUBWRllbjKQswMLcDrnKgxJATOaNcng6I0APYV2itdYdwOCjSCdc4AvA/QxolQrwD0AKgBHk7aMFQAh1EnvKHzDA/9tCb/3GKMDUOOuPkGgxwI41QI5PjCHAewT4lXYDG8DhGA33QN4fwPLsVQN/HSvAWlbJC7K7FMD940dIl/LyP31dIX0UjQBAZ3CziZVODsBz2+3cldYwwHlxLeYXKzFAenOH/2gCLMCcuZN4gDEswMw2vab1LRfAgbqPq/CjB8BcjGzBymsZwC8AahDWzQ/ANwuMpl6UMMAkhqMkw94QQJaWWEssuBnAIM9hk+nfsb92H5Yd4MARQCo3cSd/NgtAIAmDsAetHsBTqfb7ngAwwGNt4ztueS7AiE1ANodHEUAu4VHbLU8QwLtkRux73/4/Svp/djYYEcAbfuVs01MxQKSK0afy3y/AxQDMav6jDUD8QCdUcHgwwNkfT/yeAyzAG2lgyBO2AUDiBNAbYVsQwF0+Bltu4AVAJ+fm4mwFJEBeHBNbWz8WQLmC+FnR5TDAwF3PtzuT9T9w7p+SBlYhwKkjDRTg3BBAFUMpcRA2IcA=\",\"dtype\":\"float64\",\"shape\":[1000]},\"x2\":{\"__ndarray__\":\"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\",\"dtype\":\"float64\",\"shape\":[1000]}}},\"id\":\"62425e93-b99a-4893-9a0c-280ea4c61c72\",\"type\":\"ColumnDataSource\"},{\"attributes\":{\"fill_color\":{\"value\":\"#1f77b4\"},\"line_color\":{\"value\":\"#1f77b4\"},\"size\":{\"units\":\"screen\",\"value\":8},\"x\":{\"field\":\"x1\"},\"y\":{\"field\":\"x2\"}},\"id\":\"2b0c7576-31be-44a6-b575-5364e5da5952\",\"type\":\"Circle\"},{\"attributes\":{\"plot\":null,\"text\":\"word2vec T-SNE for most common words\"},\"id\":\"8591bfc7-3b69-4800-9e03-23b9c668a019\",\"type\":\"Title\"},{\"attributes\":{\"callback\":null},\"id\":\"a729031c-9742-4587-83df-27a6a0064c56\",\"type\":\"DataRange1d\"},{\"attributes\":{},\"id\":\"72b5d421-f54c-4a13-9973-e3c5ff927e18\",\"type\":\"LinearScale\"},{\"attributes\":{\"active_drag\":\"auto\",\"active_inspect\":\"auto\",\"active_scroll\":\"auto\",\"active_tap\":\"auto\",\"tools\":[{\"id\":\"1d6de2ba-201b-4a13-b9bd-94de93df2d70\",\"type\":\"PanTool\"},{\"id\":\"bfeb3c86-a1e2-469d-a34a-fffb2dfd704b\",\"type\":\"WheelZoomTool\"},{\"id\":\"0e9d8615-e6b7-4a98-9a3a-8839f6e84e55\",\"type\":\"ResetTool\"},{\"id\":\"fb68f5a8-a0fa-4fa1-8afc-e3457612a975\",\"type\":\"SaveTool\"}]},\"id\":\"b49f8b2a-7731-4e26-880a-640087259c51\",\"type\":\"Toolbar\"},{\"attributes\":{},\"id\":\"77c821d8-4058-45d9-889f-687262fa2681\",\"type\":\"LinearScale\"},{\"attributes\":{\"plot\":{\"id\":\"5f8f7f4e-3616-4007-a0c7-6762692af048\",\"subtype\":\"Figure\",\"type\":\"Plot\"},\"ticker\":{\"id\":\"6e3a5916-4a84-464f-ab73-2dcef1414c41\",\"type\":\"BasicTicker\"}},\"id\":\"e104ec98-5de6-43de-862c-88c0c0f8129a\",\"type\":\"Grid\"},{\"attributes\":{\"formatter\":{\"id\":\"5234744d-ab4b-4a80-85e0-4730ab1f860b\",\"type\":\"BasicTickFormatter\"},\"plot\":{\"id\":\"5f8f7f4e-3616-4007-a0c7-6762692af048\",\"subtype\":\"Figure\",\"type\":\"Plot\"},\"ticker\":{\"id\":\"6e3a5916-4a84-464f-ab73-2dcef1414c41\",\"type\":\"BasicTicker\"}},\"id\":\"0ecc1688-dcc6-4521-bef8-e0cefc988fdf\",\"type\":\"LinearAxis\"},{\"attributes\":{},\"id\":\"6e3a5916-4a84-464f-ab73-2dcef1414c41\",\"type\":\"BasicTicker\"},{\"attributes\":{\"formatter\":{\"id\":\"9a53810f-254d-4141-891b-8564c927b8d7\",\"type\":\"BasicTickFormatter\"},\"plot\":{\"id\":\"5f8f7f4e-3616-4007-a0c7-6762692af048\",\"subtype\":\"Figure\",\"type\":\"Plot\"},\"ticker\":{\"id\":\"c4d43337-3671-4699-9415-1bda5f609b99\",\"type\":\"BasicTicker\"}},\"id\":\"be3f7950-7e69-482c-82ae-f82c65af06d8\",\"type\":\"LinearAxis\"},{\"attributes\":{},\"id\":\"c4d43337-3671-4699-9415-1bda5f609b99\",\"type\":\"BasicTicker\"},{\"attributes\":{\"dimension\":1,\"plot\":{\"id\":\"5f8f7f4e-3616-4007-a0c7-6762692af048\",\"subtype\":\"Figure\",\"type\":\"Plot\"},\"ticker\":{\"id\":\"c4d43337-3671-4699-9415-1bda5f609b99\",\"type\":\"BasicTicker\"}},\"id\":\"a3b5b2ab-0c13-4d6a-aecd-31d4503e2fef\",\"type\":\"Grid\"},{\"attributes\":{\"data_source\":{\"id\":\"62425e93-b99a-4893-9a0c-280ea4c61c72\",\"type\":\"ColumnDataSource\"},\"glyph\":{\"id\":\"2b0c7576-31be-44a6-b575-5364e5da5952\",\"type\":\"Circle\"},\"hover_glyph\":null,\"muted_glyph\":null,\"nonselection_glyph\":{\"id\":\"91993ec4-fdda-4dd6-8d96-db158b2be629\",\"type\":\"Circle\"},\"selection_glyph\":null,\"view\":{\"id\":\"484242cc-6d81-4b22-835f-325f78f3c7bf\",\"type\":\"CDSView\"}},\"id\":\"dfddaa21-4c0d-4bb9-91d9-0a7eff85df30\",\"type\":\"GlyphRenderer\"},{\"attributes\":{\"fill_alpha\":{\"value\":0.1},\"fill_color\":{\"value\":\"#1f77b4\"},\"line_alpha\":{\"value\":0.1},\"line_color\":{\"value\":\"#1f77b4\"},\"size\":{\"units\":\"screen\",\"value\":8},\"x\":{\"field\":\"x1\"},\"y\":{\"field\":\"x2\"}},\"id\":\"91993ec4-fdda-4dd6-8d96-db158b2be629\",\"type\":\"Circle\"},{\"attributes\":{},\"id\":\"1d6de2ba-201b-4a13-b9bd-94de93df2d70\",\"type\":\"PanTool\"}],\"root_ids\":[\"5f8f7f4e-3616-4007-a0c7-6762692af048\"]},\"title\":\"Bokeh Application\",\"version\":\"0.12.10\"}};\n",
       "    var render_items = [{\"docid\":\"28a24f66-57e7-499d-b246-bf43ec30de1a\",\"elementid\":\"05088ab0-0680-47e6-a196-6f5c7c7e66f5\",\"modelid\":\"5f8f7f4e-3616-4007-a0c7-6762692af048\"}];\n",
       "\n",
       "    root.Bokeh.embed.embed_items(docs_json, render_items);\n",
       "  }\n",
       "\n",
       "  if (root.Bokeh !== undefined) {\n",
       "    embed_document(root);\n",
       "  } else {\n",
       "    var attempts = 0;\n",
       "    var timer = setInterval(function(root) {\n",
       "      if (root.Bokeh !== undefined) {\n",
       "        embed_document(root);\n",
       "        clearInterval(timer);\n",
       "      }\n",
       "      attempts++;\n",
       "      if (attempts > 100) {\n",
       "        console.log(\"Bokeh: ERROR: Unable to embed document because BokehJS library is missing\")\n",
       "        clearInterval(timer);\n",
       "      }\n",
       "    }, 10, root)\n",
       "  }\n",
       "})(window);"
      ],
      "application/vnd.bokehjs_exec.v0+json": ""
     },
     "metadata": {
      "application/vnd.bokehjs_exec.v0+json": {
       "id": "5f8f7f4e-3616-4007-a0c7-6762692af048"
      }
     },
     "output_type": "display_data"
    }
   ],
   "source": [
    "p = figure(tools=\"pan,wheel_zoom,reset,save\",\n",
    "           toolbar_location=\"above\",\n",
    "           title=\"word2vec T-SNE for most common words\")\n",
    "\n",
    "source = ColumnDataSource(data=dict(x1=words_top_ted_tsne[:,0],\n",
    "                                    x2=words_top_ted_tsne[:,1],\n",
    "                                    names=words_top_ted))\n",
    "\n",
    "p.scatter(x=\"x1\", y=\"x2\", size=8, source=source)\n",
    "\n",
    "labels = LabelSet(x=\"x1\", y=\"x2\", text=\"names\", y_offset=6,\n",
    "                  text_font_size=\"8pt\", text_color=\"#555555\",\n",
    "                  source=source, text_align='center')\n",
    "p.add_layout(labels)\n",
    "\n",
    "show(p)"
   ]
  },
  {
   "cell_type": "markdown",
   "metadata": {},
   "source": [
    "### Part 5: Wiki Learnt Representations"
   ]
  },
  {
   "cell_type": "markdown",
   "metadata": {},
   "source": [
    "Download dataset"
   ]
  },
  {
   "cell_type": "code",
   "execution_count": null,
   "metadata": {
    "collapsed": true
   },
   "outputs": [],
   "source": [
    "if not os.path.isfile('wikitext-103-raw-v1.zip'):\n",
    "    urllib.request.urlretrieve(\"https://s3.amazonaws.com/research.metamind.io/wikitext/wikitext-103-raw-v1.zip\", filename=\"wikitext-103-raw-v1.zip\")"
   ]
  },
  {
   "cell_type": "code",
   "execution_count": null,
   "metadata": {
    "collapsed": true
   },
   "outputs": [],
   "source": [
    "with zipfile.ZipFile('wikitext-103-raw-v1.zip', 'r') as z:\n",
    "    input_text = str(z.open('wikitext-103-raw/wiki.train.raw', 'r').read(), encoding='utf-8') # Thanks Robert Bastian"
   ]
  },
  {
   "cell_type": "markdown",
   "metadata": {},
   "source": [
    "Preprocess sentences (note that it's important to remove small sentences for performance)"
   ]
  },
  {
   "cell_type": "code",
   "execution_count": null,
   "metadata": {
    "collapsed": true
   },
   "outputs": [],
   "source": [
    "sentences_wiki = []\n",
    "for line in input_text.split('\\n'):\n",
    "    s = [x for x in line.split('.') if x and len(x.split()) >= 5]\n",
    "    sentences_wiki.extend(s)\n",
    "    \n",
    "for s_i in range(len(sentences_wiki)):\n",
    "    sentences_wiki[s_i] = re.sub(\"[^a-z]\", \" \", sentences_wiki[s_i].lower())\n",
    "    sentences_wiki[s_i] = re.sub(r'\\([^)]*\\)', '', sentences_wiki[s_i])\n",
    "del input_text"
   ]
  },
  {
   "cell_type": "code",
   "execution_count": null,
   "metadata": {
    "collapsed": true
   },
   "outputs": [],
   "source": [
    "# sample 1/5 of the data\n",
    "shuffle(sentences_wiki)\n",
    "print(len(sentences_wiki))\n",
    "sentences_wiki = sentences_wiki[:int(len(sentences_wiki)/5)]\n",
    "print(len(sentences_wiki))"
   ]
  },
  {
   "cell_type": "markdown",
   "metadata": {},
   "source": [
    "Now, repeat all the same steps that you performed above. You should be able to reuse essentially all the code."
   ]
  },
  {
   "cell_type": "code",
   "execution_count": null,
   "metadata": {
    "collapsed": true
   },
   "outputs": [],
   "source": [
    "# ..."
   ]
  },
  {
   "cell_type": "markdown",
   "metadata": {},
   "source": [
    "#### t-SNE visualization"
   ]
  },
  {
   "cell_type": "code",
   "execution_count": null,
   "metadata": {
    "collapsed": true
   },
   "outputs": [],
   "source": [
    "# This assumes words_top_wiki is a list of strings, the top 1000 words\n",
    "words_top_vec_wiki = model_wiki[words_top_wiki]\n",
    "\n",
    "tsne = TSNE(n_components=2, random_state=0)\n",
    "words_top_wiki_tsne = tsne.fit_transform(words_top_vec_wiki)"
   ]
  },
  {
   "cell_type": "code",
   "execution_count": null,
   "metadata": {
    "collapsed": true
   },
   "outputs": [],
   "source": [
    "p = figure(tools=\"pan,wheel_zoom,reset,save\",\n",
    "           toolbar_location=\"above\",\n",
    "           title=\"word2vec T-SNE for most common words\")\n",
    "\n",
    "source = ColumnDataSource(data=dict(x1=words_top_wiki_tsne[:,0],\n",
    "                                    x2=words_top_wiki_tsne[:,1],\n",
    "                                    names=words_top_wiki))\n",
    "\n",
    "p.scatter(x=\"x1\", y=\"x2\", size=8, source=source)\n",
    "\n",
    "labels = LabelSet(x=\"x1\", y=\"x2\", text=\"names\", y_offset=6,\n",
    "                  text_font_size=\"8pt\", text_color=\"#555555\",\n",
    "                  source=source, text_align='center')\n",
    "p.add_layout(labels)\n",
    "\n",
    "show(p)"
   ]
  }
 ],
 "metadata": {
  "anaconda-cloud": {},
  "kernelspec": {
   "display_name": "Python 3",
   "language": "python",
   "name": "python3"
  },
  "language_info": {
   "codemirror_mode": {
    "name": "ipython",
    "version": 3
   },
   "file_extension": ".py",
   "mimetype": "text/x-python",
   "name": "python",
   "nbconvert_exporter": "python",
   "pygments_lexer": "ipython3",
   "version": "3.6.0"
  }
 },
 "nbformat": 4,
 "nbformat_minor": 1
}
