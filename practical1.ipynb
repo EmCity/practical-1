{
 "cells": [
  {
   "cell_type": "markdown",
   "metadata": {},
   "source": [
    "## Practical 1: word2vec\n",
    "<p>Oxford CS - Deep NLP 2017<br>\n",
    "https://www.cs.ox.ac.uk/teaching/courses/2016-2017/dl/</p>\n",
    "<p>[Yannis Assael, Brendan Shillingford, Chris Dyer]</p>"
   ]
  },
  {
   "cell_type": "markdown",
   "metadata": {},
   "source": [
    "This practical is presented as an IPython Notebook, with the code written for recent versions of **Python 3**. The code in this practical will not work with Python 2 unless you modify it. If you are using your own Python installation, ensure you have a setup identical to that described in the installation shell script (which is intended for use with the department lab machines). We will be unable to support installation on personal machines due to time constraints, so please use the lab machines and the setup script if you are unfamiliar with how to install Anaconda.\n",
    "\n",
    "To execute a notebook cell, press `shift-enter`. The return value of the last command will be displayed, if it is not `None`.\n",
    "\n",
    "Potentially useful library documentation, references, and resources:\n",
    "\n",
    "* IPython notebooks: <https://ipython.org/ipython-doc/3/notebook/notebook.html#introduction>\n",
    "* Numpy numerical array library: <https://docs.scipy.org/doc/>\n",
    "* Gensim's word2vec: <https://radimrehurek.com/gensim/models/word2vec.html>\n",
    "* Bokeh interactive plots: <http://bokeh.pydata.org/en/latest/> (we provide plotting code here, but click the thumbnails for more examples to copy-paste)\n",
    "* scikit-learn ML library (aka `sklearn`): <http://scikit-learn.org/stable/documentation.html>\n",
    "* nltk NLP toolkit: <http://www.nltk.org/>\n",
    "* tutorial for processing xml in python using `lxml`: <http://lxml.de/tutorial.html> (we did this for you below, but in case you need it in the future)"
   ]
  },
  {
   "cell_type": "code",
   "execution_count": 5,
   "metadata": {
    "collapsed": true
   },
   "outputs": [],
   "source": [
    "import numpy as np\n",
    "import os\n",
    "from random import shuffle\n",
    "import re"
   ]
  },
  {
   "cell_type": "code",
   "execution_count": 6,
   "metadata": {},
   "outputs": [
    {
     "data": {
      "text/html": [
       "\n",
       "    <div class=\"bk-root\">\n",
       "        <a href=\"https://bokeh.pydata.org\" target=\"_blank\" class=\"bk-logo bk-logo-small bk-logo-notebook\"></a>\n",
       "        <span id=\"f4c644d4-363f-4081-a771-c6832f27f414\">Loading BokehJS ...</span>\n",
       "    </div>"
      ]
     },
     "metadata": {},
     "output_type": "display_data"
    },
    {
     "data": {
      "application/javascript": [
       "\n",
       "(function(root) {\n",
       "  function now() {\n",
       "    return new Date();\n",
       "  }\n",
       "\n",
       "  var force = true;\n",
       "\n",
       "  if (typeof (root._bokeh_onload_callbacks) === \"undefined\" || force === true) {\n",
       "    root._bokeh_onload_callbacks = [];\n",
       "    root._bokeh_is_loading = undefined;\n",
       "  }\n",
       "\n",
       "  var JS_MIME_TYPE = 'application/javascript';\n",
       "  var HTML_MIME_TYPE = 'text/html';\n",
       "  var EXEC_MIME_TYPE = 'application/vnd.bokehjs_exec.v0+json';\n",
       "  var CLASS_NAME = 'output_bokeh rendered_html';\n",
       "\n",
       "  /**\n",
       "   * Render data to the DOM node\n",
       "   */\n",
       "  function render(props, node) {\n",
       "    var script = document.createElement(\"script\");\n",
       "    node.appendChild(script);\n",
       "  }\n",
       "\n",
       "  /**\n",
       "   * Handle when an output is cleared or removed\n",
       "   */\n",
       "  function handleClearOutput(event, handle) {\n",
       "    var cell = handle.cell;\n",
       "\n",
       "    var id = cell.output_area._bokeh_element_id;\n",
       "    var server_id = cell.output_area._bokeh_server_id;\n",
       "    // Clean up Bokeh references\n",
       "    if (id !== undefined) {\n",
       "      Bokeh.index[id].model.document.clear();\n",
       "      delete Bokeh.index[id];\n",
       "    }\n",
       "\n",
       "    if (server_id !== undefined) {\n",
       "      // Clean up Bokeh references\n",
       "      var cmd = \"from bokeh.io.state import curstate; print(curstate().uuid_to_server['\" + server_id + \"'].get_sessions()[0].document.roots[0]._id)\";\n",
       "      cell.notebook.kernel.execute(cmd, {\n",
       "        iopub: {\n",
       "          output: function(msg) {\n",
       "            var element_id = msg.content.text.trim();\n",
       "            Bokeh.index[element_id].model.document.clear();\n",
       "            delete Bokeh.index[element_id];\n",
       "          }\n",
       "        }\n",
       "      });\n",
       "      // Destroy server and session\n",
       "      var cmd = \"import bokeh.io.notebook as ion; ion.destroy_server('\" + server_id + \"')\";\n",
       "      cell.notebook.kernel.execute(cmd);\n",
       "    }\n",
       "  }\n",
       "\n",
       "  /**\n",
       "   * Handle when a new output is added\n",
       "   */\n",
       "  function handleAddOutput(event, handle) {\n",
       "    var output_area = handle.output_area;\n",
       "    var output = handle.output;\n",
       "\n",
       "    // limit handleAddOutput to display_data with EXEC_MIME_TYPE content only\n",
       "    if ((output.output_type != \"display_data\") || (!output.data.hasOwnProperty(EXEC_MIME_TYPE))) {\n",
       "      return\n",
       "    }\n",
       "\n",
       "    var toinsert = output_area.element.find(`.${CLASS_NAME.split(' ')[0]}`);\n",
       "\n",
       "    if (output.metadata[EXEC_MIME_TYPE][\"id\"] !== undefined) {\n",
       "      toinsert[0].firstChild.textContent = output.data[JS_MIME_TYPE];\n",
       "      // store reference to embed id on output_area\n",
       "      output_area._bokeh_element_id = output.metadata[EXEC_MIME_TYPE][\"id\"];\n",
       "    }\n",
       "    if (output.metadata[EXEC_MIME_TYPE][\"server_id\"] !== undefined) {\n",
       "      var bk_div = document.createElement(\"div\");\n",
       "      bk_div.innerHTML = output.data[HTML_MIME_TYPE];\n",
       "      var script_attrs = bk_div.children[0].attributes;\n",
       "      for (var i = 0; i < script_attrs.length; i++) {\n",
       "        toinsert[0].firstChild.setAttribute(script_attrs[i].name, script_attrs[i].value);\n",
       "      }\n",
       "      // store reference to server id on output_area\n",
       "      output_area._bokeh_server_id = output.metadata[EXEC_MIME_TYPE][\"server_id\"];\n",
       "    }\n",
       "  }\n",
       "\n",
       "  function register_renderer(events, OutputArea) {\n",
       "\n",
       "    function append_mime(data, metadata, element) {\n",
       "      // create a DOM node to render to\n",
       "      var toinsert = this.create_output_subarea(\n",
       "        metadata,\n",
       "        CLASS_NAME,\n",
       "        EXEC_MIME_TYPE\n",
       "      );\n",
       "      this.keyboard_manager.register_events(toinsert);\n",
       "      // Render to node\n",
       "      var props = {data: data, metadata: metadata[EXEC_MIME_TYPE]};\n",
       "      render(props, toinsert[0]);\n",
       "      element.append(toinsert);\n",
       "      return toinsert\n",
       "    }\n",
       "\n",
       "    /* Handle when an output is cleared or removed */\n",
       "    events.on('clear_output.CodeCell', handleClearOutput);\n",
       "    events.on('delete.Cell', handleClearOutput);\n",
       "\n",
       "    /* Handle when a new output is added */\n",
       "    events.on('output_added.OutputArea', handleAddOutput);\n",
       "\n",
       "    /**\n",
       "     * Register the mime type and append_mime function with output_area\n",
       "     */\n",
       "    OutputArea.prototype.register_mime_type(EXEC_MIME_TYPE, append_mime, {\n",
       "      /* Is output safe? */\n",
       "      safe: true,\n",
       "      /* Index of renderer in `output_area.display_order` */\n",
       "      index: 0\n",
       "    });\n",
       "  }\n",
       "\n",
       "  // register the mime type if in Jupyter Notebook environment and previously unregistered\n",
       "  if (root.Jupyter !== undefined) {\n",
       "    var events = require('base/js/events');\n",
       "    var OutputArea = require('notebook/js/outputarea').OutputArea;\n",
       "\n",
       "    if (OutputArea.prototype.mime_types().indexOf(EXEC_MIME_TYPE) == -1) {\n",
       "      register_renderer(events, OutputArea);\n",
       "    }\n",
       "  }\n",
       "\n",
       "  \n",
       "  if (typeof (root._bokeh_timeout) === \"undefined\" || force === true) {\n",
       "    root._bokeh_timeout = Date.now() + 5000;\n",
       "    root._bokeh_failed_load = false;\n",
       "  }\n",
       "\n",
       "  var NB_LOAD_WARNING = {'data': {'text/html':\n",
       "     \"<div style='background-color: #fdd'>\\n\"+\n",
       "     \"<p>\\n\"+\n",
       "     \"BokehJS does not appear to have successfully loaded. If loading BokehJS from CDN, this \\n\"+\n",
       "     \"may be due to a slow or bad network connection. Possible fixes:\\n\"+\n",
       "     \"</p>\\n\"+\n",
       "     \"<ul>\\n\"+\n",
       "     \"<li>re-rerun `output_notebook()` to attempt to load from CDN again, or</li>\\n\"+\n",
       "     \"<li>use INLINE resources instead, as so:</li>\\n\"+\n",
       "     \"</ul>\\n\"+\n",
       "     \"<code>\\n\"+\n",
       "     \"from bokeh.resources import INLINE\\n\"+\n",
       "     \"output_notebook(resources=INLINE)\\n\"+\n",
       "     \"</code>\\n\"+\n",
       "     \"</div>\"}};\n",
       "\n",
       "  function display_loaded() {\n",
       "    var el = document.getElementById(\"f4c644d4-363f-4081-a771-c6832f27f414\");\n",
       "    if (el != null) {\n",
       "      el.textContent = \"BokehJS is loading...\";\n",
       "    }\n",
       "    if (root.Bokeh !== undefined) {\n",
       "      if (el != null) {\n",
       "        el.textContent = \"BokehJS \" + root.Bokeh.version + \" successfully loaded.\";\n",
       "      }\n",
       "    } else if (Date.now() < root._bokeh_timeout) {\n",
       "      setTimeout(display_loaded, 100)\n",
       "    }\n",
       "  }\n",
       "\n",
       "\n",
       "  function run_callbacks() {\n",
       "    try {\n",
       "      root._bokeh_onload_callbacks.forEach(function(callback) { callback() });\n",
       "    }\n",
       "    finally {\n",
       "      delete root._bokeh_onload_callbacks\n",
       "    }\n",
       "    console.info(\"Bokeh: all callbacks have finished\");\n",
       "  }\n",
       "\n",
       "  function load_libs(js_urls, callback) {\n",
       "    root._bokeh_onload_callbacks.push(callback);\n",
       "    if (root._bokeh_is_loading > 0) {\n",
       "      console.log(\"Bokeh: BokehJS is being loaded, scheduling callback at\", now());\n",
       "      return null;\n",
       "    }\n",
       "    if (js_urls == null || js_urls.length === 0) {\n",
       "      run_callbacks();\n",
       "      return null;\n",
       "    }\n",
       "    console.log(\"Bokeh: BokehJS not loaded, scheduling load and callback at\", now());\n",
       "    root._bokeh_is_loading = js_urls.length;\n",
       "    for (var i = 0; i < js_urls.length; i++) {\n",
       "      var url = js_urls[i];\n",
       "      var s = document.createElement('script');\n",
       "      s.src = url;\n",
       "      s.async = false;\n",
       "      s.onreadystatechange = s.onload = function() {\n",
       "        root._bokeh_is_loading--;\n",
       "        if (root._bokeh_is_loading === 0) {\n",
       "          console.log(\"Bokeh: all BokehJS libraries loaded\");\n",
       "          run_callbacks()\n",
       "        }\n",
       "      };\n",
       "      s.onerror = function() {\n",
       "        console.warn(\"failed to load library \" + url);\n",
       "      };\n",
       "      console.log(\"Bokeh: injecting script tag for BokehJS library: \", url);\n",
       "      document.getElementsByTagName(\"head\")[0].appendChild(s);\n",
       "    }\n",
       "  };var element = document.getElementById(\"f4c644d4-363f-4081-a771-c6832f27f414\");\n",
       "  if (element == null) {\n",
       "    console.log(\"Bokeh: ERROR: autoload.js configured with elementid 'f4c644d4-363f-4081-a771-c6832f27f414' but no matching script tag was found. \")\n",
       "    return false;\n",
       "  }\n",
       "\n",
       "  var js_urls = [\"https://cdn.pydata.org/bokeh/release/bokeh-0.12.10.min.js\", \"https://cdn.pydata.org/bokeh/release/bokeh-widgets-0.12.10.min.js\", \"https://cdn.pydata.org/bokeh/release/bokeh-tables-0.12.10.min.js\", \"https://cdn.pydata.org/bokeh/release/bokeh-gl-0.12.10.min.js\"];\n",
       "\n",
       "  var inline_js = [\n",
       "    function(Bokeh) {\n",
       "      Bokeh.set_log_level(\"info\");\n",
       "    },\n",
       "    \n",
       "    function(Bokeh) {\n",
       "      \n",
       "    },\n",
       "    function(Bokeh) {\n",
       "      console.log(\"Bokeh: injecting CSS: https://cdn.pydata.org/bokeh/release/bokeh-0.12.10.min.css\");\n",
       "      Bokeh.embed.inject_css(\"https://cdn.pydata.org/bokeh/release/bokeh-0.12.10.min.css\");\n",
       "      console.log(\"Bokeh: injecting CSS: https://cdn.pydata.org/bokeh/release/bokeh-widgets-0.12.10.min.css\");\n",
       "      Bokeh.embed.inject_css(\"https://cdn.pydata.org/bokeh/release/bokeh-widgets-0.12.10.min.css\");\n",
       "      console.log(\"Bokeh: injecting CSS: https://cdn.pydata.org/bokeh/release/bokeh-tables-0.12.10.min.css\");\n",
       "      Bokeh.embed.inject_css(\"https://cdn.pydata.org/bokeh/release/bokeh-tables-0.12.10.min.css\");\n",
       "    }\n",
       "  ];\n",
       "\n",
       "  function run_inline_js() {\n",
       "    \n",
       "    if ((root.Bokeh !== undefined) || (force === true)) {\n",
       "      for (var i = 0; i < inline_js.length; i++) {\n",
       "        inline_js[i].call(root, root.Bokeh);\n",
       "      }if (force === true) {\n",
       "        display_loaded();\n",
       "      }} else if (Date.now() < root._bokeh_timeout) {\n",
       "      setTimeout(run_inline_js, 100);\n",
       "    } else if (!root._bokeh_failed_load) {\n",
       "      console.log(\"Bokeh: BokehJS failed to load within specified timeout.\");\n",
       "      root._bokeh_failed_load = true;\n",
       "    } else if (force !== true) {\n",
       "      var cell = $(document.getElementById(\"f4c644d4-363f-4081-a771-c6832f27f414\")).parents('.cell').data().cell;\n",
       "      cell.output_area.append_execute_result(NB_LOAD_WARNING)\n",
       "    }\n",
       "\n",
       "  }\n",
       "\n",
       "  if (root._bokeh_is_loading === 0) {\n",
       "    console.log(\"Bokeh: BokehJS loaded, going straight to plotting\");\n",
       "    run_inline_js();\n",
       "  } else {\n",
       "    load_libs(js_urls, function() {\n",
       "      console.log(\"Bokeh: BokehJS plotting callback run at\", now());\n",
       "      run_inline_js();\n",
       "    });\n",
       "  }\n",
       "}(window));"
      ],
      "application/vnd.bokehjs_load.v0+json": "\n(function(root) {\n  function now() {\n    return new Date();\n  }\n\n  var force = true;\n\n  if (typeof (root._bokeh_onload_callbacks) === \"undefined\" || force === true) {\n    root._bokeh_onload_callbacks = [];\n    root._bokeh_is_loading = undefined;\n  }\n\n  \n\n  \n  if (typeof (root._bokeh_timeout) === \"undefined\" || force === true) {\n    root._bokeh_timeout = Date.now() + 5000;\n    root._bokeh_failed_load = false;\n  }\n\n  var NB_LOAD_WARNING = {'data': {'text/html':\n     \"<div style='background-color: #fdd'>\\n\"+\n     \"<p>\\n\"+\n     \"BokehJS does not appear to have successfully loaded. If loading BokehJS from CDN, this \\n\"+\n     \"may be due to a slow or bad network connection. Possible fixes:\\n\"+\n     \"</p>\\n\"+\n     \"<ul>\\n\"+\n     \"<li>re-rerun `output_notebook()` to attempt to load from CDN again, or</li>\\n\"+\n     \"<li>use INLINE resources instead, as so:</li>\\n\"+\n     \"</ul>\\n\"+\n     \"<code>\\n\"+\n     \"from bokeh.resources import INLINE\\n\"+\n     \"output_notebook(resources=INLINE)\\n\"+\n     \"</code>\\n\"+\n     \"</div>\"}};\n\n  function display_loaded() {\n    var el = document.getElementById(\"f4c644d4-363f-4081-a771-c6832f27f414\");\n    if (el != null) {\n      el.textContent = \"BokehJS is loading...\";\n    }\n    if (root.Bokeh !== undefined) {\n      if (el != null) {\n        el.textContent = \"BokehJS \" + root.Bokeh.version + \" successfully loaded.\";\n      }\n    } else if (Date.now() < root._bokeh_timeout) {\n      setTimeout(display_loaded, 100)\n    }\n  }\n\n\n  function run_callbacks() {\n    try {\n      root._bokeh_onload_callbacks.forEach(function(callback) { callback() });\n    }\n    finally {\n      delete root._bokeh_onload_callbacks\n    }\n    console.info(\"Bokeh: all callbacks have finished\");\n  }\n\n  function load_libs(js_urls, callback) {\n    root._bokeh_onload_callbacks.push(callback);\n    if (root._bokeh_is_loading > 0) {\n      console.log(\"Bokeh: BokehJS is being loaded, scheduling callback at\", now());\n      return null;\n    }\n    if (js_urls == null || js_urls.length === 0) {\n      run_callbacks();\n      return null;\n    }\n    console.log(\"Bokeh: BokehJS not loaded, scheduling load and callback at\", now());\n    root._bokeh_is_loading = js_urls.length;\n    for (var i = 0; i < js_urls.length; i++) {\n      var url = js_urls[i];\n      var s = document.createElement('script');\n      s.src = url;\n      s.async = false;\n      s.onreadystatechange = s.onload = function() {\n        root._bokeh_is_loading--;\n        if (root._bokeh_is_loading === 0) {\n          console.log(\"Bokeh: all BokehJS libraries loaded\");\n          run_callbacks()\n        }\n      };\n      s.onerror = function() {\n        console.warn(\"failed to load library \" + url);\n      };\n      console.log(\"Bokeh: injecting script tag for BokehJS library: \", url);\n      document.getElementsByTagName(\"head\")[0].appendChild(s);\n    }\n  };var element = document.getElementById(\"f4c644d4-363f-4081-a771-c6832f27f414\");\n  if (element == null) {\n    console.log(\"Bokeh: ERROR: autoload.js configured with elementid 'f4c644d4-363f-4081-a771-c6832f27f414' but no matching script tag was found. \")\n    return false;\n  }\n\n  var js_urls = [\"https://cdn.pydata.org/bokeh/release/bokeh-0.12.10.min.js\", \"https://cdn.pydata.org/bokeh/release/bokeh-widgets-0.12.10.min.js\", \"https://cdn.pydata.org/bokeh/release/bokeh-tables-0.12.10.min.js\", \"https://cdn.pydata.org/bokeh/release/bokeh-gl-0.12.10.min.js\"];\n\n  var inline_js = [\n    function(Bokeh) {\n      Bokeh.set_log_level(\"info\");\n    },\n    \n    function(Bokeh) {\n      \n    },\n    function(Bokeh) {\n      console.log(\"Bokeh: injecting CSS: https://cdn.pydata.org/bokeh/release/bokeh-0.12.10.min.css\");\n      Bokeh.embed.inject_css(\"https://cdn.pydata.org/bokeh/release/bokeh-0.12.10.min.css\");\n      console.log(\"Bokeh: injecting CSS: https://cdn.pydata.org/bokeh/release/bokeh-widgets-0.12.10.min.css\");\n      Bokeh.embed.inject_css(\"https://cdn.pydata.org/bokeh/release/bokeh-widgets-0.12.10.min.css\");\n      console.log(\"Bokeh: injecting CSS: https://cdn.pydata.org/bokeh/release/bokeh-tables-0.12.10.min.css\");\n      Bokeh.embed.inject_css(\"https://cdn.pydata.org/bokeh/release/bokeh-tables-0.12.10.min.css\");\n    }\n  ];\n\n  function run_inline_js() {\n    \n    if ((root.Bokeh !== undefined) || (force === true)) {\n      for (var i = 0; i < inline_js.length; i++) {\n        inline_js[i].call(root, root.Bokeh);\n      }if (force === true) {\n        display_loaded();\n      }} else if (Date.now() < root._bokeh_timeout) {\n      setTimeout(run_inline_js, 100);\n    } else if (!root._bokeh_failed_load) {\n      console.log(\"Bokeh: BokehJS failed to load within specified timeout.\");\n      root._bokeh_failed_load = true;\n    } else if (force !== true) {\n      var cell = $(document.getElementById(\"f4c644d4-363f-4081-a771-c6832f27f414\")).parents('.cell').data().cell;\n      cell.output_area.append_execute_result(NB_LOAD_WARNING)\n    }\n\n  }\n\n  if (root._bokeh_is_loading === 0) {\n    console.log(\"Bokeh: BokehJS loaded, going straight to plotting\");\n    run_inline_js();\n  } else {\n    load_libs(js_urls, function() {\n      console.log(\"Bokeh: BokehJS plotting callback run at\", now());\n      run_inline_js();\n    });\n  }\n}(window));"
     },
     "metadata": {},
     "output_type": "display_data"
    }
   ],
   "source": [
    "from bokeh.models import ColumnDataSource, LabelSet\n",
    "from bokeh.plotting import figure, show, output_file\n",
    "from bokeh.io import output_notebook\n",
    "output_notebook()"
   ]
  },
  {
   "cell_type": "markdown",
   "metadata": {},
   "source": [
    "### Part 0: Download the TED dataset"
   ]
  },
  {
   "cell_type": "code",
   "execution_count": 7,
   "metadata": {
    "collapsed": true
   },
   "outputs": [],
   "source": [
    "import urllib.request\n",
    "import zipfile\n",
    "import lxml.etree"
   ]
  },
  {
   "cell_type": "code",
   "execution_count": 8,
   "metadata": {
    "collapsed": true
   },
   "outputs": [],
   "source": [
    "# Download the dataset if it's not already there: this may take a minute as it is 75MB\n",
    "if not os.path.isfile('ted_en-20160408.zip'):\n",
    "    urllib.request.urlretrieve(\"https://wit3.fbk.eu/get.php?path=XML_releases/xml/ted_en-20160408.zip&filename=ted_en-20160408.zip\", filename=\"ted_en-20160408.zip\")"
   ]
  },
  {
   "cell_type": "code",
   "execution_count": 9,
   "metadata": {
    "collapsed": true
   },
   "outputs": [],
   "source": [
    "# For now, we're only interested in the subtitle text, so let's extract that from the XML:\n",
    "with zipfile.ZipFile('ted_en-20160408.zip', 'r') as z:\n",
    "    doc = lxml.etree.parse(z.open('ted_en-20160408.xml', 'r'))\n",
    "input_text = '\\n'.join(doc.xpath('//content/text()'))\n",
    "del doc"
   ]
  },
  {
   "cell_type": "markdown",
   "metadata": {},
   "source": [
    "### Part 1: Preprocessing\n",
    "\n",
    "In this part, we attempt to clean up the raw subtitles a bit, so that we get only sentences. The following substring shows examples of what we're trying to get rid of. Since it's hard to define precisely what we want to get rid of, we'll just use some simple heuristics."
   ]
  },
  {
   "cell_type": "code",
   "execution_count": 10,
   "metadata": {
    "scrolled": false
   },
   "outputs": [
    {
     "data": {
      "text/plain": [
       "' baby does.\\n(Video) Hyowon Gweon: See this? (Ball squeaks) Did you see that? (Ball squeaks) Cool. See this one? (Ball squeaks) Wow.\\nLaura Schulz: Told you. (Laughs)\\n(Vide'"
      ]
     },
     "execution_count": 10,
     "metadata": {},
     "output_type": "execute_result"
    }
   ],
   "source": [
    "i = input_text.find(\"Hyowon Gweon: See this?\")\n",
    "input_text[i-20:i+150]"
   ]
  },
  {
   "cell_type": "markdown",
   "metadata": {},
   "source": [
    "Let's start by removing all parenthesized strings using a regex:"
   ]
  },
  {
   "cell_type": "code",
   "execution_count": 11,
   "metadata": {
    "collapsed": true
   },
   "outputs": [],
   "source": [
    "input_text_noparens = re.sub(r'\\([^)]*\\)', '', input_text)"
   ]
  },
  {
   "cell_type": "markdown",
   "metadata": {},
   "source": [
    "We can verify the same location in the text is now clean as follows. We won't worry about the irregular spaces since we'll later split the text into sentences and tokenize it anyway."
   ]
  },
  {
   "cell_type": "code",
   "execution_count": 12,
   "metadata": {},
   "outputs": [
    {
     "data": {
      "text/plain": [
       "\"hat the baby does.\\n Hyowon Gweon: See this?  Did you see that?  Cool. See this one?  Wow.\\nLaura Schulz: Told you. \\n HG: See this one?  Hey Clara, this one's for you. You \""
      ]
     },
     "execution_count": 12,
     "metadata": {},
     "output_type": "execute_result"
    }
   ],
   "source": [
    "i = input_text_noparens.find(\"Hyowon Gweon: See this?\")\n",
    "input_text_noparens[i-20:i+150]"
   ]
  },
  {
   "cell_type": "markdown",
   "metadata": {},
   "source": [
    "Now, let's attempt to remove speakers' names that occur at the beginning of a line, by deleting pieces of the form \"`<up to 20 characters>:`\", as shown in this example. Of course, this is an imperfect heuristic. "
   ]
  },
  {
   "cell_type": "code",
   "execution_count": 13,
   "metadata": {},
   "outputs": [
    {
     "data": {
      "text/plain": [
       "[\"Here are two reasons companies fail: they only do more of the same, or they only do what's new\",\n",
       " 'To me the real, real solution to quality growth is figuring out the balance between two activities: exploration and exploitation',\n",
       " ' Both are necessary, but it can be too much of a good thing',\n",
       " 'Consider Facit',\n",
       " \" I'm actually old enough to remember them\"]"
      ]
     },
     "execution_count": 13,
     "metadata": {},
     "output_type": "execute_result"
    }
   ],
   "source": [
    "sentences_strings_ted = []\n",
    "for line in input_text_noparens.split('\\n'):\n",
    "    m = re.match(r'^(?:(?P<precolon>[^:]{,20}):)?(?P<postcolon>.*)$', line)\n",
    "    sentences_strings_ted.extend(sent for sent in m.groupdict()['postcolon'].split('.') if sent)\n",
    "\n",
    "# Uncomment if you need to save some RAM: these strings are about 50MB.\n",
    "# del input_text, input_text_noparens\n",
    "\n",
    "# Let's view the first few:\n",
    "sentences_strings_ted[:5]"
   ]
  },
  {
   "cell_type": "markdown",
   "metadata": {},
   "source": [
    "Now that we have sentences, we're ready to tokenize each of them into words. This tokenization is imperfect, of course. For instance, how many tokens is \"can't\", and where/how do we split it? We'll take the simplest naive approach of splitting on spaces. Before splitting, we remove non-alphanumeric characters, such as punctuation. You may want to consider the following question: why do we replace these characters with spaces rather than deleting them? Think of a case where this yields a different answer."
   ]
  },
  {
   "cell_type": "code",
   "execution_count": 14,
   "metadata": {
    "collapsed": true
   },
   "outputs": [],
   "source": [
    "sentences_ted = []\n",
    "for sent_str in sentences_strings_ted:\n",
    "    tokens = re.sub(r\"[^a-z0-9]+\", \" \", sent_str.lower()).split()\n",
    "    sentences_ted.append(tokens)"
   ]
  },
  {
   "cell_type": "markdown",
   "metadata": {},
   "source": [
    "Two sample processed sentences:"
   ]
  },
  {
   "cell_type": "code",
   "execution_count": 15,
   "metadata": {},
   "outputs": [
    {
     "data": {
      "text/plain": [
       "266694"
      ]
     },
     "execution_count": 15,
     "metadata": {},
     "output_type": "execute_result"
    }
   ],
   "source": [
    "len(sentences_ted)"
   ]
  },
  {
   "cell_type": "code",
   "execution_count": 16,
   "metadata": {},
   "outputs": [
    {
     "name": "stdout",
     "output_type": "stream",
     "text": [
      "['here', 'are', 'two', 'reasons', 'companies', 'fail', 'they', 'only', 'do', 'more', 'of', 'the', 'same', 'or', 'they', 'only', 'do', 'what', 's', 'new']\n",
      "['to', 'me', 'the', 'real', 'real', 'solution', 'to', 'quality', 'growth', 'is', 'figuring', 'out', 'the', 'balance', 'between', 'two', 'activities', 'exploration', 'and', 'exploitation']\n"
     ]
    }
   ],
   "source": [
    "print(sentences_ted[0])\n",
    "print(sentences_ted[1])"
   ]
  },
  {
   "cell_type": "markdown",
   "metadata": {},
   "source": [
    "### Part 2: Word Frequencies"
   ]
  },
  {
   "cell_type": "markdown",
   "metadata": {},
   "source": [
    "If you store the counts of the top 1000 words in a list called `counts_ted_top1000`, the code below will plot the histogram requested in the writeup."
   ]
  },
  {
   "cell_type": "code",
   "execution_count": 17,
   "metadata": {},
   "outputs": [
    {
     "name": "stdout",
     "output_type": "stream",
     "text": [
      "['the', 'and', 'to', 'of', 'a', 'that', 'i', 'in', 'it', 'you', 'we', 'is', 's', 'this', 'so', 'they', 'was', 'for', 'are', 'have', 'but', 'what', 'on', 'with', 'can', 't', 'about', 'there', 'be', 'as', 'at', 'all', 'not', 'do', 'my', 'one', 're', 'people', 'like', 'if', 'from', 'now', 'our', 'he', 'an', 'just', 'these', 'or', 'when', 'because', 'very', 'me', 'out', 'by', 'them', 'how', 'know', 'up', 'going', 'had', 'more', 'think', 'who', 'were', 'see', 'your', 'their', 'which', 'would', 'here', 'really', 'get', 've', 'then', 'm', 'world', 'us', 'time', 'some', 'has', 'don', 'actually', 'into', 'way', 'where', 'will', 'years', 'things', 'other', 'no', 'could', 'go', 'well', 'want', 'been', 'make', 'right', 'she', 'said', 'something']\n",
      "[207748, 149305, 125169, 114818, 105399, 95146, 83180, 78070, 74738, 70923, 67629, 63251, 57156, 49241, 37014, 33102, 30806, 29713, 27995, 27344, 26732, 26519, 25962, 24706, 23377, 22757, 21246, 21041, 20201, 19488, 19216, 19021, 18626, 17928, 17908, 17551, 17012, 16723, 16273, 15868, 15452, 14387, 14061, 13986, 13917, 13896, 13882, 13864, 13278, 12879, 12363, 12302, 12163, 11935, 11595, 11576, 11506, 11445, 11366, 10902, 10900, 10463, 10446, 10180, 10179, 10091, 10029, 10021, 9911, 9872, 9675, 9376, 9312, 9239, 9160, 8906, 8841, 8823, 8629, 8262, 8256, 8011, 7858, 7735, 7724, 7617, 7537, 7536, 7281, 7227, 7183, 7168, 7141, 7119, 6937, 6806, 6521, 6424, 6358, 6307]\n",
      "Finished processing\n"
     ]
    }
   ],
   "source": [
    "# ...\n",
    "#type(sentences_ted)\n",
    "#type(sentences_ted[0])\n",
    "#word occurences\n",
    "words = {} #empty dict\n",
    "for s in sentences_ted: #iterate through the sentences\n",
    "    for w in s: #iterate through the words\n",
    "        if w not in words:\n",
    "            words[w] = 0\n",
    "        words[w] += 1 #increment occurency of word\n",
    "\n",
    "#sanity check the words dict\n",
    "#print(words)\n",
    "#Now sort the list for its highest values\n",
    "result = sorted(words, key=lambda k: words[k], reverse=True)\n",
    "print(result[:100])\n",
    "#Get the counts from the most common keys with list comprehension\n",
    "counts = [words[i] for i in result]\n",
    "print(counts[:100])\n",
    "#Take only the first 1000 words in the list\n",
    "counts_ted_top1000 = counts[:1000]\n",
    "print('Finished processing')"
   ]
  },
  {
   "cell_type": "markdown",
   "metadata": {},
   "source": [
    "Plot distribution of top-1000 words"
   ]
  },
  {
   "cell_type": "code",
   "execution_count": 18,
   "metadata": {},
   "outputs": [
    {
     "data": {
      "text/html": [
       "\n",
       "<div class=\"bk-root\">\n",
       "    <div class=\"bk-plotdiv\" id=\"0f09596e-4e31-4f95-971d-a9db44883dd3\"></div>\n",
       "</div>"
      ]
     },
     "metadata": {},
     "output_type": "display_data"
    },
    {
     "data": {
      "application/javascript": [
       "(function(root) {\n",
       "  function embed_document(root) {\n",
       "    var docs_json = {\"8ddd95c2-1b42-4310-bf55-e87e38960c54\":{\"roots\":{\"references\":[{\"attributes\":{\"source\":{\"id\":\"70bb45b0-addf-467b-bc3a-25f10eff31e8\",\"type\":\"ColumnDataSource\"}},\"id\":\"049fa6ea-7ee2-4c80-ac04-a8e99076a2e4\",\"type\":\"CDSView\"},{\"attributes\":{\"below\":[{\"id\":\"73008c8e-3539-4b25-bf90-d6aaa42155ed\",\"type\":\"LinearAxis\"}],\"left\":[{\"id\":\"f0fd782f-7677-4e82-8374-a76b74c46de5\",\"type\":\"LinearAxis\"}],\"renderers\":[{\"id\":\"73008c8e-3539-4b25-bf90-d6aaa42155ed\",\"type\":\"LinearAxis\"},{\"id\":\"0b45a478-6123-47cf-ac59-d22bb02b5ead\",\"type\":\"Grid\"},{\"id\":\"f0fd782f-7677-4e82-8374-a76b74c46de5\",\"type\":\"LinearAxis\"},{\"id\":\"6cce95ac-910d-455a-bd12-2c5fb339339c\",\"type\":\"Grid\"},{\"id\":\"d0776f9f-398b-4720-a09d-df15a682eadf\",\"type\":\"GlyphRenderer\"}],\"title\":{\"id\":\"eff0eb38-d7ac-4102-b092-778774b34c49\",\"type\":\"Title\"},\"toolbar\":{\"id\":\"469b00d5-49e4-4e11-9270-cb4be6cbf6a6\",\"type\":\"Toolbar\"},\"toolbar_location\":\"above\",\"x_range\":{\"id\":\"c0387e47-1599-463d-b6ae-7feaaa86fad8\",\"type\":\"DataRange1d\"},\"x_scale\":{\"id\":\"4e47da8b-b29c-43aa-bd81-89b48735e1b3\",\"type\":\"LinearScale\"},\"y_range\":{\"id\":\"dc24053c-7451-47c2-ace5-090e43196454\",\"type\":\"DataRange1d\"},\"y_scale\":{\"id\":\"2bed4614-efeb-4ada-a23f-f076c4a56cd5\",\"type\":\"LinearScale\"}},\"id\":\"08170529-d631-4741-b19d-e17a412000b8\",\"subtype\":\"Figure\",\"type\":\"Plot\"},{\"attributes\":{\"bottom\":{\"value\":0},\"fill_alpha\":{\"value\":0.1},\"fill_color\":{\"value\":\"#1f77b4\"},\"left\":{\"field\":\"left\"},\"line_alpha\":{\"value\":0.1},\"line_color\":{\"value\":\"#1f77b4\"},\"right\":{\"field\":\"right\"},\"top\":{\"field\":\"top\"}},\"id\":\"c0e4a194-20e2-48a9-8ea4-13d39ec98360\",\"type\":\"Quad\"},{\"attributes\":{},\"id\":\"73f4c978-5db6-4d54-81f5-382166c4f589\",\"type\":\"WheelZoomTool\"},{\"attributes\":{},\"id\":\"d93de21c-9da3-471a-8b1c-e6eefe2429c1\",\"type\":\"ResetTool\"},{\"attributes\":{},\"id\":\"2bed4614-efeb-4ada-a23f-f076c4a56cd5\",\"type\":\"LinearScale\"},{\"attributes\":{\"data_source\":{\"id\":\"70bb45b0-addf-467b-bc3a-25f10eff31e8\",\"type\":\"ColumnDataSource\"},\"glyph\":{\"id\":\"f19e171e-b5d5-4e2e-9d38-1ccd2fe73e0e\",\"type\":\"Quad\"},\"hover_glyph\":null,\"muted_glyph\":null,\"nonselection_glyph\":{\"id\":\"c0e4a194-20e2-48a9-8ea4-13d39ec98360\",\"type\":\"Quad\"},\"selection_glyph\":null,\"view\":{\"id\":\"049fa6ea-7ee2-4c80-ac04-a8e99076a2e4\",\"type\":\"CDSView\"}},\"id\":\"d0776f9f-398b-4720-a09d-df15a682eadf\",\"type\":\"GlyphRenderer\"},{\"attributes\":{},\"id\":\"77c97811-df1b-49a2-9e93-68cf1f9c1c95\",\"type\":\"SaveTool\"},{\"attributes\":{\"callback\":null,\"column_names\":[\"left\",\"right\",\"top\"],\"data\":{\"left\":{\"__ndarray__\":\"AAAAAABAeUB7FK5H4VqjQHsUrkfhxrFAuB6F61HguUB7FK5H4fzAQJqZmZmZCcVAuB6F61EWyUDXo3A9CiPNQHsUrkfhl9BACtejcD2e0kCamZmZmaTUQClcj8L1qtZAuB6F61Gx2EBI4XoUrrfaQNejcD0KvtxAZ2ZmZmbE3kB7FK5HYWXgQMP1KFyPaOFACtejcL1r4kBSuB6F627jQJqZmZkZcuRA4XoUrkd15UApXI/CdXjmQHE9Cteje+dAuB6F69F+6EAAAAAAAILpQEjhehQuhepAkML1KFyI60DXo3A9iovsQB+F61G4ju1AZ2ZmZuaR7kCuR+F6FJXvQHsUrkchTPBAH4XrUbjN8EDD9ShcT0/xQGdmZmbm0PFACtejcH1S8kCuR+F6FNTyQFK4HoWrVfNA9ihcj0LX80CamZmZ2Vj0QD4K16Nw2vRA4XoUrgdc9UCF61G4nt31QClcj8I1X/ZAzczMzMzg9kBxPQrXY2L3QBWuR+H64/dAuB6F65Fl+EBcj8L1KOf4QAAAAADAaPlApHA9Clfq+UBI4XoU7mv6QOxRuB6F7fpAkML1KBxv+0AzMzMzs/D7QNejcD1KcvxAexSuR+Hz/EAfhetReHX9QMP1KFwP9/1AZ2ZmZqZ4/kAK16NwPfr+QK5H4XrUe/9AUrgehWv9/0B7FK5HgT8AQc3MzMxMgABBH4XrURjBAEFxPQrX4wEBQcP1KFyvQgFBFa5H4XqDAUFnZmZmRsQBQbgehesRBQJBCtejcN1FAkFcj8L1qIYCQa5H4Xp0xwJBAAAAAEAIA0FSuB6FC0kDQaRwPQrXiQNB9ihcj6LKA0FI4XoUbgsEQZqZmZk5TARB7FG4HgWNBEE+Ctej0M0EQZDC9SicDgVB4XoUrmdPBUEzMzMzM5AFQYXrUbj+0AVB16NwPcoRBkEpXI/ClVIGQXsUrkdhkwZBzczMzCzUBkEfhetR+BQHQXE9CtfDVQdBw/UoXI+WB0EVrkfhWtcHQWdmZmYmGAhBuB6F6/FYCEEK16NwvZkIQVyPwvWI2ghBrkfhelQbCUE=\",\"dtype\":\"float64\",\"shape\":[100]},\"right\":{\"__ndarray__\":\"exSuR+Fao0B7FK5H4caxQLgehetR4LlAexSuR+H8wECamZmZmQnFQLgehetRFslA16NwPQojzUB7FK5H4ZfQQArXo3A9ntJAmpmZmZmk1EApXI/C9arWQLgehetRsdhASOF6FK632kDXo3A9Cr7cQGdmZmZmxN5AexSuR2Fl4EDD9Shcj2jhQArXo3C9a+JAUrgehetu40CamZmZGXLkQOF6FK5HdeVAKVyPwnV45kBxPQrXo3vnQLgehevRfuhAAAAAAACC6UBI4XoULoXqQJDC9ShciOtA16NwPYqL7EAfhetRuI7tQGdmZmbmke5ArkfhehSV70B7FK5HIUzwQB+F61G4zfBAw/UoXE9P8UBnZmZm5tDxQArXo3B9UvJArkfhehTU8kBSuB6Fq1XzQPYoXI9C1/NAmpmZmdlY9EA+CtejcNr0QOF6FK4HXPVAhetRuJ7d9UApXI/CNV/2QM3MzMzM4PZAcT0K12Ni90AVrkfh+uP3QLgeheuRZfhAXI/C9Sjn+EAAAAAAwGj5QKRwPQpX6vlASOF6FO5r+kDsUbgehe36QJDC9Sgcb/tAMzMzM7Pw+0DXo3A9SnL8QHsUrkfh8/xAH4XrUXh1/UDD9ShcD/f9QGdmZmameP5ACtejcD36/kCuR+F61Hv/QFK4HoVr/f9AexSuR4E/AEHNzMzMTIAAQR+F61EYwQBBcT0K1+MBAUHD9Shcr0IBQRWuR+F6gwFBZ2ZmZkbEAUG4HoXrEQUCQQrXo3DdRQJBXI/C9aiGAkGuR+F6dMcCQQAAAABACANBUrgehQtJA0GkcD0K14kDQfYoXI+iygNBSOF6FG4LBEGamZmZOUwEQexRuB4FjQRBPgrXo9DNBEGQwvUonA4FQeF6FK5nTwVBMzMzMzOQBUGF61G4/tAFQdejcD3KEQZBKVyPwpVSBkF7FK5HYZMGQc3MzMws1AZBH4XrUfgUB0FxPQrXw1UHQcP1KFyPlgdBFa5H4VrXB0FnZmZmJhgIQbgehevxWAhBCtejcL2ZCEFcj8L1iNoIQa5H4XpUGwlBAAAAACBcCUE=\",\"dtype\":\"float64\",\"shape\":[100]},\"top\":{\"__ndarray__\":\"50H1zNSBOT/ypb1tgHIBPwsriUb5Uew+zuTFiLI04j78kGUPxTHhPh40R25oQNY+zuTFiLI00j4pPQWW1y7APsTbB2FDRsg+JT0FltcuwD4tPQWW1y6wPi09BZbXLrA+JT0FltcuwD4tPQWW1y6gPiU9BZbXLrA+LT0FltcuoD4AAAAAAAAAADU9BZbXLqA+AAAAAAAAAAAAAAAAAAAAAAAAAAAAAAAAAAAAAAAAAAAAAAAAAAAAADU9BZbXLqA+AAAAAAAAAAAAAAAAAAAAAAAAAAAAAAAANT0FltcuoD4AAAAAAAAAAAAAAAAAAAAANT0FltcuoD4AAAAAAAAAACU9BZbXLqA+AAAAAAAAAAAlPQWW1y6gPkU9BZbXLqA+AAAAAAAAAAAlPQWW1y6gPgAAAAAAAAAAJT0FltcuoD4AAAAAAAAAAAAAAAAAAAAAAAAAAAAAAAAAAAAAAAAAAAAAAAAAAAAAJT0FltcuoD4AAAAAAAAAAAAAAAAAAAAAAAAAAAAAAAAAAAAAAAAAACU9BZbXLqA+AAAAAAAAAAAAAAAAAAAAAAAAAAAAAAAAAAAAAAAAAAAlPQWW1y6gPgAAAAAAAAAAAAAAAAAAAAAAAAAAAAAAAAAAAAAAAAAART0FltcuoD4AAAAAAAAAAAAAAAAAAAAAAAAAAAAAAAAAAAAAAAAAAAAAAAAAAAAAAAAAAAAAAAAAAAAAAAAAAAAAAAAAAAAAAAAAAAAAAAAAAAAAAAAAACU9BZbXLqA+AAAAAAAAAAAAAAAAAAAAAAAAAAAAAAAAAAAAAAAAAAAAAAAAAAAAAAAAAAAAAAAAAAAAAAAAAAAAAAAAAAAAAAAAAAAAAAAAAAAAAAAAAAAAAAAAAAAAAAAAAAAAAAAAAAAAAAAAAAAAAAAAAAAAAAAAAAAAAAAAAAAAAAAAAAAAAAAAAAAAAAAAAAAAAAAAAAAAAAAAAAAAAAAAAAAAAAAAAAAAAAAAAAAAAAAAAAAAAAAAAAAAAAAAAAAAAAAAAAAAAAAAAAAAAAAAAAAAAAAAAAAAAAAAJT0FltcuoD4=\",\"dtype\":\"float64\",\"shape\":[100]}}},\"id\":\"70bb45b0-addf-467b-bc3a-25f10eff31e8\",\"type\":\"ColumnDataSource\"},{\"attributes\":{},\"id\":\"f9a1808f-fccb-4f62-ba38-cfab08dd4c0c\",\"type\":\"BasicTicker\"},{\"attributes\":{\"active_drag\":\"auto\",\"active_inspect\":\"auto\",\"active_scroll\":\"auto\",\"active_tap\":\"auto\",\"tools\":[{\"id\":\"b5b290b8-0b5c-456e-b45e-40dd2ded6af7\",\"type\":\"PanTool\"},{\"id\":\"73f4c978-5db6-4d54-81f5-382166c4f589\",\"type\":\"WheelZoomTool\"},{\"id\":\"d93de21c-9da3-471a-8b1c-e6eefe2429c1\",\"type\":\"ResetTool\"},{\"id\":\"77c97811-df1b-49a2-9e93-68cf1f9c1c95\",\"type\":\"SaveTool\"}]},\"id\":\"469b00d5-49e4-4e11-9270-cb4be6cbf6a6\",\"type\":\"Toolbar\"},{\"attributes\":{\"callback\":null},\"id\":\"c0387e47-1599-463d-b6ae-7feaaa86fad8\",\"type\":\"DataRange1d\"},{\"attributes\":{\"formatter\":{\"id\":\"8b242eec-7219-4421-8640-578d44f56af3\",\"type\":\"BasicTickFormatter\"},\"plot\":{\"id\":\"08170529-d631-4741-b19d-e17a412000b8\",\"subtype\":\"Figure\",\"type\":\"Plot\"},\"ticker\":{\"id\":\"ff83baf5-cedd-4652-87f8-19e1709f5f3e\",\"type\":\"BasicTicker\"}},\"id\":\"f0fd782f-7677-4e82-8374-a76b74c46de5\",\"type\":\"LinearAxis\"},{\"attributes\":{\"dimension\":1,\"plot\":{\"id\":\"08170529-d631-4741-b19d-e17a412000b8\",\"subtype\":\"Figure\",\"type\":\"Plot\"},\"ticker\":{\"id\":\"ff83baf5-cedd-4652-87f8-19e1709f5f3e\",\"type\":\"BasicTicker\"}},\"id\":\"6cce95ac-910d-455a-bd12-2c5fb339339c\",\"type\":\"Grid\"},{\"attributes\":{\"formatter\":{\"id\":\"2531688e-1d9c-4cb0-b9dd-fe2e42e97157\",\"type\":\"BasicTickFormatter\"},\"plot\":{\"id\":\"08170529-d631-4741-b19d-e17a412000b8\",\"subtype\":\"Figure\",\"type\":\"Plot\"},\"ticker\":{\"id\":\"f9a1808f-fccb-4f62-ba38-cfab08dd4c0c\",\"type\":\"BasicTicker\"}},\"id\":\"73008c8e-3539-4b25-bf90-d6aaa42155ed\",\"type\":\"LinearAxis\"},{\"attributes\":{\"callback\":null},\"id\":\"dc24053c-7451-47c2-ace5-090e43196454\",\"type\":\"DataRange1d\"},{\"attributes\":{},\"id\":\"b5b290b8-0b5c-456e-b45e-40dd2ded6af7\",\"type\":\"PanTool\"},{\"attributes\":{\"bottom\":{\"value\":0},\"fill_color\":{\"value\":\"#1f77b4\"},\"left\":{\"field\":\"left\"},\"line_color\":{\"value\":\"#555555\"},\"right\":{\"field\":\"right\"},\"top\":{\"field\":\"top\"}},\"id\":\"f19e171e-b5d5-4e2e-9d38-1ccd2fe73e0e\",\"type\":\"Quad\"},{\"attributes\":{\"plot\":{\"id\":\"08170529-d631-4741-b19d-e17a412000b8\",\"subtype\":\"Figure\",\"type\":\"Plot\"},\"ticker\":{\"id\":\"f9a1808f-fccb-4f62-ba38-cfab08dd4c0c\",\"type\":\"BasicTicker\"}},\"id\":\"0b45a478-6123-47cf-ac59-d22bb02b5ead\",\"type\":\"Grid\"},{\"attributes\":{},\"id\":\"4e47da8b-b29c-43aa-bd81-89b48735e1b3\",\"type\":\"LinearScale\"},{\"attributes\":{\"plot\":null,\"text\":\"Top-1000 words distribution\"},\"id\":\"eff0eb38-d7ac-4102-b092-778774b34c49\",\"type\":\"Title\"},{\"attributes\":{},\"id\":\"8b242eec-7219-4421-8640-578d44f56af3\",\"type\":\"BasicTickFormatter\"},{\"attributes\":{},\"id\":\"ff83baf5-cedd-4652-87f8-19e1709f5f3e\",\"type\":\"BasicTicker\"},{\"attributes\":{},\"id\":\"2531688e-1d9c-4cb0-b9dd-fe2e42e97157\",\"type\":\"BasicTickFormatter\"}],\"root_ids\":[\"08170529-d631-4741-b19d-e17a412000b8\"]},\"title\":\"Bokeh Application\",\"version\":\"0.12.10\"}};\n",
       "    var render_items = [{\"docid\":\"8ddd95c2-1b42-4310-bf55-e87e38960c54\",\"elementid\":\"0f09596e-4e31-4f95-971d-a9db44883dd3\",\"modelid\":\"08170529-d631-4741-b19d-e17a412000b8\"}];\n",
       "\n",
       "    root.Bokeh.embed.embed_items(docs_json, render_items);\n",
       "  }\n",
       "\n",
       "  if (root.Bokeh !== undefined) {\n",
       "    embed_document(root);\n",
       "  } else {\n",
       "    var attempts = 0;\n",
       "    var timer = setInterval(function(root) {\n",
       "      if (root.Bokeh !== undefined) {\n",
       "        embed_document(root);\n",
       "        clearInterval(timer);\n",
       "      }\n",
       "      attempts++;\n",
       "      if (attempts > 100) {\n",
       "        console.log(\"Bokeh: ERROR: Unable to embed document because BokehJS library is missing\")\n",
       "        clearInterval(timer);\n",
       "      }\n",
       "    }, 10, root)\n",
       "  }\n",
       "})(window);"
      ],
      "application/vnd.bokehjs_exec.v0+json": ""
     },
     "metadata": {
      "application/vnd.bokehjs_exec.v0+json": {
       "id": "08170529-d631-4741-b19d-e17a412000b8"
      }
     },
     "output_type": "display_data"
    }
   ],
   "source": [
    "hist, edges = np.histogram(counts_ted_top1000, density=True, bins=100, normed=True)\n",
    "\n",
    "p = figure(tools=\"pan,wheel_zoom,reset,save\",\n",
    "           toolbar_location=\"above\",\n",
    "           title=\"Top-1000 words distribution\")\n",
    "p.quad(top=hist, bottom=0, left=edges[:-1], right=edges[1:], line_color=\"#555555\")\n",
    "show(p)"
   ]
  },
  {
   "cell_type": "markdown",
   "metadata": {},
   "source": [
    "### Part 3: Train Word2Vec"
   ]
  },
  {
   "cell_type": "code",
   "execution_count": 19,
   "metadata": {
    "collapsed": true
   },
   "outputs": [],
   "source": [
    "from gensim.models import Word2Vec"
   ]
  },
  {
   "cell_type": "code",
   "execution_count": 20,
   "metadata": {
    "collapsed": true
   },
   "outputs": [],
   "source": [
    "# min_count changed to 10 as specified in assignment\n",
    "model_ted = Word2Vec(sentences_ted, size=100, window=5, min_count=10, workers=4)"
   ]
  },
  {
   "cell_type": "markdown",
   "metadata": {},
   "source": [
    "### Part 4: Ted Learnt Representations"
   ]
  },
  {
   "cell_type": "markdown",
   "metadata": {},
   "source": [
    "Finding similar words: (see gensim docs for more functionality of `most_similar`)"
   ]
  },
  {
   "cell_type": "code",
   "execution_count": 21,
   "metadata": {},
   "outputs": [
    {
     "data": {
      "text/plain": [
       "[('woman', 0.8260836601257324),\n",
       " ('guy', 0.8189581036567688),\n",
       " ('lady', 0.7465193271636963),\n",
       " ('boy', 0.7399041652679443),\n",
       " ('soldier', 0.7200625538825989),\n",
       " ('girl', 0.7172132730484009),\n",
       " ('kid', 0.6985421180725098),\n",
       " ('gentleman', 0.6902821063995361),\n",
       " ('rabbi', 0.6654422879219055),\n",
       " ('david', 0.6603211164474487)]"
      ]
     },
     "execution_count": 21,
     "metadata": {},
     "output_type": "execute_result"
    }
   ],
   "source": [
    "model_ted.most_similar(\"man\")"
   ]
  },
  {
   "cell_type": "code",
   "execution_count": 22,
   "metadata": {},
   "outputs": [
    {
     "data": {
      "text/plain": [
       "[('machine', 0.7369974851608276),\n",
       " ('software', 0.6824086904525757),\n",
       " ('robot', 0.6674057245254517),\n",
       " ('device', 0.6445195078849792),\n",
       " ('camera', 0.6320965886116028),\n",
       " ('chip', 0.6283655166625977),\n",
       " ('desktop', 0.6255000829696655),\n",
       " ('3d', 0.6230074167251587),\n",
       " ('interface', 0.6190621256828308),\n",
       " ('simulation', 0.6171108484268188)]"
      ]
     },
     "execution_count": 22,
     "metadata": {},
     "output_type": "execute_result"
    }
   ],
   "source": [
    "model_ted.most_similar(\"computer\")"
   ]
  },
  {
   "cell_type": "code",
   "execution_count": 23,
   "metadata": {},
   "outputs": [
    {
     "name": "stdout",
     "output_type": "stream",
     "text": [
      "[('shorts', 0.8515024185180664), ('pupils', 0.8088683485984802), ('tract', 0.8084986805915833), ('paycheck', 0.8061220049858093), ('brent', 0.8045721650123596), ('grove', 0.8044514656066895), ('gowanus', 0.8017107248306274), ('canoe', 0.8003707528114319), ('airways', 0.7991127967834473), ('alma', 0.7980630397796631)]\n",
      "[('physicist', 0.8281235694885254), ('researcher', 0.7977729439735413), ('designer', 0.7929686307907104), ('writer', 0.7879009246826172), ('psychologist', 0.7768682241439819), ('biologist', 0.7485163807868958), ('professor', 0.7482160329818726), ('mathematician', 0.7293068766593933), ('lawyer', 0.7274506092071533), ('musician', 0.7201676368713379)]\n",
      "[('japanese', 0.8708986043930054), ('french', 0.8291534185409546), ('british', 0.8191104531288147), ('dutch', 0.7985386848449707), ('korean', 0.7885288000106812), ('secretary', 0.7842350006103516), ('royal', 0.7770937085151672), ('nigerian', 0.7728314399719238), ('russian', 0.7667907476425171), ('former', 0.7666962146759033)]\n"
     ]
    }
   ],
   "source": [
    "print(model_ted.most_similar(\"gym\")) #I guess compost and nazis have lots to do with the gym\n",
    "print(model_ted.most_similar(\"scientist\")) #Apparently scientists resemble designers\n",
    "print(model_ted.most_similar(\"german\")) #Wow, ok! Gandhi ...\n",
    "words_top_ted = result[:1000]"
   ]
  },
  {
   "cell_type": "markdown",
   "metadata": {},
   "source": [
    "#### t-SNE visualization\n",
    "To use the t-SNE code below, first put a list of the top 1000 words (as strings) into a variable `words_top_ted`. The following code gets the corresponding vectors from the model, assuming it's called `model_ted`:"
   ]
  },
  {
   "cell_type": "code",
   "execution_count": 24,
   "metadata": {},
   "outputs": [],
   "source": [
    "# This assumes words_top_ted is a list of strings, the top 1000 words\n",
    "words_top_vec_ted = model_ted[words_top_ted]"
   ]
  },
  {
   "cell_type": "code",
   "execution_count": 25,
   "metadata": {
    "collapsed": true
   },
   "outputs": [],
   "source": [
    "from sklearn.manifold import TSNE\n",
    "tsne = TSNE(n_components=2, random_state=0)\n",
    "words_top_ted_tsne = tsne.fit_transform(words_top_vec_ted)"
   ]
  },
  {
   "cell_type": "code",
   "execution_count": 26,
   "metadata": {},
   "outputs": [
    {
     "data": {
      "text/html": [
       "\n",
       "<div class=\"bk-root\">\n",
       "    <div class=\"bk-plotdiv\" id=\"a5d7a253-bdb8-458c-a009-5c67a64907c7\"></div>\n",
       "</div>"
      ]
     },
     "metadata": {},
     "output_type": "display_data"
    },
    {
     "data": {
      "application/javascript": [
       "(function(root) {\n",
       "  function embed_document(root) {\n",
       "    var docs_json = {\"61035f37-afc1-44bf-945b-d115fd086561\":{\"roots\":{\"references\":[{\"attributes\":{},\"id\":\"37945f12-e820-49a2-876a-3a03770f8c63\",\"type\":\"PanTool\"},{\"attributes\":{},\"id\":\"4205c408-1794-46c3-902e-f13bde584196\",\"type\":\"WheelZoomTool\"},{\"attributes\":{},\"id\":\"35e6608b-b8fc-40d8-89a8-b59ab6e852f3\",\"type\":\"ResetTool\"},{\"attributes\":{},\"id\":\"9620f36f-c479-4f8e-806d-f0a93b755e6d\",\"type\":\"SaveTool\"},{\"attributes\":{},\"id\":\"8291439f-480d-4aa8-92c3-8fb97a9d234a\",\"type\":\"BasicTickFormatter\"},{\"attributes\":{\"fill_alpha\":{\"value\":0.1},\"fill_color\":{\"value\":\"#1f77b4\"},\"line_alpha\":{\"value\":0.1},\"line_color\":{\"value\":\"#1f77b4\"},\"size\":{\"units\":\"screen\",\"value\":8},\"x\":{\"field\":\"x1\"},\"y\":{\"field\":\"x2\"}},\"id\":\"d1b000ea-2c40-4b29-800d-dfa30a2c3140\",\"type\":\"Circle\"},{\"attributes\":{},\"id\":\"07fd1aed-acfc-48b4-be02-81e7d682f227\",\"type\":\"LinearScale\"},{\"attributes\":{},\"id\":\"5993dfb6-87dc-4c03-ae1b-caf70adf0dce\",\"type\":\"BasicTickFormatter\"},{\"attributes\":{\"data_source\":{\"id\":\"87c82b81-7e4b-4f46-939f-e0aae57fcf0d\",\"type\":\"ColumnDataSource\"},\"glyph\":{\"id\":\"5c3e2e2b-aae2-448e-9443-d408207fa69f\",\"type\":\"Circle\"},\"hover_glyph\":null,\"muted_glyph\":null,\"nonselection_glyph\":{\"id\":\"d1b000ea-2c40-4b29-800d-dfa30a2c3140\",\"type\":\"Circle\"},\"selection_glyph\":null,\"view\":{\"id\":\"fc919ab2-d3fb-448a-848d-1ab4a29cc629\",\"type\":\"CDSView\"}},\"id\":\"e7697a0a-b205-4153-b463-a1b9f2f4b0cd\",\"type\":\"GlyphRenderer\"},{\"attributes\":{\"formatter\":{\"id\":\"5993dfb6-87dc-4c03-ae1b-caf70adf0dce\",\"type\":\"BasicTickFormatter\"},\"plot\":{\"id\":\"e99dccee-fbd5-4bb9-b965-16714421aefa\",\"subtype\":\"Figure\",\"type\":\"Plot\"},\"ticker\":{\"id\":\"1e6725e0-d13e-47e9-97d5-aa9bcca0cc94\",\"type\":\"BasicTicker\"}},\"id\":\"4270e7aa-585c-4815-a698-4ce3f48cffd8\",\"type\":\"LinearAxis\"},{\"attributes\":{},\"id\":\"91f69e28-8545-4098-893c-7dc54a255a3f\",\"type\":\"LinearScale\"},{\"attributes\":{\"plot\":{\"id\":\"e99dccee-fbd5-4bb9-b965-16714421aefa\",\"subtype\":\"Figure\",\"type\":\"Plot\"},\"source\":{\"id\":\"87c82b81-7e4b-4f46-939f-e0aae57fcf0d\",\"type\":\"ColumnDataSource\"},\"text\":{\"field\":\"names\"},\"text_align\":\"center\",\"text_color\":{\"value\":\"#555555\"},\"text_font_size\":{\"value\":\"8pt\"},\"x\":{\"field\":\"x1\"},\"y\":{\"field\":\"x2\"},\"y_offset\":{\"value\":6}},\"id\":\"8d84c088-0949-422d-818a-7f837bd58318\",\"type\":\"LabelSet\"},{\"attributes\":{\"below\":[{\"id\":\"4270e7aa-585c-4815-a698-4ce3f48cffd8\",\"type\":\"LinearAxis\"}],\"left\":[{\"id\":\"cfc78890-4b94-44eb-a1a2-86d5d3f941da\",\"type\":\"LinearAxis\"}],\"renderers\":[{\"id\":\"4270e7aa-585c-4815-a698-4ce3f48cffd8\",\"type\":\"LinearAxis\"},{\"id\":\"ee1a4e09-2741-4e1c-867d-6de387b3a3df\",\"type\":\"Grid\"},{\"id\":\"cfc78890-4b94-44eb-a1a2-86d5d3f941da\",\"type\":\"LinearAxis\"},{\"id\":\"795f89af-13ec-407f-9b69-12543af0d1c5\",\"type\":\"Grid\"},{\"id\":\"e7697a0a-b205-4153-b463-a1b9f2f4b0cd\",\"type\":\"GlyphRenderer\"},{\"id\":\"8d84c088-0949-422d-818a-7f837bd58318\",\"type\":\"LabelSet\"}],\"title\":{\"id\":\"e7972181-6c46-4bbc-a075-d362e8d7a7ed\",\"type\":\"Title\"},\"toolbar\":{\"id\":\"48ebd4b6-6fcb-47cb-a357-41db2d4ee173\",\"type\":\"Toolbar\"},\"toolbar_location\":\"above\",\"x_range\":{\"id\":\"26a2ec92-d5de-4545-9d6e-7843c2ddca95\",\"type\":\"DataRange1d\"},\"x_scale\":{\"id\":\"91f69e28-8545-4098-893c-7dc54a255a3f\",\"type\":\"LinearScale\"},\"y_range\":{\"id\":\"8bced64e-1586-4f0d-9596-48959cd64666\",\"type\":\"DataRange1d\"},\"y_scale\":{\"id\":\"07fd1aed-acfc-48b4-be02-81e7d682f227\",\"type\":\"LinearScale\"}},\"id\":\"e99dccee-fbd5-4bb9-b965-16714421aefa\",\"subtype\":\"Figure\",\"type\":\"Plot\"},{\"attributes\":{\"callback\":null,\"column_names\":[\"x1\",\"x2\",\"names\"],\"data\":{\"names\":[\"the\",\"and\",\"to\",\"of\",\"a\",\"that\",\"i\",\"in\",\"it\",\"you\",\"we\",\"is\",\"s\",\"this\",\"so\",\"they\",\"was\",\"for\",\"are\",\"have\",\"but\",\"what\",\"on\",\"with\",\"can\",\"t\",\"about\",\"there\",\"be\",\"as\",\"at\",\"all\",\"not\",\"do\",\"my\",\"one\",\"re\",\"people\",\"like\",\"if\",\"from\",\"now\",\"our\",\"he\",\"an\",\"just\",\"these\",\"or\",\"when\",\"because\",\"very\",\"me\",\"out\",\"by\",\"them\",\"how\",\"know\",\"up\",\"going\",\"had\",\"more\",\"think\",\"who\",\"were\",\"see\",\"your\",\"their\",\"which\",\"would\",\"here\",\"really\",\"get\",\"ve\",\"then\",\"m\",\"world\",\"us\",\"time\",\"some\",\"has\",\"don\",\"actually\",\"into\",\"way\",\"where\",\"will\",\"years\",\"things\",\"other\",\"no\",\"could\",\"go\",\"well\",\"want\",\"been\",\"make\",\"right\",\"she\",\"said\",\"something\",\"those\",\"first\",\"two\",\"than\",\"much\",\"also\",\"look\",\"new\",\"thing\",\"little\",\"got\",\"back\",\"over\",\"most\",\"say\",\"even\",\"his\",\"life\",\"only\",\"work\",\"many\",\"take\",\"need\",\"did\",\"lot\",\"kind\",\"why\",\"good\",\"around\",\"every\",\"different\",\"down\",\"ll\",\"let\",\"her\",\"through\",\"same\",\"being\",\"come\",\"d\",\"day\",\"year\",\"three\",\"use\",\"doing\",\"put\",\"called\",\"any\",\"today\",\"percent\",\"made\",\"after\",\"thank\",\"tell\",\"great\",\"human\",\"find\",\"didn\",\"fact\",\"talk\",\"change\",\"started\",\"another\",\"idea\",\"big\",\"last\",\"own\",\"before\",\"its\",\"never\",\"should\",\"better\",\"give\",\"thought\",\"went\",\"might\",\"important\",\"000\",\"again\",\"able\",\"together\",\"still\",\"problem\",\"off\",\"next\",\"part\",\"course\",\"system\",\"him\",\"does\",\"each\",\"start\",\"show\",\"long\",\"ago\",\"story\",\"came\",\"brain\",\"few\",\"bit\",\"between\",\"used\",\"place\",\"technology\",\"women\",\"too\",\"old\",\"mean\",\"data\",\"water\",\"looking\",\"question\",\"maybe\",\"found\",\"love\",\"doesn\",\"end\",\"example\",\"10\",\"done\",\"point\",\"four\",\"real\",\"wanted\",\"ever\",\"school\",\"understand\",\"sort\",\"live\",\"call\",\"whole\",\"children\",\"always\",\"trying\",\"may\",\"person\",\"away\",\"believe\",\"feel\",\"try\",\"million\",\"working\",\"help\",\"everything\",\"five\",\"country\",\"thinking\",\"second\",\"using\",\"information\",\"money\",\"means\",\"power\",\"took\",\"times\",\"high\",\"space\",\"number\",\"kids\",\"home\",\"become\",\"create\",\"small\",\"design\",\"making\",\"best\",\"left\",\"getting\",\"future\",\"enough\",\"man\",\"quite\",\"city\",\"without\",\"sense\",\"happened\",\"comes\",\"social\",\"probably\",\"less\",\"light\",\"talking\",\"energy\",\"am\",\"building\",\"science\",\"food\",\"body\",\"told\",\"interesting\",\"ask\",\"half\",\"pretty\",\"hard\",\"play\",\"anything\",\"lives\",\"countries\",\"coming\",\"such\",\"family\",\"stuff\",\"dollars\",\"earth\",\"moment\",\"20\",\"imagine\",\"across\",\"side\",\"while\",\"saw\",\"happen\",\"once\",\"okay\",\"build\",\"having\",\"men\",\"later\",\"experience\",\"makes\",\"asked\",\"living\",\"seen\",\"says\",\"room\",\"hand\",\"simple\",\"health\",\"ways\",\"else\",\"case\",\"yet\",\"almost\",\"young\",\"days\",\"nothing\",\"care\",\"bad\",\"happens\",\"goes\",\"move\",\"states\",\"reason\",\"computer\",\"open\",\"learn\",\"africa\",\"process\",\"inside\",\"someone\",\"six\",\"far\",\"mind\",\"project\",\"remember\",\"single\",\"picture\",\"both\",\"whether\",\"problems\",\"saying\",\"community\",\"basically\",\"already\",\"within\",\"looked\",\"myself\",\"billion\",\"often\",\"possible\",\"business\",\"planet\",\"global\",\"everybody\",\"top\",\"sure\",\"public\",\"set\",\"wrong\",\"car\",\"book\",\"keep\",\"yes\",\"answer\",\"oh\",\"hope\",\"sometimes\",\"true\",\"history\",\"war\",\"guy\",\"child\",\"instead\",\"months\",\"ideas\",\"looks\",\"matter\",\"government\",\"amazing\",\"united\",\"since\",\"bring\",\"age\",\"cells\",\"job\",\"heard\",\"until\",\"face\",\"wasn\",\"100\",\"read\",\"control\",\"isn\",\"research\",\"30\",\"words\",\"u\",\"group\",\"under\",\"self\",\"somebody\",\"built\",\"state\",\"woman\",\"turn\",\"friends\",\"beautiful\",\"line\",\"knew\",\"couple\",\"order\",\"form\",\"yeah\",\"internet\",\"middle\",\"music\",\"piece\",\"nature\",\"head\",\"though\",\"stop\",\"everyone\",\"50\",\"places\",\"video\",\"learned\",\"language\",\"run\",\"night\",\"decided\",\"study\",\"word\",\"cancer\",\"taking\",\"works\",\"became\",\"exactly\",\"species\",\"society\",\"completely\",\"education\",\"against\",\"stories\",\"large\",\"share\",\"level\",\"heart\",\"america\",\"model\",\"questions\",\"gets\",\"mother\",\"god\",\"company\",\"turns\",\"ourselves\",\"happening\",\"hear\",\"art\",\"themselves\",\"must\",\"itself\",\"rather\",\"kinds\",\"students\",\"name\",\"hours\",\"disease\",\"front\",\"house\",\"huge\",\"couldn\",\"created\",\"universe\",\"ok\",\"animals\",\"american\",\"environment\",\"worked\",\"minutes\",\"ones\",\"black\",\"perhaps\",\"1\",\"past\",\"third\",\"along\",\"others\",\"finally\",\"sound\",\"early\",\"game\",\"thousands\",\"century\",\"based\",\"least\",\"per\",\"ted\",\"lots\",\"figure\",\"free\",\"guys\",\"particular\",\"happy\",\"news\",\"learning\",\"entire\",\"won\",\"gave\",\"machine\",\"india\",\"during\",\"systems\",\"air\",\"difference\",\"outside\",\"natural\",\"taken\",\"seven\",\"given\",\"changed\",\"leave\",\"cell\",\"15\",\"close\",\"behind\",\"cities\",\"full\",\"scale\",\"difficult\",\"china\",\"takes\",\"companies\",\"yourself\",\"area\",\"reality\",\"seeing\",\"easy\",\"turned\",\"cost\",\"eyes\",\"team\",\"moving\",\"population\",\"culture\",\"york\",\"hands\",\"whatever\",\"began\",\"needs\",\"terms\",\"image\",\"simply\",\"needed\",\"beginning\",\"father\",\"local\",\"realized\",\"media\",\"death\",\"parents\",\"view\",\"walk\",\"white\",\"market\",\"parts\",\"ocean\",\"economic\",\"eight\",\"powerful\",\"known\",\"week\",\"size\",\"felt\",\"humans\",\"certain\",\"spend\",\"longer\",\"phone\",\"wonderful\",\"cannot\",\"grow\",\"common\",\"center\",\"tried\",\"fish\",\"land\",\"oil\",\"political\",\"interested\",\"deal\",\"red\",\"gone\",\"amount\",\"weeks\",\"spent\",\"opportunity\",\"paper\",\"lost\",\"national\",\"quickly\",\"blue\",\"step\",\"poor\",\"green\",\"buy\",\"growth\",\"wouldn\",\"either\",\"patients\",\"sitting\",\"ability\",\"changes\",\"write\",\"challenge\",\"south\",\"low\",\"growing\",\"friend\",\"field\",\"shows\",\"2\",\"born\",\"rest\",\"climate\",\"40\",\"test\",\"street\",\"surface\",\"incredible\",\"average\",\"physical\",\"morning\",\"scientists\",\"program\",\"pay\",\"value\",\"feeling\",\"hundreds\",\"girl\",\"met\",\"behavior\",\"economy\",\"dna\",\"complex\",\"access\",\"risk\",\"animal\",\"structure\",\"feet\",\"attention\",\"areas\",\"anyone\",\"deep\",\"watch\",\"short\",\"absolutely\",\"speak\",\"brought\",\"die\",\"bottom\",\"numbers\",\"audience\",\"stage\",\"realize\",\"law\",\"images\",\"wrote\",\"understanding\",\"knowledge\",\"literally\",\"books\",\"movement\",\"ground\",\"giving\",\"eat\",\"force\",\"seems\",\"alone\",\"telling\",\"starting\",\"hold\",\"nice\",\"forward\",\"sea\",\"developed\",\"individual\",\"kid\",\"millions\",\"support\",\"miles\",\"tools\",\"running\",\"online\",\"result\",\"act\",\"medical\",\"technologies\",\"north\",\"lab\",\"development\",\"blood\",\"fear\",\"nobody\",\"map\",\"personal\",\"issue\",\"voice\",\"material\",\"key\",\"12\",\"recently\",\"theory\",\"cut\",\"cars\",\"sun\",\"fast\",\"changing\",\"playing\",\"clear\",\"especially\",\"soon\",\"girls\",\"patient\",\"choice\",\"fly\",\"creating\",\"normal\",\"discovered\",\"europe\",\"talked\",\"relationship\",\"gives\",\"generation\",\"dark\",\"type\",\"showed\",\"chance\",\"seem\",\"industry\",\"asking\",\"rate\",\"fun\",\"issues\",\"color\",\"designed\",\"hour\",\"university\",\"innovation\",\"several\",\"class\",\"computers\",\"english\",\"tiny\",\"allow\",\"save\",\"focus\",\"digital\",\"solve\",\"developing\",\"network\",\"film\",\"special\",\"wall\",\"situation\",\"baby\",\"solution\",\"reasons\",\"box\",\"knows\",\"meet\",\"dead\",\"stand\",\"begin\",\"haven\",\"impact\",\"anybody\",\"term\",\"beyond\",\"pictures\",\"please\",\"ice\",\"produce\",\"shape\",\"non\",\"resources\",\"robot\",\"cool\",\"groups\",\"likely\",\"stay\",\"available\",\"truth\",\"rights\",\"major\",\"cause\",\"evidence\",\"obviously\",\"writing\",\"experiment\",\"modern\",\"drug\",\"becomes\",\"incredibly\",\"aren\",\"bigger\",\"guess\",\"nine\",\"product\",\"drugs\",\"lived\",\"involved\",\"perfect\",\"google\",\"month\",\"effect\",\"similar\",\"putting\",\"eye\",\"pick\",\"message\",\"quality\",\"violence\",\"web\",\"evolution\",\"security\",\"office\",\"basic\",\"solar\",\"indeed\",\"general\",\"towards\",\"present\",\"drive\",\"send\",\"listen\",\"worth\",\"revolution\",\"explain\",\"hundred\",\"certainly\",\"died\",\"ready\",\"teach\",\"journey\",\"25\",\"hit\",\"walking\",\"led\",\"approach\",\"international\",\"200\",\"scientific\",\"games\",\"60\",\"potential\",\"crazy\",\"communities\",\"chinese\",\"device\",\"source\",\"camera\",\"rules\",\"sex\",\"carbon\",\"sounds\",\"boy\",\"reach\",\"starts\",\"examples\",\"west\",\"3\",\"success\",\"measure\",\"particularly\",\"software\",\"totally\",\"suddenly\",\"action\",\"college\",\"higher\",\"code\",\"eventually\",\"democracy\",\"among\",\"minute\",\"sit\",\"largest\",\"showing\",\"hospital\",\"notice\",\"period\",\"mass\",\"develop\",\"dream\",\"onto\",\"plants\",\"break\",\"add\",\"memory\",\"everywhere\",\"favorite\",\"11\",\"zero\",\"speed\",\"schools\",\"moved\",\"response\",\"wants\",\"extremely\",\"movie\",\"individuals\",\"table\",\"wait\",\"medicine\",\"follow\",\"anyway\",\"trust\",\"plant\",\"biggest\",\"watching\",\"organization\",\"creative\",\"road\",\"choose\",\"worse\",\"lead\",\"results\",\"500\",\"exciting\",\"grew\",\"materials\",\"jobs\",\"plan\",\"east\",\"poverty\",\"positive\",\"safe\",\"strong\",\"fall\",\"essentially\",\"object\",\"door\",\"son\",\"vision\",\"further\",\"happiness\",\"continue\",\"student\",\"doctor\",\"including\",\"named\",\"role\",\"objects\",\"extraordinary\",\"standing\",\"skin\",\"leaders\",\"usually\",\"african\",\"conversation\",\"projects\",\"allowed\",\"models\",\"supposed\",\"faster\",\"interest\",\"families\",\"police\",\"fight\",\"tree\",\"connected\",\"screen\",\"5\",\"cases\",\"goal\",\"somewhere\",\"finding\",\"buildings\",\"shown\"],\"x1\":{\"__ndarray__\":\"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\",\"dtype\":\"float64\",\"shape\":[1000]},\"x2\":{\"__ndarray__\":\"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\",\"dtype\":\"float64\",\"shape\":[1000]}}},\"id\":\"87c82b81-7e4b-4f46-939f-e0aae57fcf0d\",\"type\":\"ColumnDataSource\"},{\"attributes\":{\"fill_color\":{\"value\":\"#1f77b4\"},\"line_color\":{\"value\":\"#1f77b4\"},\"size\":{\"units\":\"screen\",\"value\":8},\"x\":{\"field\":\"x1\"},\"y\":{\"field\":\"x2\"}},\"id\":\"5c3e2e2b-aae2-448e-9443-d408207fa69f\",\"type\":\"Circle\"},{\"attributes\":{\"plot\":null,\"text\":\"word2vec T-SNE for most common words\"},\"id\":\"e7972181-6c46-4bbc-a075-d362e8d7a7ed\",\"type\":\"Title\"},{\"attributes\":{\"callback\":null},\"id\":\"26a2ec92-d5de-4545-9d6e-7843c2ddca95\",\"type\":\"DataRange1d\"},{\"attributes\":{\"active_drag\":\"auto\",\"active_inspect\":\"auto\",\"active_scroll\":\"auto\",\"active_tap\":\"auto\",\"tools\":[{\"id\":\"37945f12-e820-49a2-876a-3a03770f8c63\",\"type\":\"PanTool\"},{\"id\":\"4205c408-1794-46c3-902e-f13bde584196\",\"type\":\"WheelZoomTool\"},{\"id\":\"35e6608b-b8fc-40d8-89a8-b59ab6e852f3\",\"type\":\"ResetTool\"},{\"id\":\"9620f36f-c479-4f8e-806d-f0a93b755e6d\",\"type\":\"SaveTool\"}]},\"id\":\"48ebd4b6-6fcb-47cb-a357-41db2d4ee173\",\"type\":\"Toolbar\"},{\"attributes\":{\"plot\":{\"id\":\"e99dccee-fbd5-4bb9-b965-16714421aefa\",\"subtype\":\"Figure\",\"type\":\"Plot\"},\"ticker\":{\"id\":\"1e6725e0-d13e-47e9-97d5-aa9bcca0cc94\",\"type\":\"BasicTicker\"}},\"id\":\"ee1a4e09-2741-4e1c-867d-6de387b3a3df\",\"type\":\"Grid\"},{\"attributes\":{\"source\":{\"id\":\"87c82b81-7e4b-4f46-939f-e0aae57fcf0d\",\"type\":\"ColumnDataSource\"}},\"id\":\"fc919ab2-d3fb-448a-848d-1ab4a29cc629\",\"type\":\"CDSView\"},{\"attributes\":{\"callback\":null},\"id\":\"8bced64e-1586-4f0d-9596-48959cd64666\",\"type\":\"DataRange1d\"},{\"attributes\":{},\"id\":\"1e6725e0-d13e-47e9-97d5-aa9bcca0cc94\",\"type\":\"BasicTicker\"},{\"attributes\":{\"formatter\":{\"id\":\"8291439f-480d-4aa8-92c3-8fb97a9d234a\",\"type\":\"BasicTickFormatter\"},\"plot\":{\"id\":\"e99dccee-fbd5-4bb9-b965-16714421aefa\",\"subtype\":\"Figure\",\"type\":\"Plot\"},\"ticker\":{\"id\":\"d9f1354c-30bf-4273-97c7-7f96fa0a7034\",\"type\":\"BasicTicker\"}},\"id\":\"cfc78890-4b94-44eb-a1a2-86d5d3f941da\",\"type\":\"LinearAxis\"},{\"attributes\":{},\"id\":\"d9f1354c-30bf-4273-97c7-7f96fa0a7034\",\"type\":\"BasicTicker\"},{\"attributes\":{\"dimension\":1,\"plot\":{\"id\":\"e99dccee-fbd5-4bb9-b965-16714421aefa\",\"subtype\":\"Figure\",\"type\":\"Plot\"},\"ticker\":{\"id\":\"d9f1354c-30bf-4273-97c7-7f96fa0a7034\",\"type\":\"BasicTicker\"}},\"id\":\"795f89af-13ec-407f-9b69-12543af0d1c5\",\"type\":\"Grid\"}],\"root_ids\":[\"e99dccee-fbd5-4bb9-b965-16714421aefa\"]},\"title\":\"Bokeh Application\",\"version\":\"0.12.10\"}};\n",
       "    var render_items = [{\"docid\":\"61035f37-afc1-44bf-945b-d115fd086561\",\"elementid\":\"a5d7a253-bdb8-458c-a009-5c67a64907c7\",\"modelid\":\"e99dccee-fbd5-4bb9-b965-16714421aefa\"}];\n",
       "\n",
       "    root.Bokeh.embed.embed_items(docs_json, render_items);\n",
       "  }\n",
       "\n",
       "  if (root.Bokeh !== undefined) {\n",
       "    embed_document(root);\n",
       "  } else {\n",
       "    var attempts = 0;\n",
       "    var timer = setInterval(function(root) {\n",
       "      if (root.Bokeh !== undefined) {\n",
       "        embed_document(root);\n",
       "        clearInterval(timer);\n",
       "      }\n",
       "      attempts++;\n",
       "      if (attempts > 100) {\n",
       "        console.log(\"Bokeh: ERROR: Unable to embed document because BokehJS library is missing\")\n",
       "        clearInterval(timer);\n",
       "      }\n",
       "    }, 10, root)\n",
       "  }\n",
       "})(window);"
      ],
      "application/vnd.bokehjs_exec.v0+json": ""
     },
     "metadata": {
      "application/vnd.bokehjs_exec.v0+json": {
       "id": "e99dccee-fbd5-4bb9-b965-16714421aefa"
      }
     },
     "output_type": "display_data"
    }
   ],
   "source": [
    "p = figure(tools=\"pan,wheel_zoom,reset,save\",\n",
    "           toolbar_location=\"above\",\n",
    "           title=\"word2vec T-SNE for most common words\")\n",
    "\n",
    "source = ColumnDataSource(data=dict(x1=words_top_ted_tsne[:,0],\n",
    "                                    x2=words_top_ted_tsne[:,1],\n",
    "                                    names=words_top_ted))\n",
    "\n",
    "p.scatter(x=\"x1\", y=\"x2\", size=8, source=source)\n",
    "\n",
    "labels = LabelSet(x=\"x1\", y=\"x2\", text=\"names\", y_offset=6,\n",
    "                  text_font_size=\"8pt\", text_color=\"#555555\",\n",
    "                  source=source, text_align='center')\n",
    "p.add_layout(labels)\n",
    "\n",
    "show(p)"
   ]
  },
  {
   "cell_type": "markdown",
   "metadata": {},
   "source": [
    "### Part 5: Wiki Learnt Representations"
   ]
  },
  {
   "cell_type": "markdown",
   "metadata": {},
   "source": [
    "Download dataset"
   ]
  },
  {
   "cell_type": "code",
   "execution_count": 27,
   "metadata": {},
   "outputs": [],
   "source": [
    "if not os.path.isfile('wikitext-103-raw-v1.zip'):\n",
    "    urllib.request.urlretrieve(\"https://s3.amazonaws.com/research.metamind.io/wikitext/wikitext-103-raw-v1.zip\", filename=\"wikitext-103-raw-v1.zip\")"
   ]
  },
  {
   "cell_type": "code",
   "execution_count": 28,
   "metadata": {
    "collapsed": true
   },
   "outputs": [],
   "source": [
    "with zipfile.ZipFile('wikitext-103-raw-v1.zip', 'r') as z:\n",
    "    input_text = str(z.open('wikitext-103-raw/wiki.train.raw', 'r').read(), encoding='utf-8') # Thanks Robert Bastian"
   ]
  },
  {
   "cell_type": "markdown",
   "metadata": {},
   "source": [
    "Preprocess sentences (note that it's important to remove small sentences for performance)"
   ]
  },
  {
   "cell_type": "code",
   "execution_count": 29,
   "metadata": {},
   "outputs": [],
   "source": [
    "sentences_wiki = []\n",
    "for line in input_text.split('\\n'):\n",
    "    s = [x for x in line.split('.') if x and len(x.split()) >= 5]\n",
    "    sentences_wiki.extend(s)\n",
    "    \n",
    "for s_i in range(len(sentences_wiki)):\n",
    "    sentences_wiki[s_i] = re.sub(\"[^a-z]\", \" \", sentences_wiki[s_i].lower())\n",
    "    sentences_wiki[s_i] = re.sub(r'\\([^)]*\\)', '', sentences_wiki[s_i])\n",
    "del input_text"
   ]
  },
  {
   "cell_type": "code",
   "execution_count": 30,
   "metadata": {},
   "outputs": [
    {
     "name": "stdout",
     "output_type": "stream",
     "text": [
      "4267112\n",
      "853422\n"
     ]
    }
   ],
   "source": [
    "# sample 1/5 of the data\n",
    "shuffle(sentences_wiki)\n",
    "print(len(sentences_wiki))\n",
    "sentences_wiki = sentences_wiki[:int(len(sentences_wiki)/5)]\n",
    "print(len(sentences_wiki))"
   ]
  },
  {
   "cell_type": "markdown",
   "metadata": {},
   "source": [
    "Now, repeat all the same steps that you performed above. You should be able to reuse essentially all the code."
   ]
  },
  {
   "cell_type": "code",
   "execution_count": 33,
   "metadata": {
    "collapsed": true
   },
   "outputs": [],
   "source": [
    "model_wiki = Word2Vec(words_wiki, size=100, window=5, min_count=10, workers=4)"
   ]
  },
  {
   "cell_type": "code",
   "execution_count": 31,
   "metadata": {},
   "outputs": [
    {
     "name": "stdout",
     "output_type": "stream",
     "text": [
      "Finished processing\n"
     ]
    }
   ],
   "source": [
    "#convert sentences to words\n",
    "words_wiki = []\n",
    "for sent_str in sentences_wiki:\n",
    "    tokens = re.sub(r\"[^a-z0-9]+\", \" \", sent_str.lower()).split()\n",
    "    words_wiki.append(tokens)\n",
    "dict_wiki = {} #empty dict\n",
    "for s in words_wiki: #iterate through the sentences\n",
    "    for w in s: #iterate through the words\n",
    "        if w not in dict_wiki:\n",
    "            dict_wiki[w] = 0\n",
    "        dict_wiki[w] += 1 #increment occurency of word\n",
    "\n",
    "#sanity check the words dict\n",
    "#print(words)\n",
    "#Now sort the list for its highest values\n",
    "result_wiki = sorted(dict_wiki, key=lambda k: dict_wiki[k], reverse=True)\n",
    "#print(result[:10])\n",
    "#Get the counts from the most common keys with list comprehension\n",
    "counts_wiki = [dict_wiki[i] for i in result_wiki]\n",
    "#print(counts[:100])\n",
    "#Take only the first 1000 words in the list\n",
    "counts_top_wiki = counts_wiki[:1000]\n",
    "words_top_wiki = result_wiki[:1000]\n",
    "print('Finished processing')"
   ]
  },
  {
   "cell_type": "markdown",
   "metadata": {},
   "source": [
    "#### t-SNE visualization"
   ]
  },
  {
   "cell_type": "code",
   "execution_count": 34,
   "metadata": {},
   "outputs": [],
   "source": [
    "# This assumes words_top_wiki is a list of strings, the top 1000 words\n",
    "words_top_vec_wiki = model_wiki[words_top_wiki]\n",
    "\n",
    "tsne = TSNE(n_components=2, random_state=0)\n",
    "words_top_wiki_tsne = tsne.fit_transform(words_top_vec_wiki)"
   ]
  },
  {
   "cell_type": "code",
   "execution_count": 35,
   "metadata": {},
   "outputs": [
    {
     "data": {
      "text/html": [
       "\n",
       "<div class=\"bk-root\">\n",
       "    <div class=\"bk-plotdiv\" id=\"e96dea49-1c70-4bc7-8bb7-6c2e8d6adf02\"></div>\n",
       "</div>"
      ]
     },
     "metadata": {},
     "output_type": "display_data"
    },
    {
     "data": {
      "application/javascript": [
       "(function(root) {\n",
       "  function embed_document(root) {\n",
       "    var docs_json = {\"0f868acc-903e-43b3-8647-6a8be1b8090c\":{\"roots\":{\"references\":[{\"attributes\":{},\"id\":\"70753c4e-50d7-4a8c-89a7-7458075c3355\",\"type\":\"BasicTickFormatter\"},{\"attributes\":{},\"id\":\"3f383e44-6d96-437e-b51a-5ae68bc1be9f\",\"type\":\"BasicTickFormatter\"},{\"attributes\":{\"callback\":null},\"id\":\"869d39ef-2329-47e6-9edb-a52bd3b5b6d5\",\"type\":\"DataRange1d\"},{\"attributes\":{\"callback\":null},\"id\":\"dd10dcf6-5dcf-40cb-a7ee-0c6a6569b9c9\",\"type\":\"DataRange1d\"},{\"attributes\":{\"plot\":{\"id\":\"bad71f41-fd04-4431-bc1a-d62cfb5c23a8\",\"subtype\":\"Figure\",\"type\":\"Plot\"},\"source\":{\"id\":\"e75d8f5b-64f1-43f8-97e6-ccc2ed0cb937\",\"type\":\"ColumnDataSource\"},\"text\":{\"field\":\"names\"},\"text_align\":\"center\",\"text_color\":{\"value\":\"#555555\"},\"text_font_size\":{\"value\":\"8pt\"},\"x\":{\"field\":\"x1\"},\"y\":{\"field\":\"x2\"},\"y_offset\":{\"value\":6}},\"id\":\"1481c1ce-3d9c-49b9-92fe-312c6083714c\",\"type\":\"LabelSet\"},{\"attributes\":{\"below\":[{\"id\":\"f3c3d3b0-b591-429c-9a33-dcc7638ee011\",\"type\":\"LinearAxis\"}],\"left\":[{\"id\":\"52d052f6-0621-4c32-ba57-211e8f2846e7\",\"type\":\"LinearAxis\"}],\"renderers\":[{\"id\":\"f3c3d3b0-b591-429c-9a33-dcc7638ee011\",\"type\":\"LinearAxis\"},{\"id\":\"a7a8397b-68f8-4e69-9241-1bb13bd0e408\",\"type\":\"Grid\"},{\"id\":\"52d052f6-0621-4c32-ba57-211e8f2846e7\",\"type\":\"LinearAxis\"},{\"id\":\"82758d8e-d005-49eb-97aa-14a01b77e619\",\"type\":\"Grid\"},{\"id\":\"1fb480cd-9657-412e-aded-14b081f0bf46\",\"type\":\"GlyphRenderer\"},{\"id\":\"1481c1ce-3d9c-49b9-92fe-312c6083714c\",\"type\":\"LabelSet\"}],\"title\":{\"id\":\"dfe15e76-6eb3-44cb-9283-6ad8e21e82e3\",\"type\":\"Title\"},\"toolbar\":{\"id\":\"6ed07e7e-d4a0-4011-93c9-f3e0b7fac4ea\",\"type\":\"Toolbar\"},\"toolbar_location\":\"above\",\"x_range\":{\"id\":\"dd10dcf6-5dcf-40cb-a7ee-0c6a6569b9c9\",\"type\":\"DataRange1d\"},\"x_scale\":{\"id\":\"9a3e2de7-0d0c-4f1f-9c00-93f84ff981c8\",\"type\":\"LinearScale\"},\"y_range\":{\"id\":\"869d39ef-2329-47e6-9edb-a52bd3b5b6d5\",\"type\":\"DataRange1d\"},\"y_scale\":{\"id\":\"8ac76f3a-6188-4914-bdfc-c10bb0aaf977\",\"type\":\"LinearScale\"}},\"id\":\"bad71f41-fd04-4431-bc1a-d62cfb5c23a8\",\"subtype\":\"Figure\",\"type\":\"Plot\"},{\"attributes\":{\"callback\":null,\"column_names\":[\"x1\",\"x2\",\"names\"],\"data\":{\"names\":[\"the\",\"of\",\"and\",\"in\",\"to\",\"a\",\"was\",\"s\",\"on\",\"as\",\"for\",\"that\",\"with\",\"by\",\"is\",\"his\",\"at\",\"he\",\"from\",\"it\",\"were\",\"an\",\"had\",\"which\",\"be\",\"this\",\"but\",\"are\",\"first\",\"not\",\"their\",\"after\",\"one\",\"her\",\"also\",\"its\",\"they\",\"two\",\"or\",\"have\",\"who\",\"new\",\"been\",\"has\",\"she\",\"when\",\"during\",\"time\",\"other\",\"would\",\"into\",\"all\",\"i\",\"more\",\"while\",\"over\",\"him\",\"only\",\"game\",\"later\",\"most\",\"up\",\"three\",\"about\",\"between\",\"out\",\"th\",\"there\",\"than\",\"some\",\"film\",\"may\",\"before\",\"year\",\"made\",\"no\",\"such\",\"second\",\"season\",\"where\",\"world\",\"war\",\"years\",\"both\",\"then\",\"however\",\"being\",\"song\",\"against\",\"through\",\"used\",\"these\",\"them\",\"series\",\"m\",\"album\",\"many\",\"city\",\"team\",\"part\",\"north\",\"including\",\"number\",\"can\",\"well\",\"several\",\"became\",\"four\",\"united\",\"early\",\"under\",\"state\",\"music\",\"south\",\"day\",\"so\",\"episode\",\"said\",\"following\",\"states\",\"could\",\"although\",\"did\",\"american\",\"known\",\"work\",\"began\",\"because\",\"until\",\"t\",\"released\",\"like\",\"called\",\"people\",\"high\",\"end\",\"since\",\"british\",\"long\",\"around\",\"each\",\"if\",\"national\",\"september\",\"us\",\"life\",\"found\",\"best\",\"million\",\"same\",\"five\",\"back\",\"along\",\"another\",\"west\",\"took\",\"you\",\"show\",\"km\",\"final\",\"use\",\"group\",\"received\",\"area\",\"any\",\"off\",\"august\",\"school\",\"century\",\"due\",\"october\",\"john\",\"will\",\"line\",\"government\",\"what\",\"june\",\"july\",\"march\",\"home\",\"single\",\"system\",\"east\",\"general\",\"november\",\"games\",\"much\",\"large\",\"set\",\"third\",\"april\",\"down\",\"major\",\"place\",\"york\",\"left\",\"based\",\"company\",\"just\",\"house\",\"family\",\"army\",\"played\",\"history\",\"december\",\"road\",\"character\",\"included\",\"band\",\"now\",\"six\",\"name\",\"we\",\"king\",\"won\",\"january\",\"wrote\",\"within\",\"last\",\"described\",\"led\",\"video\",\"those\",\"according\",\"main\",\"times\",\"men\",\"death\",\"next\",\"near\",\"battle\",\"d\",\"record\",\"river\",\"st\",\"own\",\"named\",\"release\",\"make\",\"de\",\"still\",\"original\",\"late\",\"league\",\"route\",\"air\",\"top\",\"way\",\"even\",\"force\",\"man\",\"great\",\"species\",\"club\",\"ship\",\"public\",\"very\",\"again\",\"storm\",\"old\",\"days\",\"production\",\"small\",\"built\",\"though\",\"held\",\"u\",\"february\",\"service\",\"role\",\"division\",\"among\",\"do\",\"university\",\"french\",\"play\",\"members\",\"book\",\"story\",\"further\",\"b\",\"german\",\"white\",\"match\",\"power\",\"having\",\"side\",\"point\",\"former\",\"h\",\"often\",\"player\",\"water\",\"order\",\"local\",\"came\",\"career\",\"england\",\"black\",\"continued\",\"town\",\"park\",\"without\",\"considered\",\"take\",\"island\",\"despite\",\"half\",\"party\",\"county\",\"development\",\"songs\",\"form\",\"period\",\"version\",\"military\",\"become\",\"written\",\"court\",\"building\",\"few\",\"support\",\"moved\",\"different\",\"c\",\"tropical\",\"president\",\"english\",\"lost\",\"given\",\"forces\",\"london\",\"ii\",\"international\",\"little\",\"country\",\"lead\",\"church\",\"attack\",\"tour\",\"street\",\"gave\",\"re\",\"published\",\"class\",\"my\",\"n\",\"similar\",\"never\",\"produced\",\"performance\",\"using\",\"children\",\"track\",\"returned\",\"good\",\"aircraft\",\"went\",\"royal\",\"position\",\"short\",\"recorded\",\"land\",\"live\",\"stated\",\"total\",\"highway\",\"how\",\"television\",\"once\",\"father\",\"ships\",\"control\",\"making\",\"include\",\"throughout\",\"women\",\"western\",\"fire\",\"run\",\"star\",\"per\",\"head\",\"upon\",\"week\",\"right\",\"characters\",\"less\",\"australia\",\"writing\",\"himself\",\"love\",\"young\",\"age\",\"me\",\"hurricane\",\"central\",\"design\",\"seven\",\"players\",\"away\",\"result\",\"previous\",\"developed\",\"instead\",\"southern\",\"title\",\"months\",\"red\",\"sea\",\"ft\",\"died\",\"r\",\"remained\",\"political\",\"law\",\"across\",\"light\",\"return\",\"rock\",\"low\",\"ten\",\"e\",\"felt\",\"eventually\",\"style\",\"james\",\"office\",\"areas\",\"eight\",\"reported\",\"center\",\"william\",\"night\",\"race\",\"award\",\"station\",\"various\",\"too\",\"son\",\"reached\",\"america\",\"noted\",\"win\",\"announced\",\"miles\",\"served\",\"act\",\"japanese\",\"created\",\"should\",\"performed\",\"construction\",\"sent\",\"field\",\"level\",\"college\",\"together\",\"member\",\"followed\",\"killed\",\"works\",\"seen\",\"range\",\"full\",\"action\",\"northern\",\"taken\",\"mm\",\"others\",\"able\",\"common\",\"campaign\",\"stage\",\"thought\",\"born\",\"front\",\"located\",\"chart\",\"rather\",\"success\",\"established\",\"body\",\"appeared\",\"caused\",\"get\",\"australian\",\"points\",\"critics\",\"george\",\"playing\",\"special\",\"originally\",\"modern\",\"present\",\"project\",\"addition\",\"post\",\"features\",\"behind\",\"go\",\"damage\",\"bridge\",\"fourth\",\"heavy\",\"feet\",\"football\",\"o\",\"sold\",\"decided\",\"started\",\"completed\",\"see\",\"formed\",\"f\",\"awards\",\"added\",\"open\",\"population\",\"every\",\"eastern\",\"command\",\"championship\",\"strong\",\"director\",\"opened\",\"initially\",\"popular\",\"case\",\"site\",\"important\",\"mother\",\"ground\",\"almost\",\"saw\",\"david\",\"guns\",\"art\",\"fleet\",\"soon\",\"close\",\"free\",\"kingdom\",\"event\",\"towards\",\"leading\",\"non\",\"region\",\"france\",\"weeks\",\"put\",\"hall\",\"mi\",\"worked\",\"recording\",\"scene\",\"scored\",\"help\",\"coast\",\"working\",\"union\",\"l\",\"least\",\"does\",\"henry\",\"provided\",\"training\",\"wanted\",\"average\",\"hit\",\"sound\",\"featured\",\"washington\",\"navy\",\"ever\",\"victory\",\"example\",\"wife\",\"allowed\",\"records\",\"troops\",\"human\",\"generally\",\"placed\",\"cup\",\"events\",\"either\",\"michael\",\"studio\",\"brought\",\"runs\",\"europe\",\"co\",\"magazine\",\"media\",\"summer\",\"opening\",\"mid\",\"far\",\"robert\",\"nine\",\"hours\",\"list\",\"believed\",\"replaced\",\"rest\",\"designed\",\"base\",\"joined\",\"earlier\",\"minutes\",\"society\",\"met\",\"council\",\"squadron\",\"police\",\"japan\",\"start\",\"radio\",\"x\",\"highest\",\"research\",\"involved\",\"test\",\"successful\",\"possible\",\"mph\",\"operation\",\"brown\",\"official\",\"association\",\"finished\",\"european\",\"particularly\",\"process\",\"saying\",\"review\",\"social\",\"available\",\"al\",\"captain\",\"change\",\"significant\",\"month\",\"shot\",\"turned\",\"films\",\"goal\",\"must\",\"beginning\",\"taking\",\"thomas\",\"above\",\"largest\",\"stone\",\"crew\",\"passed\",\"appearance\",\"section\",\"increased\",\"cast\",\"space\",\"winds\",\"outside\",\"charles\",\"signed\",\"big\",\"ended\",\"forced\",\"community\",\"thus\",\"previously\",\"better\",\"ordered\",\"future\",\"lower\",\"praised\",\"middle\",\"relationship\",\"enough\",\"hill\",\"real\",\"reviews\",\"come\",\"business\",\"parts\",\"additional\",\"canada\",\"chief\",\"going\",\"san\",\"rights\",\"gold\",\"move\",\"critical\",\"g\",\"positive\",\"units\",\"elements\",\"directed\",\"female\",\"find\",\"told\",\"cross\",\"committee\",\"lake\",\"lines\",\"sometimes\",\"interest\",\"infantry\",\"musical\",\"brother\",\"program\",\"type\",\"plan\",\"v\",\"give\",\"reception\",\"board\",\"staff\",\"germany\",\"cover\",\"overall\",\"money\",\"don\",\"gun\",\"hand\",\"spent\",\"prior\",\"attempt\",\"required\",\"castle\",\"failed\",\"round\",\"evidence\",\"grand\",\"paul\",\"district\",\"california\",\"groups\",\"score\",\"green\",\"novel\",\"india\",\"usually\",\"past\",\"uk\",\"battalion\",\"asked\",\"stars\",\"whose\",\"room\",\"anti\",\"personal\",\"idea\",\"p\",\"itself\",\"bill\",\"whom\",\"turn\",\"students\",\"news\",\"introduced\",\"term\",\"claimed\",\"study\",\"loss\",\"election\",\"port\",\"limited\",\"effects\",\"already\",\"press\",\"our\",\"person\",\"indian\",\"square\",\"speed\",\"entire\",\"smith\",\"debut\",\"response\",\"mark\",\"complete\",\"bay\",\"plot\",\"fifth\",\"k\",\"movement\",\"ny\",\"education\",\"civil\",\"minister\",\"report\",\"quickly\",\"industry\",\"background\",\"latter\",\"flight\",\"peter\",\"surface\",\"food\",\"governor\",\"defeated\",\"operations\",\"decision\",\"science\",\"larger\",\"structure\",\"running\",\"shows\",\"material\",\"britain\",\"remaining\",\"issue\",\"length\",\"services\",\"department\",\"especially\",\"centre\",\"cut\",\"woman\",\"earth\",\"la\",\"arrived\",\"commander\",\"teams\",\"scenes\",\"language\",\"estimated\",\"pop\",\"leaving\",\"daughter\",\"car\",\"nearly\",\"god\",\"becoming\",\"village\",\"approximately\",\"blue\",\"changes\",\"naval\",\"richard\",\"lack\",\"might\",\"proposed\",\"writer\",\"queen\",\"course\",\"experience\",\"commercial\",\"influence\",\"virginia\",\"episodes\",\"depression\",\"appointed\",\"current\",\"voice\",\"producer\",\"nature\",\"self\",\"carried\",\"finally\",\"fact\",\"percent\",\"awarded\",\"islands\",\"pressure\",\"higher\",\"leader\",\"officer\",\"brigade\",\"living\",\"date\",\"soviet\",\"shortly\",\"view\",\"suggested\",\"effect\",\"entered\",\"related\",\"destroyed\",\"married\",\"size\",\"network\",\"tracks\",\"winning\",\"empire\",\"manager\",\"today\",\"child\",\"supported\",\"los\",\"nd\",\"helped\",\"intended\",\"chicago\",\"wide\",\"cost\",\"something\",\"provide\",\"fans\",\"extended\",\"immediately\",\"captured\",\"spanish\",\"federal\",\"subsequently\",\"hot\",\"singles\",\"themselves\",\"dark\",\"compared\",\"private\",\"agreed\",\"your\",\"plans\",\"railway\",\"upper\",\"trade\",\"health\",\"regular\",\"edward\",\"soldiers\",\"key\",\"initial\",\"professional\",\"natural\",\"museum\",\"planned\",\"probably\",\"cm\",\"done\",\"contract\",\"longer\",\"face\",\"associated\",\"whether\",\"really\",\"chinese\",\"mixed\",\"changed\",\"lord\",\"buildings\",\"corps\",\"lyrics\",\"countries\",\"create\",\"guitar\",\"leave\",\"yet\",\"always\",\"remains\",\"difficult\",\"suffered\",\"feature\",\"regiment\",\"information\",\"appear\",\"numerous\",\"dance\",\"moving\",\"location\",\"friends\",\"ball\",\"jackson\",\"minor\",\"dead\",\"fort\",\"fell\",\"johnson\",\"mostly\",\"officers\",\"pacific\",\"includes\",\"j\",\"friend\",\"independent\",\"billboard\",\"books\",\"offered\",\"got\",\"fight\",\"atlantic\",\"albums\",\"poor\",\"christian\",\"creek\",\"increase\",\"pass\",\"issued\",\"roman\",\"meeting\",\"energy\",\"problems\",\"impact\",\"pre\",\"copies\",\"winter\",\"unit\"],\"x1\":{\"__ndarray__\":\"NAVOdiIAF8BhP1pdK8sYwF2qsUFmkhzAh8PIdT10C8BhIJq4hHMewGGn4zpkgh/A2g20+iGvM0CdDLUuYJYwwPd5V/M/UhDAovgyqKMzIcCmk0LPucgYwN3Q+WYg4i7Afxr7XpY5HcDz4mgy5dYjwBOGC4JKrzNAN8vIZagQM8AwphyYJQP1v+EtoWvPhjXA3b1oVFzwIsAk5ktDw1sqwBx8OQBIROM/2M/ncsfLH8DzEzogQyEeQGKEBD5WVS7AXnScGnXzF0C+T0UorGwqwAn0ezQ9lCzA3J9uvq5b4z85/rF47CUFwPbdaypWECbAxUuoJOgpMsBkObyzSwkBwKGbYUOifxnAhMsgLcEoM8A359hgkoEmwJybvt0CXTHA6fR7GasWN8AhQtQ+sQ0cwOa842bqvyDAbV3oQ4W4HkAtwwa9FoIxwGWcMM23xhDAylbHCmdFK0BMHi8NMooeQAFFJuqihjXAq++SyncoLcDC4F8HMwYJwEVm7uW5ZB1AFx4M/D0nJcDdqGZfrakaQNsLHU11/ea/685J7gJZIcAgaFF9zEg4wETbd7L7fRFApiIbk6QOK8D1LPVteTAEwDH4SJnyWTPAtKGJOcHeI8AErAw1+60xQGHA3oSUqAHAIbJogxMbG8AXiYCbEUMqwK+Dh9ZJNxvAAr/7PCq3CsDIyFxCUZQAwADHOsrJZizATvmVwv55N8DktgswknUjwOsNVIjLzyPAGj3Zpm0NIsC260XHRMQowFxvUJRcrRZAvlTyNtU2AcDTKqlK3ZkwQH0L3jrwzCVARJ4G+5RBJcABTTtO6xnbv1Q7pSxXHQvAUf0n45LtLkDO38L+brAtwLBRguEQiytAivDedQhSLMD4w7+rP6wvQKKjohi/aCHAknCrqQzYK8BT1h/UYx0swJ6lG9bVsBpAI/30cWm/EUAXVVgdCwEDQFNv6cv6+PC/u9IPwiaOLUDMh7NkEe8jwGQVYtWz2TLAc9b5tqkdJcDj7v2p3q0ywPRi/kfZeRNAdfWdLrm7IcBh+VVzMssFQIcGxX1UyTFA1N4NQzR+C8Aw+yl2p0YNQM0e9B+jUx9A4Pr4GqGwFcArhHe7GlgZQFy4nY+c8du/7K+t76LQIMBXIEFQKtgoQATiwgIPnRrA6Qa1VvmCKUB3zhk+tJMAQFU8ld5jdSDArgarPJ2iG0B74cSjgfsIQFHpEoULYA1ARGcindbIMEDFbc337I0rwCZTrmbeSifA0vGEW19aNUCYl+QfPS4AwPab6b1PlSlA+WB0MlGNGkAryo5Zs8QswA6GVaRUPCBATO/tDYMFLUAkfxFv4bkyQNWMJaXCtvq/suS1cp1QMECKHRv4QSUswMJJCP0s2inAn/W9zyrqLcAD9fk8wJcwQH8nABGUtijAzLmZpp+FM0CycjOwxxoiwLRyS/5LncQ/al3R6creuz8TkJmRFkIowLY3tBEiDCtA/K8dMCg2CcC32/cedjoBwPMsBtGoRh7Air4etS5nLsAdp82JFcEoQLemQMrWMwTAYhx0NPzeJ0BO7loRcjAKwEK+bK72GzNAZUDI7sHjKUD4MAFSXfgWQNkZZlNrnhrAx++sIDl8GcCrhkuiX/0rwLRhYUtnRfC/oNCzKT5hH8Cdb8BizVINQM1iOsZckiVAOGFVTBOhOMB3QndaAsIkwG5c/epZ8izA9WQeiqWaAcDmjndQJqUiwM1GiS3RPSFAE5sMsn7nKkASxfhr3SERQHDQBzCisSPAcIm9eu4mLMApia2FnWAFwCOIwmmxDQ1A4pE1i64WH0DI9N+fZFojwFhitQWSmgbAwDQK6BpgIcAovb21N9UZQCLk8uJuRhPAcgdyVBeIIECCG+HRO6wtwNjJWgNigwPAQPxzjDdcBMBRuXrIwKwHwEaVA56Q6OC/X+PfdDutAUAErbDHuUQewF3I5puLQA1A9jVaDysqLMDdPRTSVPwEwBoMNWtorjFAiaHSrTvZJcBwEd2f3zH5v/RLzwvBiyRANCVuY6R4C8CPZaBjlI4HwD+/rMXRNCzA0HwJSmMPA0AQLDAZc0UjwFQhVjLfKyNAl4bmX1ntKED1zTni4FQgQIbon6r3CxjALOsvswvdJsCGR+77GjgQQHbcxcCq3S3AQx//2OE1NMBvDCwv/5QwQCREgOhH8ts/LJ7KlX11BMD0o5/JB0cIwPyCZMn8+SvANxitPN9fIkDzvE9KuMUTQCUZkP7wryDALrwdtA0DGsB/NwLW+pokwM6QDgjG8DfAh4B8oWaRIsBewL5l1cQxQPGyoAC3vwXAXZKStj3aNUCcz+dN0g0EwA79A+0WzwDAtaaHr3ibNEAEvjv23i8nQJ6X5JDaKf8/YJh2ZFgIJcCB6ZCw8qATwASl62NM8xnAX9cJgRTOG8B+acRKROAiwAgIZ7sbKjHAZcDcr6ci/r+Y3gO+5jv1vxXwpwbAL+4/UAsHsudRMcAAIgwiOqEjQIpGqLX2fsg/wk+zPN58N8DlZVozx0wPwM71kp10VDNAOtwcao4tGkANw2BW0OggQJcixMBrxi7AkB0zogZBI8CkYgbX4UQXwAiEQ6NNnQlAAq3Jf3aAMUAWA87F1AIOwAkcWePtYDTAqMCppbVSEMAdFFQKuKggQE2Z7CfXhiTAYmqZxtnVM8CWusmiDB4mwEMsUtp85P+/g2C8YhmWFkAXF2c+gCYxQJsxu7iPRjLAh7H6NJNlGUAg1J+PDmwqwHANS9pmPyjAe98kVEMsMcDeV9LtdJ8CwLffB+upFC9ATiR2/Nc3GsAiUBb/VRPiP8CHUS3Zji9AcgjHuI5rLMBsd8OwF/IsQIo1x5zgoCdAxiCk6euaA8ADkibcRlwcwLvCsRCxTizAB7jsqDtCNcC1OhJ1QnwawJQBWmir6RtAVk2Qb4dQDECHebKy3ZcoQMa/+rzcDiJA1NxyHe4yKsA6FmMkC+QmwJ8IMKuisSnA9/6HK5CnJcCZs/lYL7kxwHL9iosyaydAWkKTa+2KGMD9vcEBJlsyQM8adpuQjxHAjeEmyeyLHUDi2Vd5X0QEQIt8XSshiR5AUsH3G/RqIsB/S28ciBgwwP6FpkHK4h7ARooFxOcBM0Al9aVMOFr/v9YWTrWf9CPAToBBvwT3GUCJChyAHpQpQDcNvTicmQ1A5Sn8MryhMECgfubL8L0YwHN9mpGRmyZA9XamTpFF+D8UIeFDr0UAQFpMLgglwRrAxO+70cmpM0CVG20wTR4jQNRrJUqJ8wpAzRh9g3OjI8AWCSCOcg0QwC68nHyN8iFAshMBloSpGUCM6KgDFUwawOj09DpY6A9AOuXQMEynGcBMQG0tqgkaQP+leqdDtRdAFDHDg+/wMMCkmxn8IQUoQMjhfz4gdDFAEfiZQRkf97+OUAM3zaDIv9aJxBPfnB/AkM9zcofRF0DQvDXT9LIrQJDYynYTCSXAIFCZU1GoMcDNe1EAVF8xwA5vYXS+vSjAdhI34x94KUD8IUD36YMuQEpG+gK8iipA0gxuXwSeM8Bbn5vkMpIfQCBjQIjOajDALqnUZqRfKUCvYo1QuKglwIfj51Z63itADAJ/arGoGMAEN08C6uUIQEdlA0xZMDLAggDKpGuPF0BrEi/hmXoEwCE4FRWJoi1AjivspLl2J8Bh6sJTv/cwQE4Cln12Fx5AG5d4Q1HdMcBKz7VDKusvwHmCLRAb8AlAAJ/NiNIQJ8A26mDR9jIxQNfbLDypLxBAXFs//txlH8DI2OTM2JUkwCp0+SXPaBBAm7KugQEaLUARtFv0z4L4v8dN3kumTDPAtQJZF6plKUCKRZrnwJggwJFoDJoWKvg/tg/BlAKe8b9AeGRP4/QwQIrXh4t8tAtA/WtGJO3AEkClFQfxNlI1QF6YV+A0GRPA/+oeYAHYDsDyf3fnJg8uwOl4aHUN3yPA2nw/djo3KsDLYakKyCswwD6YeqskWTLAqHq7oCgWEsAxBuf0gOElQL0rsmKgth9AWOvy9aa+B8AauidkzWkjwHa3ZCRz5hNAp+e+poLlMMB/9YJHKC8nQJkFrgbnTTPAwwLlVpEqCcCl+5qWmef4P0pqvDOeJhHABCb0d6+hMEBrV924BAEFQImas5bvVyzAgrMxHCRt+L+ZsxMug5cvQIlsoIaoXxjACKqkZVGYM8D2LXetRbIvwHG0WBKhYyLAu/VfHMzL5T+qTGWMw8EwwJMT/8cfLzHA0YcFc+ReFUBzxBg3C5UcwIIqx8MvOxnAu+SATw3JMkBNvIy5ov0rwBzmrSqL0wvAPq4dKAZK/L8ytTi23GIwQC7W/CikBSfAunKpuEeME0CGXsLf/HgkwMkZDXcoWy9AvnBHY6w5F8C0o2ncNUUbQIg6KvTH4SfAChYd6aABMsAZEMSLL3cxwOLAsbAXRCtArEp53kxrFkASSgveSLPxv15uGEF4ueO/NStBSwPF479kHvposY8gQN3QWBE5cAZAvGhPObYA8r+cQPubQnIXwBJub6mmuzDAWDbURE5mNUBoq/vHyHIowK5Qrk+XvQlAO0zHpCwfIsDouInfl2IWQOCmN7cHTBJA7FVsKOkjGcC3j/pw4Ac0QG+dTAndoghATPTU/9O5IcBNU4wRXOAwQDmyIOVmnPU/nd/lDDCaF0Bn/1UXGbn7v2iSxmisLiLA+dh0D/NBK8BU5rwd/l4wwDrdPAQuki5AsxYAh9auLkDHeJI3mEE1QLMzzUBE3TJA8cymJpZLNUCPa3mxXDoswAUqQX3wPjFA4U/sCsAO+r97DvwZKkgpQEAiy9U76S5AgLkItN6VGUCNVURvFbwwQFbwS/bPbcu/3OKMz6ajKECB6ciRfb3xP30rKqQiJA/AbWDlt4AmEkAdw5Lh8+gowHio8p6JHirAISAfhMx2J0C69JyiJWAtQJLF/EYO4ve/1CoU8s4LMkB9WvdF6bEiwNk0pzs3kBLAUdIJTu6H3z8Zmbb6nEwTQD8UjSKs2SpAPFDgfCOOJsCj7EeYa34lwPRZMKrJNihA2wR0s1QSC0CYSRnYa24pwFWdrezxCwJAKoCGzlEfNEANj2Nm4WIxwD/yw9ezNQNA+HMFU8snLkCmPSbWU/EjQJI1SBfm0/4/Ebq+H7gBE0ASO8dxbF4uQJjeB6ijgPE/fx9PJAXMMECwl2Rly+kmQHgEvTSYmSFA4pPDHwi5LEBIp/Qd/7QnQOmONQjOpvU/UlT5NktSIsDXga55dTYiQBuDNxuH3gzAAUeCqML2JsCmAuavJCYHQLEeZFeXhQZAaXoOJP9cFcD0GCm/UtQTQOEJBnQPLhnA80p9NtaDIUDPkdoPsiECwPgcJyKM7iBAFQvlDf3p9D+y+FhU6wUFwMJ9JunIKgzAA8tJQ39B4L9XNRw1xPAnwAANeJuVEDFAdmY3Ri1vLsDSE7eoDxUvQPbQZ9vkfilAq0EOn+muMkBSunhjh5gnQNatkYX7uB5A4HOaHEcJL0C5JbEJX7cxwP22O1PNlxdAbjU/XWJNKkAPSAy/LNoGwEraettpOBRAXxAwkhtCHsA6lefIkFgTQJVvcBmmJy7AEOZGmqHFMUDRPrzpvoLuv68amxCWUiPAWgkfTwF7J0CTonZKp1AmwH9mmP+kTBBAHH8VfFEBAcC81nZwyADZP28Hn82Z6hBAyN/wtlSOL8Dy7JB5DTDuP/zMJrFnJxDATyLL21txLUCuACzD8bQgwBOFtgfYxjDAUUUFzLkr5b+Fj/+dP9cywFqmQZGPWirALpzF4jM9/r9QWF/88B8WwM9Sw5LimylADXNAyHwmBUBDmsg/SOHkvwtVTsmjuwNAJPOqanh+IECOS9u1JasRQF6OILsfYS5ADYvVKclLL0BM6TJ8/WcpQCr2co1sJQxAQxaMZml1LMBRU0hRbyMxQBDHH11G/BNArb0bYb2rL8CiBIznwrExQJ231ubLfRlA1rZm5rRMFkA2ejOrGnwgQHWWXcdBMyVA3oRr20SSMMDdT94YGgEUwGokHcq1NSBAICWvXXo0IsDzNM0HMxIsQB6H/BdfvTPAiVOw3+qbKUB8Md48VewSQP8XnsyaYilAq90yCeq1DUDHvAPtobAiQGh6U0y5QCFAbIh5vNZWMcCR7e4B28InwAR1xikPYDRA7I7DJ7AUHcChVZx7lwowwNrHHkt5AylANPn+0USfI0AF930OY1szwJm6kLYQthPAQ24wwejwHsAccirMGP4sQPAk5K6itDFAKhE7EWV99z+MAymY81EhwOAXhGR6FCDAZIc1te1LFEAIN2j++tspQA0D/EULcSdAn0H7ULzsLEDNOCq9jQIiwNxk+HmIMBDAhBmv3g3QE8Bi7Yc9b+kZQI0PR6m+G/C/EYSEoNBo/j+IE67goO8lwDBF8h6hgSHAksoZVRmnGMAftCPsv4AuQLO+WmvqfxPA2OQTtH0SNEBLCXV4pZ4rQGF2rG29xBLAn4+woL+pLUDsH3cepdf4PyjpqF0bQi9A2MCaqnXL/b9CMS5ZuwkuQDgCiCDLBRVAPNKCK2/+L0DkjmfdUeMfQOOOq4GQVDPAwFLxGF8oMcC2FtyDd9EsQFCJZWjBbsY/ta/RnxiZGMAwkAKp7ksvwHbH6y2RMipAfDyD1I/j0j/qdynfdRUYQDHFlRyzRzFAaDXpOoxMEUA13MiJ098XwB+UNaofty7ARKKyJwgbM8D6q+xy5LIXwDXMyQiAQiNAaQIVVapTGED5L0UCV0kxQF+/70MDXCpAAIjEQZS1G8ARcqCnOtYYwJXdWYRXuibAX0gZODX5C8Cpi2HX0QIWQKn9pASLge8/yriuzuhRK8AG/nGS6QAmwNeygdyc2QjAbiXhRAfjAEB470dyWJswQJMfCAK2BSlAuzVZz7l4KkDQurWrLOAowGbVFyyU3zNAtPL+2slsGUA0Tr5FH6PNPxZuZCBSECVA8Dq2m7tJIcCB8+Hh9Xz7vw5E+E5fSCpA9WRd1H01GcCaaUsq4B4wwGaASGcTOytAcmZx+DOaEUBuJQhZilkLwBItP/hVqPQ/GUWsqiilLMBm1bWEMlALwK5KUAEfoy/AFQyK/G+//r8O5+Vo5G4iwGTdCjmE3iNAlIUNIpNgIMDKcPmVHlAxQBi2LBG9LihAgbjWu/3BGED3JnJp7yYawAi5PAZ5HibAso8xUsBm+T9y5dD2XmsoQHTykEKsVBHAYO9ks7EpsT95/cDmXJc1QKgC+mL7h/4/1uc5DKv0LcCJluRbgVIrwG7rlVrUmvQ/IPTD5erfC8D+r3DzH7MCQD7OD6M8TSJAxoa2JfaeF0Aomy0xeF0ZwNk5wMjRNhbARncY0Dj9LECRDNi0egoswFbMhXHCGydAA5+2PpaxI0AUhgYWqsohQBjjgfO02xXAffNhu54VIkASTz1ox9HrP22189s+oy3AtzZbOmeK9j9ocd8SmU40wMeQa8LBUxjAvj9DDEOAMUBR2ny9RN0jwDITXtzLnh9AbIP+aZBmNUBukGSYjaoTwHjz/4rxrx9A6tPJ3Cfi+j/MtHtwRJsMwN5+aS05mCDAghXHyfmsAcCBSWz3LLQ0wHOEfcwTgQpAM9KoKTZzMMDx/9wmYOcbwChCOJChDx7AdpcLhNCMIcBzgqfxiLQwwIAJhrwjzCBABX1gfcja9T/ir3I0lVYeQBFNNhnjJjDAcIPHNIGbLkB4vCPTVa8SQLYakKGkYxbAcPXRUE638L+Fri36MUknwAAHFz9fwTDA89AlHMZJBECJ0hA8OFExQFEST2rkbwDA4RxJL6f4I8DQYDqHMXcpQMoWQUFjIvg/6W23i7HdJ0CLQwde6B4xQBPggbFaVxPANh0k4VUyGcDgwA4p46ogwJXaVGPRwRlATBuKgl53IUCZi5w0yyQhQH5eJohXuSVAbDKOlUd1FsCpFdwdUNopwI6Qd652kS1AIrfbtZpOIcCKAnlvvtYJwAR60b6p+ihA9Ut0adi/NMB1LucEfesqQKVnM4msTDPAFH+UCy+dMMDROFkGwj0QQMmg6OzB/CVAdRe7bo1ADcAtgV1vFGEowCIsfzxPPzHA3dkFrmYeGsBSO/9tnysBwIO8qHNmhzHA2oriMGpKIkByDHKRbpwNQN/WcyY/DhLA1w1eqHdBLkB6Lil4FpwgwNH0yiooKzRAxlaTGhAe4j/jkbi5co/xPxTpVvsg8CjAwwuikuYmBEAOR/EODDz0Py7cqfgb9vW/0Fy0UE59JsAI+I9M6i8TwKBn6vN40THAdhsvsjT0JcCkgumVFSErQJD/jXw9hus/jd090bAdEMAvBR1YAOwTwGLXMo5WJiDAaqdYvt/ZEkCu9EQQ5L0UQCVJHAOjlx/AR2taLZhiE8A28pjGe6QEQIAqfgTD6ynAd73j7DU6DMBNmHoUV0YxwAo/rDUHXiJAeZ4vldwrD8DIOkFASwkQQBckokCwjiZAtOAA0mXdKMAmH1QadlsMwIMaP6CG6CjAdhGi9b97HkCyKxu5Z9wMQC5iG0TVHRjAfRDgMSYfNMDSoghR4CEgwErt4n+F7wXAzppAaDUK/b/+skweS7wowGzAmS50oC9ADNxBvyxQM8Aj/G4WT90hwFu3bTC9UM+/knkUAxGGA0AWPgQCNeYbwFTdTa43oSZAHxjgB6gEEUAoIq9UcngTwD39NQt51y5AhjJ+C90fFMDiF1XSWpEDwEEUpWPGyyPAtEvYK4M4HMBY0q9yIjwcQIGppXiKWh3Aamv19Eb5BkDu2e/jgvMlQPUrceQRuyXANKI7R4r/BcDCUF5ChzgvwI5rlXzdBS9AsAaY7k+hLcBbkZfNvwEyQJ1FZnaFnC/AVHH69hSHKUCdX9xapNMzQP3sCIx/rAdAJxadTaVMKEDD9S6HvDcwwIeD/iMOcyJAzKq4E13uDcCSwW8qbrkewNoDZHp4MShAjnEv//CVCECHXpO/+rwNwADo983GARfA9MQ17dHd8b+TmRPFKAkxwOAYlbgAriHAM4a7HIMhDsDE/bUbKiYZQFOVYKyqVS1AAh4mU0TKG8D2mvdZ+4IiwKIuwQCv7AbAAgZX8am5BcBSS1ff3BMeQMKIchoE7vW/A9hP09l0IUBW13gknmgnwB13MlzpVzHAebOc0ww9LUCShR8+hIgLwL0vHc5DvgtAu8GrdYGnIsAqu5J197ARwBZVFOAX9xHAmUAiEvY/K0CfW6MIWyAmwEe1X6qeJSbAA1LK5qGjEEAVBGS6t1wsQPMdiLjTAQ1AgIvs3DdWDMDExokGEOwQQNToJ3zTeCrATeJDtxdXMMCxq5Dnps00wMSMZievKhnAt81B4tqCE8AyEXLHd8IoQC/9uuo/ECvArr5NIvhJCMAMPlaRUGM0QJAi2bWgTfW/b27ADZsxMUAHPLPAJDINQLgEVUjFcC1A77vmzChjMcAW4j7ZO60jwO61ojmWdR7AZe/U6FOXD0BwEoCwCMcxQDJIxkJASTBAvVGKm7yRJMD4pg0FhIkgwFWxrLuHnCXAErL9exSRLECzHkzg0/4hQP7SYrq5dzfAmCbcMTYzJ0AvkRZMHYwqQIMuelU0wSBAL+sJv5OI8b+pGBmJ9IYSQAhcGKx4UCvANYIWp116HUCQNcPxBighwDuJJW6s1CdA1PeVKftKKcA0YJ/le3YtQE5BGXfToipA5O1VSXX2G0DPgDX8lmknwKBdaQe2pyNAEWZfcuQQEUDEZGFj05cywNs8DiT72BrARs5ntvvgJECA1A6H2DUKQCZ7iQ8xlSlAi8u61zDXMcCcbW6APnshwFmBUaltgQDAnJg10AyACkBMsHDLC8UgQPFgUMeRchFA25DhOutzEMBL6X6DSUYiwPjBBk43nTLA1kTBk2fMB0BE5I1Q7t4WwMLQYW4MmjBARJ1gCkiXE8A+IeN+fj4BQMBFy5g2nipAaDlzo7xiIcDDMq9Ydn0mwFPvhYcS5TFA7lxKpdmRIkDMJOl2PV73P0ayaVzOu/4/vk/tyakcD0CnbLvrPJMuwHLjdJMCbirAi3Gt4SpwKEB29ULMa9fwP9dhdz0mlSlAnpuk7VHPIsBybfsa84XIP7uxuVKaGjXATjYpYafaDEAY9l2QhAQtQCL3yX7hcR1AE12z7M+zDkChdIRvvpgfQIlN0JVljSfAXGxiPxsTJ8Bc9HrX9+UgwI1f7ZIt9BfAd/2vp6/aK0BqJCCssU4XQIpAEER+ujTA7eNFn6HBEMDCjbKA6BsYQMGmHUCljyHAoFbiMTQuB0Chs2+5/BkkQGcPHf9LgvY/JRN0vdHILcBDK0w5xJMkQCQ1hgYgXB/AZZyjrKaKEEBbf4pBjMMewKK35v5IG/o/AGtU0EBOKkBCr90cIBogwAhZRRgPNyHAN2T9ZQIOMcAGSlLcFqQcQEhKx1tQdiFABH4fMX9/MMCEJ5/zUy8uwMk+j2D0ZSNAWkdbT08QIkDa6+waI4cnwJ9XyCLp2S1AsHidbsetKEADPSaLI3vzP+aisQf6cxxAT2TyjOM+EUDbJJDg/oXvvzKG0V59hyRAADKurITr/r92042pQ0L0P/T7DkHysiRAWsEaFB1+LkBcyuGjr7IkQIv01Rj8UR3AtzwD19XdEMC4X9Y4wl35vzX6OrSzc/W/AQ4NjyoYEcBk3bV6PpcmQFwKiGYZ4hlAyqaMn59ANMA=\",\"dtype\":\"float64\",\"shape\":[1000]},\"x2\":{\"__ndarray__\":\"5hXaeX7i/r/KwT4yHVH5vx84wONoN/K/nMhDuPDcEMAMhXpA81HpvyCZ9QNSVA/AC8ZrUuSkIkCclO8GDvcJwMKblgBq8xLAcBeB8/aZ8r+akqMMtpjuv0BKz1kpV7U/tlbuTz37978a6R0mb6UJwHxib1elpSJAfQ7IgQklBEBkH2jXc68MwPeQNJ0YlgRA8lApn91lEcBONmw9Rqr+P/vijX/xkSPACzblk5VaDsB6LLST5RkwwIcwiOfPlPC/oRGQFM1NMMCJgq9UfDr5PwB9zDBXXqk/ds9GPMWNI8ArbXBtYcoqwBgoMJ2yY9I/cCyApYJ9AECdlat75jcwwEQqBdk1MRfAUfyloywtBUDWxJjjgbL/v1svSu9ftgBA82QTOVNmCUBehRDIPo0jwFj7R/OFnc0/0aY7cz/4L8CAk3Lu2Rv8vxYzNyH6qfY/4YUIEVxj+j/jMaPzHA0wwKyPptw4vwRA5X33dbTgA8Aw2bBg14kUwG9jwcEMQwlAsOubjkmkIMBFXzyBCGs0wI0qPiofFhnAspmyCzFNHMAMlDEkHWQRQFxDiuE81zHArK/kKqH08L/H/Zr9E2EZwHrxAES3res/np/3+M8E8j+IT9IZPT4ywF/DLIg9WSbAImUylNYFEUCYXaIQXwAcwFNKw7rdjiPAJbk5lwczHcDar7DvgHwWwMJ+cqDNCB/A0XKE5My7E8DkVAmwdSERQMK8qTYFaQhAH+cptb7DIMAG61KydUgkQP52Rex8ijTAWMWCZJZNMMA5J3tw30UwQNyI5t1C6gzA3A07E3yG9j+jS8lV9V0gwEKdTVKdTSrAzBstzPbLDkCW2aHN6hgBwC/WP8XtBShAa5P3iL2KI8AZ1HjkOxMyQEUKciQj5xzAjHk0T1TMD8B1JmxhJKv3v0fSDNC6jzDAwzP8sj/RIsBiSOfvINXyvzDItWmsfxbAfRX9it3ELcBtIzXMotcfwDrTHQHQYeo/f0+2QkFuJUDnNWv1LtoxwN5u4WwXiCPAVa5r6ss0IcBCe4CHs64wQDyTgWZ/ARRAzf6CvDSx4r+ptw4TWNI2QFC6ZPbJUiTA99q1gct9IcCR/lUVOEg1wEJ9nyNAWCDA7VES3IZCIsAHMKhNpDUHwOkq3QI/gyPAQZ6TMmmaJkDRWSXXK0QqwCwe5wcGbwTAHRIqXL9WLkDr+fvo/TMdwAMGoyFkzDZA+7RZJISAL0BH3aSddygLQFv1EYBRMyZAUnfbTOXIIcDYQKe8VJwvwMEx1VpBci9AX7VJMpObNMDZrevA8FjwPwsyJdabwDPAEbeKxxsMIUDbD6EHa6ImwJ8VyDdSuyBAJkPCdFg/GsB6dv6rPresPzDeej9RmPm/pXT0OBBcEUA0MO6IB68mwOAHnqk5dQtA3PfyjUPfJ8CxM9jTZVAwQLnaxpwdrPo/VCVsfYWZKsCiYBiRSu7fv1Zo79OTWiBAUKCAaYTjzL+askmv02ETwOh6uvSz4hTAAIlFFgSt7T8izdyr0wArQA6bl3Ed9DXAdGPglpDPJ0Bv7evhnN0YQG8sww2szyLAECKqqTRUDkCNUEgtzHYcQNwNLtCX1hHAMRU4FwNJI8Con1bdwvwdwEalV08L3BPAChXX0d4EEMAXmdqIV302QEJwF7XFlRTAvNl4ib+8CUBKXlsOZ9glQD5OVDj+vDJA7D2duVCbKsCEgHpMoA4YQMlbSOuTOyJAKcVInk1IJcCIq1V++ngyQLAEvf+d4aE//o0teArnIMDrpx6cAvk1wGynTCH8xyhAKPlr3oeIFUBr837ANk7/v3I9/J8y5DXArGlPpVApMcD+XXoH07M0wFDFasKCRjBAaYXmN6KXKkCZjUBjAN4CQKVPR5IirDXAhltMqabgNcAHILkGSYo1wLWKMCvv9gfA0vTKPFJaJcB7JrQIYrElQFmmqBqwgzZAeLNHcUs8LsBoMzaG/X41wERlnfRuPTLAECE6SAuSCkAwRAY8HM7ePzkxIAAQ3R3A83Ll/YscKsAbjSpeoJo1wKB9vfwxBRnA5eblPRHG9z/DcWoV274WwANBbQBWXTBApbXoEmwUEsCXUzmkSpMdwMPeAbZrfCZAJF9qxfVFBUAPA1OvChkvQK3kuqsEzCpA08gTAgLgI8ACAlb4nvUhwEyIPxsB/BRAI8axrAdyNcDSmM9YfNQxQP4Xg5rC9xhAqYoD9+LbI8DmHaxsP8UgwDYvvwuvZwFAX3vWsDNaI8CIJrPMaCYnwGTUJmYj1RdAkg7GkxhyM8BUAaaJWEb2vzgodVc5XDXAglrydi91IsBbmCUYau0QwM6DuhNauSrAqIiAbIlUJsB0kyVbqrYiwGUzIkQcUxvAMJ7LIXO3HsC7EhDFSd8xwGS840gOfQfAjjmf+slsG8DUTX3SEZEwQOGBnyRu5CdAQpdbQ6T7KsCaPevkhlcQwKgF3F9XChpAICD+IauqMsAcBjMf1JIRQE3IkFDMuTNAiN8xw7yyE8DNYgnrenkFQDyCzXLf5SjAi0XqgzsiGMAdNLI2EEYIwA+9ewqoRDTAKGfuem4p/D9bdDqbzWoLwF4ULic7girAfLCJ+P0SE0CrIqul1+MxQGivTgp6ThfAwH+RPvvOKMCJHetvJXT3P6Ub5QoXvQBAkl/KU6NjJMBO0vyLuzsyQMBHPGMgkwFAG0fT+rhjMkCIYYER+U0VQCvFcWAenR/AKMbPr3W6I0AfeI/yIIURQMfOuSboBRLAvy77o41GMkBIlsovPnEjwKLngsYxMTJAQsi3xCUVJEC2XQV6b6Lyv0g8cTkF3S3Ajmo8bQzW7L/hbYWRGW0jwImhcQEyqiZAchfpaXZ9NcAmgdwrJiksQAhNyZia8CBAIOl8AV8GIsDkwjJo3ZwIQEj7TS6upfu/be/NWEU6K0BR9l5IWtwgQLWSyv0YPRHAzAmTBDEtKcBWLNk21OcjQHl535T5fR5A4bGZY+rsEcA3jmVbG9YzwF6wG7xh/xxA2jEIBFTgNECuwyzKX8H/P/UHAx/S8CFAH3cOLIorMMCJ6Qlj67shQC2SiwYgVghA4B/G0qdBL8B33RpJflsywOAr5mqx+sU/cF2qTUbBFUAXrsqIf7QlQJFrbpvRcR1AurS7koLaE0AKWcKA4BkawJ2uqDwigAPAAaP1uGs8KEBEG/qctvg0QOW7lpP2nDDA8PA+surTMkC7bImwe4AuQNg54kCDE82/yoXII57GJMArlTpK7SEPwLIAq2FasjNAvh9WvMh4/L/SeUHfna4hwDpRPdG9ISNAwtPPqYZRMEA//TnlHS0kQCV8ithOpyPAJIF3YwfVHUDL8aCiIz0OQMuA2maG5BbAz8pDN5aDIcDP7pMMN9cCwFgUT6/ToinAH3+owGcUK0ARGO88dlMyQDmT4tQIXSPARrDS4R+Z5D/iuxVr+LEZwFj7Wpuv6iHA4Bp6sQsLM8BM+RCCDD8yQETRzdl/Vi3AUikr796OHECupG006IcJwHBu1pSBDiXA+YgdX66TJMCdiR/5B58wQCsTrkGSITHA0pyU3ebhKUBtRLYVLLkBQEP5b1vwtCZAHfDsf6sxLMB4Rugi9JgwQFWXsmlFyRXAiSPJfcClHsAp7D3XaE4yQM1xvCWldCDA51nZ690PFcBV0RPUZ2gpwB9ixM8+FB1ABt8ZcIjwEEBJrNEQAKYzwP4+ue9ea/4/kLSu/XxJ8r+XPffcXiMpwIEHGMYxKQ3AqG81Nm6/F0C8fgWa0PUwQBkswIne1CHAyh4GTDrPFsB+dbEj+br+P42ns6vNeRvAfvtkq2izGcC3nE/oRp80wA6n/pLrOyZARq1ef3Wa/b/VsTT7KGwmwPv0W+QSnjJApvC0ClQBFsA3q+d3oawhwKY17JPVUiLACO5jQQXsMUDC7urNnRUDQKHmnFxRYCZA2Kr0izdwCcBG/KVqr00pQCm8np17VB/AuDusxey3IUBCr30aGv8LwNnSrsE8NiTAJalcE5cNFMCv7ALBVd4wQFcbbggtlDVAcxX71POpFcBaKPYkc7j1v67pb5iXzB9ANmG57b9qIMATDQzQbW0gQFmOJxJoXhPAgQ5AfcUnMECFQw8y90weQK7srHLhHSJAzs94u8msMcApqbdI8AolQEd2yST44C7AiqNK58eG6z9E+e2vMIUVQIqW24lZujJA6BBsAhMgKMAs2KNJiKgSQEfPbMTZRzJAQdfQtzO6NUCeNOVGP08hQH6uqRTtMCPAMxo7Wqh3FUAjLM3v9YodwIUdyMRSQeG/6/Sf+gTtJMDxhIzTfE4swKk8dOz6zA7AfXeQa9d7NUBExGojGywnwJG/MOBZJDJAz6781+oWNUDIu0zWuCY0QE7oE6BamC1A8Wz83RgbLEBCfExBEBU0wAGfmVWh3Q/A5ZoDF1xSIkDfj3jl7PArQG4Tl98X/BTA/eIa4YMaCEC4B6nYZk3FvxZaO5koCx/A++saNXBT+r9tjcVJaAAkwPRBGI95PjPANGjdcLDwIsClhQM2JHwQwANNddFYdhfA9rGUUpIBMcCcJVhZt+QrQIUlpSHIkTJAUZIo/18xI8BWwB7pyx8gwFhXLOq3MyxA+gEh2na6McCf8E47Gc8uQFCfQ9NqYxHAY5cYMKjQKcBqve6GtsUwQF5QhCmakyHAakPGIB5mEUA+It10/b0pQLgNZd2HwRPA9MS3Re7tIUDUGv2z9i4jwKog9UGmSvY/W+a3PhDkHcD/E+t+fs8yQCen3ojDWR7AT+H6kI7ALECG0q04G7MfQI6ENUCI8hzAOu+xBmiWNMD11LC0AJYjwNU5p8ZGtDBAx7xxQ383K8CLvQGRkc8oQNVIMP9mKSVAhrVcxbmlJ0DCbuxnu9gXwPtCpLnYoinANyQwZ6RMI8AWJKRv+e33v9RH7jEK8iBAZO6B+o9EJMDMvqG0MKsqQPd5iakbmfi/oAGsp77XGkBslNPT2n01QFM9m5S8VyLApgMy6YjuK0CdCtLrDToewAkGZACJpi7AXvx6vHpBEEABPTDOsvMjwJPyuZB7cxPANDndkB0WI8Ch6M54cessQLYBCN+HfyFA9qjpGk6B4z+PwrfSwg05wPF7OZ0I/zHAdLmDYkmy/7868VhZE9kowBtS9VVisSBAnstp822kIMDKaHbNFk0iwL748ynzQQzAxO3WLp3IIUAuP42yCVIAQNtUyEfaYg5AahQJaoxeMcAVmrlmb+kYwF8QW2ZeMPy/9HdtWD45A8DMaaIeyBoSQHDVFD7enhFA0SD3uSziI0B/AQhSyeXjPxJyEBfZmhzAKNTddfHhIsA9Sj7vA6oKwNjrIlF3RN2/7vbNjBgI078TOo0qh2gxQCPFLgM1FCrAjK5E3jwgBUAGwE+no6ktQEnsdkAWxxVAriRaTXcDM8DgJkO3vDYkwJW4wwxtrzDAMWeW+YD6EMCxEY3+bGsowByCXhBt4wDAtI6H/d4UK8CGgutWyDozwGvQZzR6yynAa8bvilfpJ8CfRMSLOwEBwNBcivTAgDFAQ1J7D6n7E8CFN21Li4M1QLW78ZciLSvAZy+nCupMBUBIfQpOQb34P+HHOdKYEyzAZCuur5eEKMDfHDbmZFsJwMnkcTSjjBFAXKptOaP2KkBe2x7XIUUwQPz6ZlirAQ9AKNtb9imxKUD5nqVOv+QoQCLRT5zfiRrAs761691NHMB3NH38tVEwwG920MGfzBfAyrRG7+fHIUCckeKgYaQgwEcb8TTiNRHAAYAy380s0z8I25zy7zrfvzpfYJv1by9AZcYta89xD8AEoQll2CoWwOwQHLYibv2/Wb0ZOjPCG0BCs8rTn5AyQJB/j+Bs6SZA6BAWevIjMkA+J67kLZEfwGNsYr2wki5ApP9CoarJMkA4+m9ijvUdwMvtl4SCjx/AgaWlnsEFIUAn0i52a3cDwCjBMAKsF9E/UOb6DdFpNEDkiXSAjDwcwIVU5OKwkyRAY1fCL6oDM8BUdgTKPKEewAcDuMUwwzPA6Q3PO4U9MsDAKwsERNUmwFcvrQ3jLxPAK1jmozzvMMDb1ACSzM0WQAyT5kxsAb6/8z7vnpH0HcDgGV7kkJMjwMi4Ky/U1C9AX/z6oScIIcCAfP4PjTTWP872D2cv9APAOCgQKvAcFkD59N+ueVUqQDc6GNiVnS7AjxHhlXjREUBpKSEyqb4kwEiS2iQw2RJASK5WRc5v9z+/ILoCgV4jwIywWpaM+gRAb2RYdrjwD8BGNocxJ2/RPyTMZpnrGzDA4ptZgf7QHsBGN6Czd/0fwHC2L4QRlgRA6GxvtxsFJkDVojvdfQMtwBhroQo22ShAh6QAp9VmKkByr5mUbcMSQJ1nGomagijAdCiYHeWoKsCE7/f9KTcMQL4jlNb0CzHALXbwpBUOI8B/j+qVKl0yQJZqS8X04iXAvjKjMfOoIsBK9BhdUs0pwHugkAxYqQrAdNfSQebBLsCM6wPdl6wnQN9DabLMBRrAi94z0qkCJcCxc2aNu4EyQAO8ej1xbydAAoMo4RLZGMC+ksLVGMwqQOLUIsrg5CDA3emVD3zpJsCRB3Sl/T0nQHTf0VwsZSrAp1MqR6hQKUC9p56ZFgs0wEMg/RytjhBAsaRwtL8JJkACXvt3a+YJQAk7CXSozilAQlvcjYH8EUCME14tLcP3PxjkA/a2izJAxK53LgCYF8C/3EkjGx80QCKpl8CqHhpAlF+cJUtYKEAkM7vIosIMwK07cIovDSVA3c5lS89jC0CcQLnFMnMiQJw+t0m39BRAJQWnB8sEKUByrG5IuXQiQDRBKjE0xeU/BKx8565gMsCri5w/NekvwCKwN/lfNARAOqbvdVBr5z+XnPpBjTwwQPvaUmIMEfm/ja7HkV33HMCq3TtSJG8kQBwCoKAVSwJAbBA5FCbNNMBj+EVgi0cqwPTeUWA5IxPAN4PP6eA0McDQpUo88wYDwD3wITnqARFA7zSKZ6TaMMDbeyQ3VM8kwEHL7w3WkR7AUSasCxcsDMA7lultcZcvQCzHxPE99gDAwmWbxP7vIUAPHkwXGzUgQO9ZsNRyeTJAvFr+V9OMAMCr9gvPu7QxwDubRoAkuSrApKEwaoovKcDm24JzLlESwKmbkwHh9C3AMm4ILhezJ0AAOZaqgK+ivwBOlvZu14W/pkAXMxesMcDlKIt8VhQtwI1hBuKgEv8/v9Fuy65BMMAX4KaTBsEkwP/9vo2IwSzA73HzZ7sMJ0CAGqpF86kSQGA/TWbO6jBAjh/5NsRuCUDVMWXYZogKQHKPF0MOg/u/ON02+q6YJkCBvDHHJ2EaQHzmE0RlrBHANyHgpUmKKEDPKzOi3iYtwG7xQQOM0hjA/NmUKLDwMUDTL+1PywwnQGqR8dHX7TVAya+4NRFt2b9kH4Kup9UDQDDPG13wMjPAdlITEOV1CkC53bltL6wcwNKmooR4RRtAq4ljmc7UK8BW6vVB+pgyQFJbaUru7QDAnKnrCAXGIMDmP3QIXAk1QJia/wgS3SpAo4krv/y3M0A660gJMC0wQIb6JBO6s/Y/YPq58/v1GEB8AQVFixQiwL/S3yQwAxvAjytzupoyKUCs/NJelyonQBgeTxLqkBtAI/IGLaNLI0DGSpm7x5cywPjDuHqiDwnAmaB22Nv2B0CraiWDOmgrQII7YlpEsCXA9jeMpaG4JkBUNT4EhLcWwBekA9Y9fQPA37u0lGk5J0CvreyAv5kxwB/OZ3dZPRfAMXCoEC2eHkC/GnrTuJcZwMVxGTYmCDDA6dd8uigHHkCLXK8dTkwuwC+FK6RkGTFAE//x5f4HMcC3TDpijWztP427NjSRLBpANbCytfuyKMAuVp52APQvwPHYWRqJJDBAnma+jJtOMEDM5W0xOu8hQLN1kL46MAZA56bXmhTENEAICXcCFPkbQN6CiF6ONyVAP5iKAMTb9D9yprlhhGD2P262bSFRVyZA71K2QdD7IcDWQIx9TdYwwHEM98Uwzh9ArFwQzeanCMA/6ROYdJcvQDC3yR/19xtAkgGh6oZMCkAKmRcomRgbQHbAoGgLjjPAXIBT4RYU6j8iwWP5PVwtQBvG1IKtCPy/xLkrvpxf0T8S2u6/Wo8mQP2KClmBDipARdG1wtSVKsCSa4RNNjIgQBxuZzGxGSHAjG0EDpkjJUAOMSJtZFjTv/xoAWF82CTAILQeoDKRM0AM6Xb2xtHrP2V/7rvprRNAHuZ56JyP/78EMOiyVWcqQH9Udga6lBBALsEQEYofMkAuJMl24pAhQIjjgPBdqSxAJ4Tlx/UzJUA12qNToyMIwBF/bHBqSy7AIppWLbkYCsAxn2Ew6LLmP/wlEliNEC/AeISZAP07+7/EIAMkVYczQAZIMQBnayFAUbWnjwgJKsBQI7WnbdAywHRhzamFiCJAQvWcelvvMUCl7lZlWqgmQMzn6Q3obyFArCghekfwLcBPXt5FZyMqQDWbLiljsRHAYteUoJ4TJkCUwnz5GTQVwPQvnhJlVgzA00vOCqt8GMASW1/VTTMwwHtzDlyKeSNAaV67RyjyJUDFpNbNhXItwH9YkPV18AbAbXuiRaHdF8AQPHshdaoiQMlxJ28faiJAIvlKKqm+MMBE5jdegXsfQCBW6rpOEqw/AIQxcMRWFMCFL8dd28scQG0dZh/zCSdAdgISJsg8GMDiCBT6RPcqQC2HpeiOnCpAFiwxabMtLEBxSsTsxFcsQHOUdh6vPBFAoaVTB6AnL0AQgMnLF7LUv4FEX7YdEjJARdWebsTMIkDP28EjxRc0wHpceeVCQRbA8U86hrNwK8CXkNBzBWgUQNBTPMyj6iBAQerwQRUdGUDafWyN+mAcwPKdUX1EWh7A0U5sMQ+SEcCS/9nDvVAqQOIkQQ1EhgNAUu1F573LF8BwvtUzRPASQAJ9Qtm6cwbAZ7Ey9ng6MkBg4GN6A1EdwBBG8A0fDTVA16XK7dr8FEAn/ZJZjUohwKsJO+og8DDAKsFjsz1oEkA876Sb2YY0wFO+ZinTPSnA03PIPztYL8Du2nAy04szwPop39/stfE/a5uQUgA/F0BIbhz4dsQlQJYfKZLxFxpA9OEKxB19L0BrXy/+6SImQFujLvF7PTJAOEIT8CZWK8CgzfJ2RT/xP7rnk4/YRhTA44rH8aBFLMA7Ael2Eg8TQIC5/WarqA5A+2sTC20xIsBxWN8/fHkQwFlk+lwcuBRAjjkHdtFmHUAG4NQ4jJ4lwJfD/1v/8zNAf+gp8MExJEC8lxM2MvEwwI82izp0XCvAhZqWGi6DKMAwWlGowBciwEWjPjcr9RBAXr1pzQ7h2L8MmMDKRnwjQCF7HltjHBLATEZetNu8FkAClz75zuohwMRkOBWW3BhACIRMUldNF8DwTB/lejj/P3VFEEhROvm/D6ZFhpONLEDxO3Hyh2cqQER4DxDpjCdA++MRO+fNIsDGyR7NO33uv5CDC0OoViRAM5Y2HCbJLcDVseDrPvwBQP9FpQDzuDFAfbCO1Q5PJ8C2umDvDEoxQKBAwkUdyRPAoXZM5l+VMMAp43NDYEkvwAfRAs/SSjBAOnsLg3UZxz/Qu7/2zbccQPwCnKx2KQ9ARlVeOM+NC8CsOReT5covQDmHIVM1gSfAOVZG9RHAEcB0WDfP4in6v7EHkXOadh5ACF45rvKELUD+vVXWs58PwI/At5rktjjAEoOZosuKJcC3LHOgPsrsP7EFCp8/tjRA6zsa0Dy/JsBeQAB6onMtQPBP2UCHtDDATyYjJT0CEUAGHLrkbxMjQITzuAN16DBAbOLlUPDQLsAm8V47fiAmQKbj/53sZyVAFlmxE8eF/7/wqyVkN0EywEFfoN1TWyXApOR8aeR6zD+qJPYmS38NwAKcppaAKxdAn1vFToM2E0B9P2XrMDYtQNreok7MJy/AsBNbJ8WuBUAzKWF05fErQEga00amNSTAySb9PX7UKsDYbhBX1J8wwHirjDpVgh9A54IkJi0mAUCCYjTL4GfyP3Yx3vtNtgBAon9EPFVmH0DCYzi8/uj7P+WVgbIXAyfAJ+eIiIK0MsA9Jrzpp70wQFpuuoYnEiPA6CNMmj1YI8CeJqifqXspQPbUgjRx6gvAg21x/UEUIcAAiFiBjqPvvwMs91utCfg/iM2JEGP+BED9pQo7+WcIQH7ueh2QLPs/1iSyZrNPE8DOAf4tiD4TwHibz8nPMyLA57bIsQmdHUAcHCfjCKcRwJ1R7JCPtSHAXdnqaWxwHcBT4lAj4Hbxvz3J9+ZQRDBAOjDz3x2KKECxefDa2NwFQFDbf43tdy3AJAj/QvtE8L/UA8pmLjEKQJHim+NWVTJAqrwCa4cJGMB/YmOnLy4uwPaOHNtNu+o/6HxnzR3HJsCxA+c2qiw0QMwYYQHasiPA7fsu9DDsMsBtf70X7n8oQOGwgmoWcRpAK92ku+BZOcBBxOhPHtshQO3ln7wmDifAhQM42aPHGMCHfHn4kqcbQMPeFabGLDRA36ds/XP+JMC4zCzVbVb7Pxt2DxZQRR9AlUH9PCvhM0CN9HVfsxkBwPL33RMbZe4/58D4kzJOJ8C7ZcZHirEfQLg/ncC55irAGvBrlmxQIkBejLyflfYRQMcLueEPQRZA0+DCpOmMBMAcPr53bp0oQIARiPPxzRJA1DBsJLgvHMA=\",\"dtype\":\"float64\",\"shape\":[1000]}}},\"id\":\"e75d8f5b-64f1-43f8-97e6-ccc2ed0cb937\",\"type\":\"ColumnDataSource\"},{\"attributes\":{\"fill_color\":{\"value\":\"#1f77b4\"},\"line_color\":{\"value\":\"#1f77b4\"},\"size\":{\"units\":\"screen\",\"value\":8},\"x\":{\"field\":\"x1\"},\"y\":{\"field\":\"x2\"}},\"id\":\"825c86aa-3d74-468f-a205-7f387b135ac6\",\"type\":\"Circle\"},{\"attributes\":{\"plot\":null,\"text\":\"word2vec T-SNE for most common words\"},\"id\":\"dfe15e76-6eb3-44cb-9283-6ad8e21e82e3\",\"type\":\"Title\"},{\"attributes\":{\"plot\":{\"id\":\"bad71f41-fd04-4431-bc1a-d62cfb5c23a8\",\"subtype\":\"Figure\",\"type\":\"Plot\"},\"ticker\":{\"id\":\"49efd721-daee-4e46-949a-a2ed47b5e157\",\"type\":\"BasicTicker\"}},\"id\":\"a7a8397b-68f8-4e69-9241-1bb13bd0e408\",\"type\":\"Grid\"},{\"attributes\":{},\"id\":\"8ac76f3a-6188-4914-bdfc-c10bb0aaf977\",\"type\":\"LinearScale\"},{\"attributes\":{\"active_drag\":\"auto\",\"active_inspect\":\"auto\",\"active_scroll\":\"auto\",\"active_tap\":\"auto\",\"tools\":[{\"id\":\"f54e6378-a7cf-4cea-bae7-b66fa7a602cf\",\"type\":\"PanTool\"},{\"id\":\"c3fbfd4b-0d54-4b56-9c88-23f577eb8332\",\"type\":\"WheelZoomTool\"},{\"id\":\"33b6d444-804a-4110-9ba1-e70d00e1fcec\",\"type\":\"ResetTool\"},{\"id\":\"2da1b4db-c293-419c-b0c9-d573c3575b07\",\"type\":\"SaveTool\"}]},\"id\":\"6ed07e7e-d4a0-4011-93c9-f3e0b7fac4ea\",\"type\":\"Toolbar\"},{\"attributes\":{\"formatter\":{\"id\":\"70753c4e-50d7-4a8c-89a7-7458075c3355\",\"type\":\"BasicTickFormatter\"},\"plot\":{\"id\":\"bad71f41-fd04-4431-bc1a-d62cfb5c23a8\",\"subtype\":\"Figure\",\"type\":\"Plot\"},\"ticker\":{\"id\":\"49efd721-daee-4e46-949a-a2ed47b5e157\",\"type\":\"BasicTicker\"}},\"id\":\"f3c3d3b0-b591-429c-9a33-dcc7638ee011\",\"type\":\"LinearAxis\"},{\"attributes\":{},\"id\":\"49efd721-daee-4e46-949a-a2ed47b5e157\",\"type\":\"BasicTicker\"},{\"attributes\":{\"formatter\":{\"id\":\"3f383e44-6d96-437e-b51a-5ae68bc1be9f\",\"type\":\"BasicTickFormatter\"},\"plot\":{\"id\":\"bad71f41-fd04-4431-bc1a-d62cfb5c23a8\",\"subtype\":\"Figure\",\"type\":\"Plot\"},\"ticker\":{\"id\":\"058fe817-c6a0-469c-89f7-17369c20212f\",\"type\":\"BasicTicker\"}},\"id\":\"52d052f6-0621-4c32-ba57-211e8f2846e7\",\"type\":\"LinearAxis\"},{\"attributes\":{},\"id\":\"9a3e2de7-0d0c-4f1f-9c00-93f84ff981c8\",\"type\":\"LinearScale\"},{\"attributes\":{},\"id\":\"058fe817-c6a0-469c-89f7-17369c20212f\",\"type\":\"BasicTicker\"},{\"attributes\":{\"dimension\":1,\"plot\":{\"id\":\"bad71f41-fd04-4431-bc1a-d62cfb5c23a8\",\"subtype\":\"Figure\",\"type\":\"Plot\"},\"ticker\":{\"id\":\"058fe817-c6a0-469c-89f7-17369c20212f\",\"type\":\"BasicTicker\"}},\"id\":\"82758d8e-d005-49eb-97aa-14a01b77e619\",\"type\":\"Grid\"},{\"attributes\":{\"source\":{\"id\":\"e75d8f5b-64f1-43f8-97e6-ccc2ed0cb937\",\"type\":\"ColumnDataSource\"}},\"id\":\"9bf2163e-2816-4cfe-b994-e712bcbf383c\",\"type\":\"CDSView\"},{\"attributes\":{},\"id\":\"f54e6378-a7cf-4cea-bae7-b66fa7a602cf\",\"type\":\"PanTool\"},{\"attributes\":{},\"id\":\"c3fbfd4b-0d54-4b56-9c88-23f577eb8332\",\"type\":\"WheelZoomTool\"},{\"attributes\":{},\"id\":\"33b6d444-804a-4110-9ba1-e70d00e1fcec\",\"type\":\"ResetTool\"},{\"attributes\":{},\"id\":\"2da1b4db-c293-419c-b0c9-d573c3575b07\",\"type\":\"SaveTool\"},{\"attributes\":{\"data_source\":{\"id\":\"e75d8f5b-64f1-43f8-97e6-ccc2ed0cb937\",\"type\":\"ColumnDataSource\"},\"glyph\":{\"id\":\"825c86aa-3d74-468f-a205-7f387b135ac6\",\"type\":\"Circle\"},\"hover_glyph\":null,\"muted_glyph\":null,\"nonselection_glyph\":{\"id\":\"35726d78-340c-414d-900e-348d32b57328\",\"type\":\"Circle\"},\"selection_glyph\":null,\"view\":{\"id\":\"9bf2163e-2816-4cfe-b994-e712bcbf383c\",\"type\":\"CDSView\"}},\"id\":\"1fb480cd-9657-412e-aded-14b081f0bf46\",\"type\":\"GlyphRenderer\"},{\"attributes\":{\"fill_alpha\":{\"value\":0.1},\"fill_color\":{\"value\":\"#1f77b4\"},\"line_alpha\":{\"value\":0.1},\"line_color\":{\"value\":\"#1f77b4\"},\"size\":{\"units\":\"screen\",\"value\":8},\"x\":{\"field\":\"x1\"},\"y\":{\"field\":\"x2\"}},\"id\":\"35726d78-340c-414d-900e-348d32b57328\",\"type\":\"Circle\"}],\"root_ids\":[\"bad71f41-fd04-4431-bc1a-d62cfb5c23a8\"]},\"title\":\"Bokeh Application\",\"version\":\"0.12.10\"}};\n",
       "    var render_items = [{\"docid\":\"0f868acc-903e-43b3-8647-6a8be1b8090c\",\"elementid\":\"e96dea49-1c70-4bc7-8bb7-6c2e8d6adf02\",\"modelid\":\"bad71f41-fd04-4431-bc1a-d62cfb5c23a8\"}];\n",
       "\n",
       "    root.Bokeh.embed.embed_items(docs_json, render_items);\n",
       "  }\n",
       "\n",
       "  if (root.Bokeh !== undefined) {\n",
       "    embed_document(root);\n",
       "  } else {\n",
       "    var attempts = 0;\n",
       "    var timer = setInterval(function(root) {\n",
       "      if (root.Bokeh !== undefined) {\n",
       "        embed_document(root);\n",
       "        clearInterval(timer);\n",
       "      }\n",
       "      attempts++;\n",
       "      if (attempts > 100) {\n",
       "        console.log(\"Bokeh: ERROR: Unable to embed document because BokehJS library is missing\")\n",
       "        clearInterval(timer);\n",
       "      }\n",
       "    }, 10, root)\n",
       "  }\n",
       "})(window);"
      ],
      "application/vnd.bokehjs_exec.v0+json": ""
     },
     "metadata": {
      "application/vnd.bokehjs_exec.v0+json": {
       "id": "bad71f41-fd04-4431-bc1a-d62cfb5c23a8"
      }
     },
     "output_type": "display_data"
    }
   ],
   "source": [
    "p = figure(tools=\"pan,wheel_zoom,reset,save\",\n",
    "           toolbar_location=\"above\",\n",
    "           title=\"word2vec T-SNE for most common words\")\n",
    "\n",
    "source = ColumnDataSource(data=dict(x1=words_top_wiki_tsne[:,0],\n",
    "                                    x2=words_top_wiki_tsne[:,1],\n",
    "                                    names=words_top_wiki))\n",
    "\n",
    "p.scatter(x=\"x1\", y=\"x2\", size=8, source=source)\n",
    "\n",
    "labels = LabelSet(x=\"x1\", y=\"x2\", text=\"names\", y_offset=6,\n",
    "                  text_font_size=\"8pt\", text_color=\"#555555\",\n",
    "                  source=source, text_align='center')\n",
    "p.add_layout(labels)\n",
    "\n",
    "show(p)"
   ]
  },
  {
   "cell_type": "code",
   "execution_count": null,
   "metadata": {
    "collapsed": true
   },
   "outputs": [],
   "source": []
  }
 ],
 "metadata": {
  "anaconda-cloud": {},
  "kernelspec": {
   "display_name": "Python 3",
   "language": "python",
   "name": "python3"
  },
  "language_info": {
   "codemirror_mode": {
    "name": "ipython",
    "version": 3
   },
   "file_extension": ".py",
   "mimetype": "text/x-python",
   "name": "python",
   "nbconvert_exporter": "python",
   "pygments_lexer": "ipython3",
   "version": "3.6.0"
  }
 },
 "nbformat": 4,
 "nbformat_minor": 1
}
